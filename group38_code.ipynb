{
 "cells": [
  {
   "cell_type": "markdown",
   "metadata": {
    "colab_type": "text",
    "id": "view-in-github"
   },
   "source": [
    "<a href=\"https://colab.research.google.com/github/cooeoeooc/2178_g38/blob/main/group38_code.ipynb\" target=\"_parent\"><img src=\"https://colab.research.google.com/assets/colab-badge.svg\" alt=\"Open In Colab\"/></a>"
   ]
  },
  {
   "cell_type": "code",
   "execution_count": 65,
   "metadata": {
    "id": "ywkyosyCl_b8"
   },
   "outputs": [],
   "source": [
    "import pandas as pd\n",
    "import numpy as np"
   ]
  },
  {
   "cell_type": "markdown",
   "metadata": {
    "id": "CDxiVqJ8D4nK"
   },
   "source": [
    "# Data Preprocessing and Cleaning"
   ]
  },
  {
   "cell_type": "code",
   "execution_count": 66,
   "metadata": {
    "id": "0Ufb4Yt6lcVW"
   },
   "outputs": [],
   "source": [
    "def test_na_num(df):\n",
    "    for column in df:\n",
    "        print(sum(df[column].isna()), column)"
   ]
  },
  {
   "cell_type": "code",
   "execution_count": 67,
   "metadata": {
    "id": "Rzs6mxyA2KGj"
   },
   "outputs": [],
   "source": [
    "data = pd.read_csv(\"Arrests_and_Strip_Searches_(RBDC-ARR-TBL-001).csv\")"
   ]
  },
  {
   "cell_type": "code",
   "execution_count": 68,
   "metadata": {
    "colab": {
     "base_uri": "https://localhost:8080/"
    },
    "id": "GOyLMSWycpXV",
    "outputId": "1ffd819e-9f16-434d-902a-2912ea60079f"
   },
   "outputs": [
    {
     "name": "stdout",
     "output_type": "stream",
     "text": [
      "0 Arrest_Year\n",
      "0 Arrest_Month\n",
      "0 EventID\n",
      "469 ArrestID\n",
      "0 PersonID\n",
      "4 Perceived_Race\n",
      "0 Sex\n",
      "24 Age_group__at_arrest_\n",
      "0 Youth_at_arrest__under_18_years\n",
      "0 ArrestLocDiv\n",
      "0 StripSearch\n",
      "0 Booked\n",
      "165 Occurrence_Category\n",
      "0 Actions_at_arrest___Concealed_i\n",
      "0 Actions_at_arrest___Combative__\n",
      "0 Actions_at_arrest___Resisted__d\n",
      "0 Actions_at_arrest___Mental_inst\n",
      "0 Actions_at_arrest___Assaulted_o\n",
      "0 Actions_at_arrest___Cooperative\n",
      "57475 SearchReason_CauseInjury\n",
      "57475 SearchReason_AssistEscape\n",
      "57475 SearchReason_PossessWeapons\n",
      "57475 SearchReason_PossessEvidence\n",
      "57475 ItemsFound\n",
      "0 ObjectId\n"
     ]
    }
   ],
   "source": [
    "test_na_num(data)"
   ]
  },
  {
   "cell_type": "code",
   "execution_count": 69,
   "metadata": {
    "colab": {
     "base_uri": "https://localhost:8080/"
    },
    "id": "cV3YknK52WL3",
    "outputId": "2b3f5914-4273-4450-f708-802b62419c07"
   },
   "outputs": [
    {
     "name": "stdout",
     "output_type": "stream",
     "text": [
      "Arrest_Year\n",
      "Arrest_Month\n",
      "EventID\n",
      "ArrestID\n",
      "PersonID\n",
      "Perceived_Race\n",
      "Sex\n",
      "Age_group__at_arrest_\n",
      "Youth_at_arrest__under_18_years\n",
      "ArrestLocDiv\n",
      "StripSearch\n",
      "Booked\n",
      "Occurrence_Category\n",
      "Actions_at_arrest___Concealed_i\n",
      "Actions_at_arrest___Combative__\n",
      "Actions_at_arrest___Resisted__d\n",
      "Actions_at_arrest___Mental_inst\n",
      "Actions_at_arrest___Assaulted_o\n",
      "Actions_at_arrest___Cooperative\n",
      "SearchReason_CauseInjury\n",
      "SearchReason_AssistEscape\n",
      "SearchReason_PossessWeapons\n",
      "SearchReason_PossessEvidence\n",
      "ItemsFound\n",
      "ObjectId\n",
      "0 Arrest_Year\n",
      "0 Arrest_Month\n",
      "0 EventID\n",
      "469 ArrestID\n",
      "0 PersonID\n",
      "4 Perceived_Race\n",
      "0 Sex\n",
      "24 Age_group__at_arrest_\n",
      "0 Youth_at_arrest__under_18_years\n",
      "0 ArrestLocDiv\n",
      "0 StripSearch\n",
      "0 Booked\n",
      "165 Occurrence_Category\n",
      "0 Actions_at_arrest___Concealed_i\n",
      "0 Actions_at_arrest___Combative__\n",
      "0 Actions_at_arrest___Resisted__d\n",
      "0 Actions_at_arrest___Mental_inst\n",
      "0 Actions_at_arrest___Assaulted_o\n",
      "0 Actions_at_arrest___Cooperative\n",
      "57475 SearchReason_CauseInjury\n",
      "57475 SearchReason_AssistEscape\n",
      "57475 SearchReason_PossessWeapons\n",
      "57475 SearchReason_PossessEvidence\n",
      "57475 ItemsFound\n",
      "0 ObjectId\n"
     ]
    }
   ],
   "source": [
    "data[0:5] # viewing data before pre-processing and cleaning\n",
    "for feature in data.columns:\n",
    "  print(feature)\n",
    "\n",
    "test_na_num(data)"
   ]
  },
  {
   "cell_type": "code",
   "execution_count": 70,
   "metadata": {
    "id": "c2eFoN94cpXW"
   },
   "outputs": [],
   "source": [
    "data=data.dropna(subset=['ArrestID','Age_group__at_arrest_','Perceived_Race','Occurrence_Category'])\n",
    "data=data.fillna(0)"
   ]
  },
  {
   "cell_type": "code",
   "execution_count": 71,
   "metadata": {
    "colab": {
     "base_uri": "https://localhost:8080/"
    },
    "id": "qYdLRmdtcpXX",
    "outputId": "5527974a-7fc2-4e79-e320-8eb9d4d8058c"
   },
   "outputs": [
    {
     "name": "stdout",
     "output_type": "stream",
     "text": [
      "0 Arrest_Year\n",
      "0 Arrest_Month\n",
      "0 EventID\n",
      "0 ArrestID\n",
      "0 PersonID\n",
      "0 Perceived_Race\n",
      "0 Sex\n",
      "0 Age_group__at_arrest_\n",
      "0 Youth_at_arrest__under_18_years\n",
      "0 ArrestLocDiv\n",
      "0 StripSearch\n",
      "0 Booked\n",
      "0 Occurrence_Category\n",
      "0 Actions_at_arrest___Concealed_i\n",
      "0 Actions_at_arrest___Combative__\n",
      "0 Actions_at_arrest___Resisted__d\n",
      "0 Actions_at_arrest___Mental_inst\n",
      "0 Actions_at_arrest___Assaulted_o\n",
      "0 Actions_at_arrest___Cooperative\n",
      "0 SearchReason_CauseInjury\n",
      "0 SearchReason_AssistEscape\n",
      "0 SearchReason_PossessWeapons\n",
      "0 SearchReason_PossessEvidence\n",
      "0 ItemsFound\n",
      "0 ObjectId\n"
     ]
    }
   ],
   "source": [
    "test_na_num(data)"
   ]
  },
  {
   "cell_type": "code",
   "execution_count": 72,
   "metadata": {
    "id": "e7DmZ_cLcpXX"
   },
   "outputs": [],
   "source": [
    "#rearrange searchreasons, the attributes contains 5 values, 0 means no search reason, 1 means one search reason, etc.\n",
    "data['SearchReason']=data['SearchReason_CauseInjury']+data['SearchReason_AssistEscape']+data['SearchReason_PossessWeapons']+data['SearchReason_PossessEvidence']"
   ]
  },
  {
   "cell_type": "code",
   "execution_count": 73,
   "metadata": {
    "id": "bgsu2WYUcpXY"
   },
   "outputs": [],
   "source": [
    "data['Actions_at_arrest___Cooperative'] = data['Actions_at_arrest___Cooperative'].replace({0: 1, 1: 0})\n",
    "# exchange 0 and 1, 0 means cooperative, 1 means otherwise."
   ]
  },
  {
   "cell_type": "code",
   "execution_count": 74,
   "metadata": {
    "id": "ZcctAkdecpXY"
   },
   "outputs": [],
   "source": [
    "##rearrange action at arrest, the attributes contains 4 values, 0 means cooperative, 1 means have one action that is not cooperative, etc.\n",
    "data['Actions_at_arrest']=data['Actions_at_arrest___Concealed_i']+data['Actions_at_arrest___Combative__']+data['Actions_at_arrest___Resisted__d']+data['Actions_at_arrest___Mental_inst']+data['Actions_at_arrest___Assaulted_o']+data['Actions_at_arrest___Cooperative']"
   ]
  },
  {
   "cell_type": "code",
   "execution_count": 75,
   "metadata": {
    "colab": {
     "base_uri": "https://localhost:8080/"
    },
    "id": "vsWIup1bcpXY",
    "outputId": "629494eb-e1d9-41c1-cced-f1aa9cefc93e"
   },
   "outputs": [
    {
     "data": {
      "text/plain": [
       "array([0, 1, 3, 2, 4])"
      ]
     },
     "execution_count": 75,
     "metadata": {},
     "output_type": "execute_result"
    }
   ],
   "source": [
    "data['Actions_at_arrest'].unique()"
   ]
  },
  {
   "cell_type": "code",
   "execution_count": 76,
   "metadata": {
    "id": "D72rmS7CcpXY"
   },
   "outputs": [],
   "source": [
    "#rearrange actions at arrest, the attributes contains 5 values, 0 means no search reason, 1 means one search reason, etc.\n"
   ]
  },
  {
   "cell_type": "code",
   "execution_count": 77,
   "metadata": {
    "id": "vdlsKp7UcpXZ"
   },
   "outputs": [],
   "source": [
    "#from here, start deal with occurance categories"
   ]
  },
  {
   "cell_type": "code",
   "execution_count": 78,
   "metadata": {
    "colab": {
     "base_uri": "https://localhost:8080/"
    },
    "id": "xkCqHsipcpXZ",
    "outputId": "04b49b3e-13a4-40c0-d285-398b7da31bdc"
   },
   "outputs": [
    {
     "data": {
      "text/plain": [
       "array(['Assault & Other crimes against persons', 'Harassment/Threatening',\n",
       "       'FTA/FTC/Compliance Check/Parollee', 'Assault', 'Robbery/Theft',\n",
       "       'Sexual Related Crime', 'Mischief & Fraud', 'Warrant',\n",
       "       'Police Category - Administrative',\n",
       "       'FTA/FTC, Compliance Check & Parollee', 'Drug Related', 'Weapons',\n",
       "       'Vehicle Related (inc. Impaired)', 'Other Offence',\n",
       "       'Harassment & Threatening', 'Weapons & Homicide',\n",
       "       'Robbery & Theft', 'Break and Enter', 'Mischief', 'Break & Enter',\n",
       "       'Sexual Related Crimes & Crimes Against Children',\n",
       "       'Crimes against Children', 'Police Category - Incident', 'Fraud',\n",
       "       'LLA', 'Mental Health', 'Other Statute', 'Vehicle Related',\n",
       "       'Other Statute & Other Incident Type', 'Impaired', 'Homicide'],\n",
       "      dtype=object)"
      ]
     },
     "execution_count": 78,
     "metadata": {},
     "output_type": "execute_result"
    }
   ],
   "source": [
    "data['Occurrence_Category'].unique()"
   ]
  },
  {
   "cell_type": "code",
   "execution_count": 79,
   "metadata": {
    "id": "VZSMfVPMo-OB"
   },
   "outputs": [],
   "source": [
    "dict_for_replace={'Assault & Other crimes against persons':0,\n",
    "                  'Assault':0,\n",
    "                 'Robbery & Theft':1,\n",
    "                 'Robbery/Theft':1,\n",
    "                 'Warrant':2,\n",
    "                 'FTA/FTC/Compliance Check/Parollee':3,\n",
    "                 'FTA/FTC, Compliance Check & Parollee':3,\n",
    "                 'Police Category - Administrative':4,\n",
    "                 'Drug Related':5}"
   ]
  },
  {
   "cell_type": "code",
   "execution_count": 80,
   "metadata": {
    "id": "rBN5E6q4cpXZ"
   },
   "outputs": [],
   "source": [
    "data['Occurrence_Category']=data['Occurrence_Category'].replace(dict_for_replace)"
   ]
  },
  {
   "cell_type": "code",
   "execution_count": 81,
   "metadata": {
    "colab": {
     "base_uri": "https://localhost:8080/"
    },
    "id": "nbT63tVYcpXZ",
    "outputId": "5ec4565c-1d9d-4a14-ff6c-4c504507c9d7"
   },
   "outputs": [
    {
     "data": {
      "text/plain": [
       "0                             0\n",
       "1                             0\n",
       "2                             0\n",
       "3        Harassment/Threatening\n",
       "4                             3\n",
       "                  ...          \n",
       "65271           Vehicle Related\n",
       "65272                         0\n",
       "65273                         0\n",
       "65274                         1\n",
       "65275                  Mischief\n",
       "Name: Occurrence_Category, Length: 64615, dtype: object"
      ]
     },
     "execution_count": 81,
     "metadata": {},
     "output_type": "execute_result"
    }
   ],
   "source": [
    "data['Occurrence_Category']"
   ]
  },
  {
   "cell_type": "code",
   "execution_count": 82,
   "metadata": {
    "id": "hX2o9_uXcpXa"
   },
   "outputs": [],
   "source": [
    "data['Occurrence_Category'] = data['Occurrence_Category'].where(data['Occurrence_Category'].isin(list(dict_for_replace.values()))==True, 6)\n",
    "#7 means others"
   ]
  },
  {
   "cell_type": "code",
   "execution_count": 83,
   "metadata": {
    "colab": {
     "base_uri": "https://localhost:8080/"
    },
    "id": "3GLbLPdFcpXa",
    "outputId": "e7f20300-3940-4aac-a4e4-b20dba38efc8"
   },
   "outputs": [
    {
     "data": {
      "text/plain": [
       "0        0\n",
       "1        0\n",
       "2        0\n",
       "3        6\n",
       "4        3\n",
       "        ..\n",
       "65271    6\n",
       "65272    0\n",
       "65273    0\n",
       "65274    1\n",
       "65275    6\n",
       "Name: Occurrence_Category, Length: 64615, dtype: object"
      ]
     },
     "execution_count": 83,
     "metadata": {},
     "output_type": "execute_result"
    }
   ],
   "source": [
    "data['Occurrence_Category']"
   ]
  },
  {
   "cell_type": "code",
   "execution_count": 84,
   "metadata": {
    "id": "bG-RbeW_Coz4"
   },
   "outputs": [],
   "source": [
    "data = data[[\"Arrest_Year\", \"Arrest_Month\", \"Perceived_Race\", \"Sex\", \"Age_group__at_arrest_\", \"Youth_at_arrest__under_18_years\", \"StripSearch\",'Booked', \"Occurrence_Category\", \"ItemsFound\",\"SearchReason\",'Actions_at_arrest']]\n",
    "data = data.dropna(subset = [\"Perceived_Race\", \"Age_group__at_arrest_\", \"Occurrence_Category\"])\n"
   ]
  },
  {
   "cell_type": "code",
   "execution_count": 85,
   "metadata": {
    "colab": {
     "base_uri": "https://localhost:8080/",
     "height": 287
    },
    "id": "QemuBwyOcpXa",
    "outputId": "e7093a65-efe6-408b-deda-03d482423f74"
   },
   "outputs": [
    {
     "data": {
      "text/html": [
       "<div>\n",
       "<style scoped>\n",
       "    .dataframe tbody tr th:only-of-type {\n",
       "        vertical-align: middle;\n",
       "    }\n",
       "\n",
       "    .dataframe tbody tr th {\n",
       "        vertical-align: top;\n",
       "    }\n",
       "\n",
       "    .dataframe thead th {\n",
       "        text-align: right;\n",
       "    }\n",
       "</style>\n",
       "<table border=\"1\" class=\"dataframe\">\n",
       "  <thead>\n",
       "    <tr style=\"text-align: right;\">\n",
       "      <th></th>\n",
       "      <th>Arrest_Year</th>\n",
       "      <th>Arrest_Month</th>\n",
       "      <th>Perceived_Race</th>\n",
       "      <th>Sex</th>\n",
       "      <th>Age_group__at_arrest_</th>\n",
       "      <th>Youth_at_arrest__under_18_years</th>\n",
       "      <th>StripSearch</th>\n",
       "      <th>Booked</th>\n",
       "      <th>Occurrence_Category</th>\n",
       "      <th>ItemsFound</th>\n",
       "      <th>SearchReason</th>\n",
       "      <th>Actions_at_arrest</th>\n",
       "    </tr>\n",
       "  </thead>\n",
       "  <tbody>\n",
       "    <tr>\n",
       "      <th>0</th>\n",
       "      <td>2020</td>\n",
       "      <td>July-Sept</td>\n",
       "      <td>White</td>\n",
       "      <td>M</td>\n",
       "      <td>Aged 35 to 44 years</td>\n",
       "      <td>Not a youth</td>\n",
       "      <td>0</td>\n",
       "      <td>1</td>\n",
       "      <td>0</td>\n",
       "      <td>0.0</td>\n",
       "      <td>0.0</td>\n",
       "      <td>0</td>\n",
       "    </tr>\n",
       "    <tr>\n",
       "      <th>1</th>\n",
       "      <td>2020</td>\n",
       "      <td>July-Sept</td>\n",
       "      <td>White</td>\n",
       "      <td>M</td>\n",
       "      <td>Aged 35 to 44 years</td>\n",
       "      <td>Not a youth</td>\n",
       "      <td>0</td>\n",
       "      <td>1</td>\n",
       "      <td>0</td>\n",
       "      <td>0.0</td>\n",
       "      <td>0.0</td>\n",
       "      <td>1</td>\n",
       "    </tr>\n",
       "    <tr>\n",
       "      <th>2</th>\n",
       "      <td>2020</td>\n",
       "      <td>Oct-Dec</td>\n",
       "      <td>Unknown or Legacy</td>\n",
       "      <td>M</td>\n",
       "      <td>Aged 35 to 44 years</td>\n",
       "      <td>Not a youth</td>\n",
       "      <td>0</td>\n",
       "      <td>1</td>\n",
       "      <td>0</td>\n",
       "      <td>0.0</td>\n",
       "      <td>0.0</td>\n",
       "      <td>1</td>\n",
       "    </tr>\n",
       "    <tr>\n",
       "      <th>3</th>\n",
       "      <td>2021</td>\n",
       "      <td>Jan-Mar</td>\n",
       "      <td>Black</td>\n",
       "      <td>M</td>\n",
       "      <td>Aged 25 to 34 years</td>\n",
       "      <td>Not a youth</td>\n",
       "      <td>0</td>\n",
       "      <td>0</td>\n",
       "      <td>6</td>\n",
       "      <td>0.0</td>\n",
       "      <td>0.0</td>\n",
       "      <td>1</td>\n",
       "    </tr>\n",
       "    <tr>\n",
       "      <th>4</th>\n",
       "      <td>2021</td>\n",
       "      <td>Jan-Mar</td>\n",
       "      <td>South Asian</td>\n",
       "      <td>M</td>\n",
       "      <td>Aged 25 to 34 years</td>\n",
       "      <td>Not a youth</td>\n",
       "      <td>0</td>\n",
       "      <td>1</td>\n",
       "      <td>3</td>\n",
       "      <td>0.0</td>\n",
       "      <td>0.0</td>\n",
       "      <td>1</td>\n",
       "    </tr>\n",
       "  </tbody>\n",
       "</table>\n",
       "</div>"
      ],
      "text/plain": [
       "   Arrest_Year Arrest_Month     Perceived_Race Sex Age_group__at_arrest_  \\\n",
       "0         2020    July-Sept              White   M   Aged 35 to 44 years   \n",
       "1         2020    July-Sept              White   M   Aged 35 to 44 years   \n",
       "2         2020      Oct-Dec  Unknown or Legacy   M   Aged 35 to 44 years   \n",
       "3         2021      Jan-Mar              Black   M   Aged 25 to 34 years   \n",
       "4         2021      Jan-Mar        South Asian   M   Aged 25 to 34 years   \n",
       "\n",
       "  Youth_at_arrest__under_18_years  StripSearch  Booked Occurrence_Category  \\\n",
       "0                     Not a youth            0       1                   0   \n",
       "1                     Not a youth            0       1                   0   \n",
       "2                     Not a youth            0       1                   0   \n",
       "3                     Not a youth            0       0                   6   \n",
       "4                     Not a youth            0       1                   3   \n",
       "\n",
       "   ItemsFound  SearchReason  Actions_at_arrest  \n",
       "0         0.0           0.0                  0  \n",
       "1         0.0           0.0                  1  \n",
       "2         0.0           0.0                  1  \n",
       "3         0.0           0.0                  1  \n",
       "4         0.0           0.0                  1  "
      ]
     },
     "execution_count": 85,
     "metadata": {},
     "output_type": "execute_result"
    }
   ],
   "source": [
    "data.head()"
   ]
  },
  {
   "cell_type": "code",
   "execution_count": 86,
   "metadata": {
    "colab": {
     "base_uri": "https://localhost:8080/"
    },
    "id": "C-PzhOAYcpXa",
    "outputId": "5120b77f-bbcf-4b07-b3c8-04057e56d273"
   },
   "outputs": [
    {
     "data": {
      "text/plain": [
       "0        0\n",
       "1        0\n",
       "2        0\n",
       "3        6\n",
       "4        3\n",
       "        ..\n",
       "65271    6\n",
       "65272    0\n",
       "65273    0\n",
       "65274    1\n",
       "65275    6\n",
       "Name: Occurrence_Category, Length: 64615, dtype: object"
      ]
     },
     "execution_count": 86,
     "metadata": {},
     "output_type": "execute_result"
    }
   ],
   "source": [
    "data['Occurrence_Category']"
   ]
  },
  {
   "cell_type": "code",
   "execution_count": 87,
   "metadata": {
    "colab": {
     "base_uri": "https://localhost:8080/"
    },
    "id": "PMlZ59wYcpXa",
    "outputId": "4682de06-4f9a-4e5e-e400-94545a14fed8"
   },
   "outputs": [
    {
     "data": {
      "text/plain": [
       "array([0, 6, 3, 1, 2, 4, 5], dtype=object)"
      ]
     },
     "execution_count": 87,
     "metadata": {},
     "output_type": "execute_result"
    }
   ],
   "source": [
    "series = pd.Series(data['Occurrence_Category'])\n",
    "unique_values = series.unique()\n",
    "unique_values"
   ]
  },
  {
   "cell_type": "code",
   "execution_count": 88,
   "metadata": {
    "colab": {
     "base_uri": "https://localhost:8080/"
    },
    "id": "jh2bpoRlcpXb",
    "outputId": "6b6f6966-b712-44f9-c175-780aa559145e"
   },
   "outputs": [
    {
     "name": "stdout",
     "output_type": "stream",
     "text": [
      "0 Arrest_Year\n",
      "0 Arrest_Month\n",
      "0 Perceived_Race\n",
      "0 Sex\n",
      "0 Age_group__at_arrest_\n",
      "0 Youth_at_arrest__under_18_years\n",
      "0 StripSearch\n",
      "0 Booked\n",
      "0 Occurrence_Category\n",
      "0 ItemsFound\n",
      "0 SearchReason\n",
      "0 Actions_at_arrest\n"
     ]
    }
   ],
   "source": [
    "test_na_num(data)"
   ]
  },
  {
   "cell_type": "code",
   "execution_count": 89,
   "metadata": {
    "colab": {
     "base_uri": "https://localhost:8080/",
     "height": 287
    },
    "id": "mKwXfQWBcpXc",
    "outputId": "c3426ae6-ca3d-422d-cde4-3af176f9dc61"
   },
   "outputs": [
    {
     "data": {
      "text/html": [
       "<div>\n",
       "<style scoped>\n",
       "    .dataframe tbody tr th:only-of-type {\n",
       "        vertical-align: middle;\n",
       "    }\n",
       "\n",
       "    .dataframe tbody tr th {\n",
       "        vertical-align: top;\n",
       "    }\n",
       "\n",
       "    .dataframe thead th {\n",
       "        text-align: right;\n",
       "    }\n",
       "</style>\n",
       "<table border=\"1\" class=\"dataframe\">\n",
       "  <thead>\n",
       "    <tr style=\"text-align: right;\">\n",
       "      <th></th>\n",
       "      <th>Arrest_Year</th>\n",
       "      <th>Arrest_Month</th>\n",
       "      <th>Perceived_Race</th>\n",
       "      <th>Sex</th>\n",
       "      <th>Age_group__at_arrest_</th>\n",
       "      <th>Youth_at_arrest__under_18_years</th>\n",
       "      <th>StripSearch</th>\n",
       "      <th>Booked</th>\n",
       "      <th>Occurrence_Category</th>\n",
       "      <th>ItemsFound</th>\n",
       "      <th>SearchReason</th>\n",
       "      <th>Actions_at_arrest</th>\n",
       "    </tr>\n",
       "  </thead>\n",
       "  <tbody>\n",
       "    <tr>\n",
       "      <th>0</th>\n",
       "      <td>2020</td>\n",
       "      <td>July-Sept</td>\n",
       "      <td>White</td>\n",
       "      <td>M</td>\n",
       "      <td>Aged 35 to 44 years</td>\n",
       "      <td>Not a youth</td>\n",
       "      <td>0</td>\n",
       "      <td>1</td>\n",
       "      <td>0</td>\n",
       "      <td>0.0</td>\n",
       "      <td>0.0</td>\n",
       "      <td>0</td>\n",
       "    </tr>\n",
       "    <tr>\n",
       "      <th>1</th>\n",
       "      <td>2020</td>\n",
       "      <td>July-Sept</td>\n",
       "      <td>White</td>\n",
       "      <td>M</td>\n",
       "      <td>Aged 35 to 44 years</td>\n",
       "      <td>Not a youth</td>\n",
       "      <td>0</td>\n",
       "      <td>1</td>\n",
       "      <td>0</td>\n",
       "      <td>0.0</td>\n",
       "      <td>0.0</td>\n",
       "      <td>1</td>\n",
       "    </tr>\n",
       "    <tr>\n",
       "      <th>2</th>\n",
       "      <td>2020</td>\n",
       "      <td>Oct-Dec</td>\n",
       "      <td>Unknown or Legacy</td>\n",
       "      <td>M</td>\n",
       "      <td>Aged 35 to 44 years</td>\n",
       "      <td>Not a youth</td>\n",
       "      <td>0</td>\n",
       "      <td>1</td>\n",
       "      <td>0</td>\n",
       "      <td>0.0</td>\n",
       "      <td>0.0</td>\n",
       "      <td>1</td>\n",
       "    </tr>\n",
       "    <tr>\n",
       "      <th>3</th>\n",
       "      <td>2021</td>\n",
       "      <td>Jan-Mar</td>\n",
       "      <td>Black</td>\n",
       "      <td>M</td>\n",
       "      <td>Aged 25 to 34 years</td>\n",
       "      <td>Not a youth</td>\n",
       "      <td>0</td>\n",
       "      <td>0</td>\n",
       "      <td>6</td>\n",
       "      <td>0.0</td>\n",
       "      <td>0.0</td>\n",
       "      <td>1</td>\n",
       "    </tr>\n",
       "    <tr>\n",
       "      <th>4</th>\n",
       "      <td>2021</td>\n",
       "      <td>Jan-Mar</td>\n",
       "      <td>South Asian</td>\n",
       "      <td>M</td>\n",
       "      <td>Aged 25 to 34 years</td>\n",
       "      <td>Not a youth</td>\n",
       "      <td>0</td>\n",
       "      <td>1</td>\n",
       "      <td>3</td>\n",
       "      <td>0.0</td>\n",
       "      <td>0.0</td>\n",
       "      <td>1</td>\n",
       "    </tr>\n",
       "  </tbody>\n",
       "</table>\n",
       "</div>"
      ],
      "text/plain": [
       "   Arrest_Year Arrest_Month     Perceived_Race Sex Age_group__at_arrest_  \\\n",
       "0         2020    July-Sept              White   M   Aged 35 to 44 years   \n",
       "1         2020    July-Sept              White   M   Aged 35 to 44 years   \n",
       "2         2020      Oct-Dec  Unknown or Legacy   M   Aged 35 to 44 years   \n",
       "3         2021      Jan-Mar              Black   M   Aged 25 to 34 years   \n",
       "4         2021      Jan-Mar        South Asian   M   Aged 25 to 34 years   \n",
       "\n",
       "  Youth_at_arrest__under_18_years  StripSearch  Booked Occurrence_Category  \\\n",
       "0                     Not a youth            0       1                   0   \n",
       "1                     Not a youth            0       1                   0   \n",
       "2                     Not a youth            0       1                   0   \n",
       "3                     Not a youth            0       0                   6   \n",
       "4                     Not a youth            0       1                   3   \n",
       "\n",
       "   ItemsFound  SearchReason  Actions_at_arrest  \n",
       "0         0.0           0.0                  0  \n",
       "1         0.0           0.0                  1  \n",
       "2         0.0           0.0                  1  \n",
       "3         0.0           0.0                  1  \n",
       "4         0.0           0.0                  1  "
      ]
     },
     "execution_count": 89,
     "metadata": {},
     "output_type": "execute_result"
    }
   ],
   "source": [
    "data.head()"
   ]
  },
  {
   "cell_type": "markdown",
   "metadata": {
    "id": "od8QaFGkD-G4"
   },
   "source": [
    "# EDA – Visualizations"
   ]
  },
  {
   "cell_type": "code",
   "execution_count": 90,
   "metadata": {
    "colab": {
     "base_uri": "https://localhost:8080/",
     "height": 571
    },
    "id": "oz3plCcJBn7v",
    "outputId": "d6e0c8cf-c68d-42b1-ebfa-a3a5588a9785"
   },
   "outputs": [
    {
     "name": "stdout",
     "output_type": "stream",
     "text": [
      "White                   27407\n",
      "Black                   17352\n",
      "Unknown or Legacy        5002\n",
      "East/Southeast Asian     4388\n",
      "South Asian              3594\n",
      "Middle-Eastern           3213\n",
      "Indigenous               1907\n",
      "Latino                   1752\n",
      "Name: Perceived_Race, dtype: int64\n"
     ]
    },
    {
     "data": {
      "text/plain": [
       "<matplotlib.legend.Legend at 0x7f9b40581a20>"
      ]
     },
     "execution_count": 90,
     "metadata": {},
     "output_type": "execute_result"
    },
    {
     "data": {
      "image/png": "[encoded data removed]",
      "text/plain": [
       "<Figure size 640x480 with 1 Axes>"
      ]
     },
     "metadata": {},
     "output_type": "display_data"
    }
   ],
   "source": [
    "import matplotlib.pyplot as plt\n",
    "\n",
    "# Ordered strip searches by perceived race of arrested individual\n",
    "\n",
    "races = data.Perceived_Race.value_counts().index.tolist()\n",
    "race_counts = data.Perceived_Race.value_counts()\n",
    "print(race_counts)\n",
    "colours = {\"Everyone\": \"C0\", \"Strip Searched\": \"C1\"}\n",
    "labels = list(colours.keys())\n",
    "handles = [plt.Rectangle((0, 0), 1, 1, color = colours[label]) for label in labels]\n",
    "\n",
    "plt.bar(races, race_counts, bottom = data.groupby([\"Perceived_Race\"])[\"StripSearch\"].sum().sort_values(ascending = False), color = \"C0\")\n",
    "plt.bar(races, data.groupby([\"Perceived_Race\"])[\"StripSearch\"].sum().sort_values(ascending = False), color = \"C1\")\n",
    "plt.xticks(rotation = 90)\n",
    "plt.title(\"Strip Searches Ordered for Arrested Individuals Based on Perceived Race\")\n",
    "plt.ylabel(\"Count\")\n",
    "plt.xlabel(\"Perceived Race\")\n",
    "plt.legend(handles, labels)"
   ]
  },
  {
   "cell_type": "code",
   "execution_count": 91,
   "metadata": {
    "id": "Cz6biM9_n0pT"
   },
   "outputs": [],
   "source": [
    "data[\"Age_group_clean\"] = data[\"Age_group__at_arrest_\"].replace({\"Aged 17 years and younger\": \"Aged 17 years and under\", \"Aged 65 and older\": \"Aged 65 years and older\"})"
   ]
  },
  {
   "cell_type": "code",
   "execution_count": 92,
   "metadata": {
    "colab": {
     "base_uri": "https://localhost:8080/",
     "height": 400
    },
    "id": "1oBveWIBMAIB",
    "outputId": "ae5e97eb-1d32-4b85-c519-71f9fcacc772"
   },
   "outputs": [
    {
     "data": {
      "text/plain": [
       "<matplotlib.legend.Legend at 0x7f9b4e9c95a0>"
      ]
     },
     "execution_count": 92,
     "metadata": {},
     "output_type": "execute_result"
    },
    {
     "data": {
      "image/png": "[encoded data removed]",
      "text/plain": [
       "<Figure size 640x480 with 1 Axes>"
      ]
     },
     "metadata": {},
     "output_type": "display_data"
    }
   ],
   "source": [
    "# Ordered strip searches by age bracket of arrested individual\n",
    "#%%script false\n",
    "ages = data.Age_group_clean.value_counts().index.tolist()\n",
    "reordered_1 = ages.pop(ages.index(\"Aged 17 years and under\"))\n",
    "reordered_2 = ages.pop(ages.index(\"Aged 18 to 24 years\"))\n",
    "ages.insert(0, reordered_1)\n",
    "ages.insert(1, reordered_2)\n",
    "\n",
    "age_counts = data.Age_group_clean.value_counts().sort_index(ascending = True)\n",
    "\n",
    "plt.bar(x = ages, height = age_counts, bottom = data.groupby([\"Age_group_clean\"])[\"StripSearch\"].sum(), color = \"C0\")\n",
    "plt.bar(x = ages, height = data.groupby([\"Age_group_clean\"])[\"StripSearch\"].sum(), color = \"C1\")\n",
    "plt.xticks(rotation = 90)\n",
    "plt.legend(handles, labels)"
   ]
  },
  {
   "cell_type": "code",
   "execution_count": 93,
   "metadata": {
    "id": "8kfPdt12mdlw"
   },
   "outputs": [],
   "source": [
    "# Time series variable\n",
    "#%%script false\n",
    "data[\"Time_series\"] = np.where((data[\"Arrest_Year\"] == 2020) & (data[\"Arrest_Month\"] == \"Jan-Mar\"), 1, \n",
    "                               (np.where((data[\"Arrest_Year\"] == 2020) & (data[\"Arrest_Month\"] == \"Apr-June\"), 2, \n",
    "                                         (np.where((data[\"Arrest_Year\"] == 2020) & (data[\"Arrest_Month\"] == \"July-Sept\"), 3, \n",
    "                                                   (np.where((data[\"Arrest_Year\"] == 2020) & (data[\"Arrest_Month\"] == \"Oct-Dec\"), 4, \n",
    "                                                             (np.where((data[\"Arrest_Year\"] == 2021) & (data[\"Arrest_Month\"] == \"Jan-Mar\"), 5, \n",
    "                                                                       (np.where((data[\"Arrest_Year\"] == 2021) & (data[\"Arrest_Month\"] == \"Apr-June\"), 6, \n",
    "                                                                                 (np.where((data[\"Arrest_Year\"] == 2021) & (data[\"Arrest_Month\"] == \"July-Sept\"), 7, \n",
    "                                                                                           (np.where((data[\"Arrest_Year\"] == 2021) & (data[\"Arrest_Month\"] == \"Oct-Dec\"), 8, 0)))))))))))))))"
   ]
  },
  {
   "cell_type": "code",
   "execution_count": 94,
   "metadata": {
    "colab": {
     "base_uri": "https://localhost:8080/",
     "height": 345
    },
    "id": "DmSjXRxyJxeF",
    "outputId": "5aabb0b1-faaa-4c7c-e9b3-12c8c9b10940"
   },
   "outputs": [
    {
     "data": {
      "text/plain": [
       "Text(0, 0.5, 'Number of Strip Searches Booked')"
      ]
     },
     "execution_count": 94,
     "metadata": {},
     "output_type": "execute_result"
    },
    {
     "data": {
      "image/png": "[encoded data removed]",
      "text/plain": [
       "<Figure size 640x480 with 1 Axes>"
      ]
     },
     "metadata": {},
     "output_type": "display_data"
    }
   ],
   "source": [
    "# Line chart of strip search counts over time\n",
    "#%%script false\n",
    "StripSearch_1_data = data[data[\"StripSearch\"] == 1]\n",
    "StripSearch_1_data.groupby([\"Time_series\"])[\"StripSearch\"].value_counts()\n",
    "\n",
    "StripSearch_1_data.groupby([\"Time_series\"])[\"StripSearch\"].value_counts().sort_index(ascending = True).plot()\n",
    "plt.title(\"Strip Searches Booked by Toronto Police Service From January 2020 - December 2021\")\n",
    "axes = plt.gca()\n",
    "axes.set_xticks(ticks = [0, 1, 2, 3, 4, 5, 6, 7])\n",
    "axes.set_xticklabels([\"Q1 2020\", \"Q2 2020\", \"Q3 2020\", \"Q4 2020\", \"Q1 2021\", \"Q2 2021\", \"Q3 2021\", \"Q4 2021\"])\n",
    "plt.xticks(rotation = 60)\n",
    "plt.xlabel(\"Quarter, Year\")\n",
    "plt.ylabel(\"Number of Strip Searches Booked\")"
   ]
  },
  {
   "cell_type": "code",
   "execution_count": 95,
   "metadata": {
    "colab": {
     "base_uri": "https://localhost:8080/",
     "height": 313
    },
    "id": "cjbwMUgLTkkS",
    "outputId": "bd27b841-b529-4add-b312-1d3878d5b4ae"
   },
   "outputs": [
    {
     "data": {
      "text/plain": [
       "Text(0, 0.5, 'Number of Strip Searches Booked')"
      ]
     },
     "execution_count": 95,
     "metadata": {},
     "output_type": "execute_result"
    },
    {
     "data": {
      "image/png": "[encoded data removed]",
      "text/plain": [
       "<Figure size 640x480 with 1 Axes>"
      ]
     },
     "metadata": {},
     "output_type": "display_data"
    }
   ],
   "source": [
    "#%%script false\n",
    "StripSearch_1_2020_data = data[(data[\"Arrest_Year\"] == 2020) & (data[\"StripSearch\"] == 1)]\n",
    "StripSearch_1_2021_data = data[(data[\"Arrest_Year\"] == 2021) & (data[\"StripSearch\"] == 1)]\n",
    "\n",
    "plt1 = StripSearch_1_2020_data.groupby([\"Time_series\"])[\"StripSearch\"].value_counts().sort_index(ascending = True).plot()\n",
    "plt2 = StripSearch_1_2021_data.groupby([\"Time_series\"])[\"StripSearch\"].value_counts().sort_index(ascending = True).plot()\n",
    "plt_axes = plt.gca()\n",
    "plt_axes.set_xticks([0, 1, 2, 3])\n",
    "plt_axes.set_xticklabels([\"Q1\", \"Q2\", \"Q3\", \"Q4\"])\n",
    "\n",
    "colours = {\"2020\": \"C0\", \"2021\": \"C1\"}\n",
    "labels = list(colours.keys())\n",
    "handles = [plt.Rectangle((0, 0), 1, 1, color = colours[label]) for label in labels]\n",
    "plt.legend(handles, labels)\n",
    "\n",
    "plt.title(\"Comparison of Strip Searches Booked in 2020 vs. 2021 by Toronto Police\")\n",
    "plt.xlabel(\"Quarter\")\n",
    "plt.ylabel(\"Number of Strip Searches Booked\")"
   ]
  },
  {
   "cell_type": "code",
   "execution_count": 96,
   "metadata": {
    "id": "65VCvtG-cpXf"
   },
   "outputs": [],
   "source": [
    "# 0 in Actions_at_arrest = cooperative\n",
    "# 1+ in Actions_at_arrest = uncooperative\n",
    "# %% script = False"
   ]
  },
  {
   "cell_type": "code",
   "execution_count": 97,
   "metadata": {
    "colab": {
     "base_uri": "https://localhost:8080/",
     "height": 313
    },
    "id": "WtHKlm5mx-fe",
    "outputId": "00dd4b47-109b-4bd4-a727-7d3b7e276a01"
   },
   "outputs": [
    {
     "data": {
      "text/plain": [
       "<matplotlib.legend.Legend at 0x7f9b4664b5e0>"
      ]
     },
     "execution_count": 97,
     "metadata": {},
     "output_type": "execute_result"
    },
    {
     "data": {
      "image/png": "[encoded data removed]",
      "text/plain": [
       "<Figure size 640x480 with 1 Axes>"
      ]
     },
     "metadata": {},
     "output_type": "display_data"
    }
   ],
   "source": [
    "# %%script = False\n",
    "\n",
    "Actions_at_arrest_NotStripSearched = data[(data[\"StripSearch\"] == 0)]\n",
    "Actions_at_arrest_StripSearched = data[(data[\"StripSearch\"] == 1)]\n",
    "\n",
    "plt.hist(Actions_at_arrest_NotStripSearched[\"Actions_at_arrest\"], bins = np.arange(6)-0.5, color = \"C0\", edgecolor = \"black\")\n",
    "# plt.xlabel(\"Number of uncooperative actions taken at arrest\")\n",
    "# plt.title(\"Uncooperativeness of Arrested Individuals Who Were Not Strip Searched\")\n",
    "\n",
    "plt.hist(Actions_at_arrest_StripSearched[\"Actions_at_arrest\"], bins = np.arange(6)-0.5, color = \"C1\", edgecolor = \"black\")\n",
    "plt.xlabel(\"Number of uncooperative actions taken at arrest\")\n",
    "plt.title(\"Uncooperativeness of Arrested Individuals Who Were Strip Searched\")\n",
    "\n",
    "colours = {\"Not Strip Searched\": \"C0\", \"Strip Searched\": \"C1\"}\n",
    "labels = list(colours.keys())\n",
    "handles = [plt.Rectangle((0, 0), 1, 1, color = colours[label]) for label in labels]\n",
    "plt.legend(handles, labels)"
   ]
  },
  {
   "cell_type": "code",
   "execution_count": 98,
   "metadata": {
    "colab": {
     "base_uri": "https://localhost:8080/",
     "height": 661
    },
    "id": "m8ufSMV1bTzu",
    "outputId": "8891f85a-acf8-487a-cd00-1c07c32f53ea"
   },
   "outputs": [
    {
     "data": {
      "text/html": [
       "<div>\n",
       "<style scoped>\n",
       "    .dataframe tbody tr th:only-of-type {\n",
       "        vertical-align: middle;\n",
       "    }\n",
       "\n",
       "    .dataframe tbody tr th {\n",
       "        vertical-align: top;\n",
       "    }\n",
       "\n",
       "    .dataframe thead th {\n",
       "        text-align: right;\n",
       "    }\n",
       "</style>\n",
       "<table border=\"1\" class=\"dataframe\">\n",
       "  <thead>\n",
       "    <tr style=\"text-align: right;\">\n",
       "      <th></th>\n",
       "      <th>Arrest_Year</th>\n",
       "      <th>Arrest_Month</th>\n",
       "      <th>Perceived_Race</th>\n",
       "      <th>Sex</th>\n",
       "      <th>Age_group__at_arrest_</th>\n",
       "      <th>Youth_at_arrest__under_18_years</th>\n",
       "      <th>StripSearch</th>\n",
       "      <th>Booked</th>\n",
       "      <th>Occurrence_Category</th>\n",
       "      <th>ItemsFound</th>\n",
       "      <th>SearchReason</th>\n",
       "      <th>Actions_at_arrest</th>\n",
       "      <th>Age_group_clean</th>\n",
       "      <th>Time_series</th>\n",
       "    </tr>\n",
       "  </thead>\n",
       "  <tbody>\n",
       "    <tr>\n",
       "      <th>12</th>\n",
       "      <td>2021</td>\n",
       "      <td>Apr-June</td>\n",
       "      <td>Black</td>\n",
       "      <td>M</td>\n",
       "      <td>Aged 25 to 34 years</td>\n",
       "      <td>Not a youth</td>\n",
       "      <td>1</td>\n",
       "      <td>1</td>\n",
       "      <td>6</td>\n",
       "      <td>0.0</td>\n",
       "      <td>3.0</td>\n",
       "      <td>0</td>\n",
       "      <td>Aged 25 to 34 years</td>\n",
       "      <td>6</td>\n",
       "    </tr>\n",
       "    <tr>\n",
       "      <th>14</th>\n",
       "      <td>2020</td>\n",
       "      <td>Apr-June</td>\n",
       "      <td>Black</td>\n",
       "      <td>M</td>\n",
       "      <td>Aged 25 to 34 years</td>\n",
       "      <td>Not a youth</td>\n",
       "      <td>1</td>\n",
       "      <td>1</td>\n",
       "      <td>6</td>\n",
       "      <td>0.0</td>\n",
       "      <td>3.0</td>\n",
       "      <td>1</td>\n",
       "      <td>Aged 25 to 34 years</td>\n",
       "      <td>2</td>\n",
       "    </tr>\n",
       "    <tr>\n",
       "      <th>33</th>\n",
       "      <td>2021</td>\n",
       "      <td>Jan-Mar</td>\n",
       "      <td>White</td>\n",
       "      <td>M</td>\n",
       "      <td>Aged 35 to 44 years</td>\n",
       "      <td>Not a youth</td>\n",
       "      <td>1</td>\n",
       "      <td>1</td>\n",
       "      <td>6</td>\n",
       "      <td>0.0</td>\n",
       "      <td>2.0</td>\n",
       "      <td>0</td>\n",
       "      <td>Aged 35 to 44 years</td>\n",
       "      <td>5</td>\n",
       "    </tr>\n",
       "    <tr>\n",
       "      <th>38</th>\n",
       "      <td>2020</td>\n",
       "      <td>Apr-June</td>\n",
       "      <td>Latino</td>\n",
       "      <td>M</td>\n",
       "      <td>Aged 18 to 24 years</td>\n",
       "      <td>Not a youth</td>\n",
       "      <td>1</td>\n",
       "      <td>1</td>\n",
       "      <td>3</td>\n",
       "      <td>0.0</td>\n",
       "      <td>2.0</td>\n",
       "      <td>0</td>\n",
       "      <td>Aged 18 to 24 years</td>\n",
       "      <td>2</td>\n",
       "    </tr>\n",
       "    <tr>\n",
       "      <th>42</th>\n",
       "      <td>2020</td>\n",
       "      <td>July-Sept</td>\n",
       "      <td>South Asian</td>\n",
       "      <td>F</td>\n",
       "      <td>Aged 25 to 34 years</td>\n",
       "      <td>Not a youth</td>\n",
       "      <td>1</td>\n",
       "      <td>1</td>\n",
       "      <td>0</td>\n",
       "      <td>0.0</td>\n",
       "      <td>1.0</td>\n",
       "      <td>1</td>\n",
       "      <td>Aged 25 to 34 years</td>\n",
       "      <td>3</td>\n",
       "    </tr>\n",
       "    <tr>\n",
       "      <th>...</th>\n",
       "      <td>...</td>\n",
       "      <td>...</td>\n",
       "      <td>...</td>\n",
       "      <td>...</td>\n",
       "      <td>...</td>\n",
       "      <td>...</td>\n",
       "      <td>...</td>\n",
       "      <td>...</td>\n",
       "      <td>...</td>\n",
       "      <td>...</td>\n",
       "      <td>...</td>\n",
       "      <td>...</td>\n",
       "      <td>...</td>\n",
       "      <td>...</td>\n",
       "    </tr>\n",
       "    <tr>\n",
       "      <th>63915</th>\n",
       "      <td>2021</td>\n",
       "      <td>July-Sept</td>\n",
       "      <td>Black</td>\n",
       "      <td>M</td>\n",
       "      <td>Aged 25 to 34 years</td>\n",
       "      <td>Not a youth</td>\n",
       "      <td>1</td>\n",
       "      <td>1</td>\n",
       "      <td>5</td>\n",
       "      <td>0.0</td>\n",
       "      <td>2.0</td>\n",
       "      <td>0</td>\n",
       "      <td>Aged 25 to 34 years</td>\n",
       "      <td>7</td>\n",
       "    </tr>\n",
       "    <tr>\n",
       "      <th>64108</th>\n",
       "      <td>2021</td>\n",
       "      <td>Oct-Dec</td>\n",
       "      <td>White</td>\n",
       "      <td>M</td>\n",
       "      <td>Aged 35 to 44 years</td>\n",
       "      <td>Not a youth</td>\n",
       "      <td>1</td>\n",
       "      <td>1</td>\n",
       "      <td>6</td>\n",
       "      <td>0.0</td>\n",
       "      <td>0.0</td>\n",
       "      <td>1</td>\n",
       "      <td>Aged 35 to 44 years</td>\n",
       "      <td>8</td>\n",
       "    </tr>\n",
       "    <tr>\n",
       "      <th>64235</th>\n",
       "      <td>2021</td>\n",
       "      <td>July-Sept</td>\n",
       "      <td>South Asian</td>\n",
       "      <td>M</td>\n",
       "      <td>Aged 25 to 34 years</td>\n",
       "      <td>Not a youth</td>\n",
       "      <td>1</td>\n",
       "      <td>1</td>\n",
       "      <td>6</td>\n",
       "      <td>0.0</td>\n",
       "      <td>1.0</td>\n",
       "      <td>0</td>\n",
       "      <td>Aged 25 to 34 years</td>\n",
       "      <td>7</td>\n",
       "    </tr>\n",
       "    <tr>\n",
       "      <th>64347</th>\n",
       "      <td>2021</td>\n",
       "      <td>Oct-Dec</td>\n",
       "      <td>Black</td>\n",
       "      <td>M</td>\n",
       "      <td>Aged 17 years and under</td>\n",
       "      <td>Youth (aged 17 years and under)</td>\n",
       "      <td>1</td>\n",
       "      <td>1</td>\n",
       "      <td>6</td>\n",
       "      <td>1.0</td>\n",
       "      <td>2.0</td>\n",
       "      <td>1</td>\n",
       "      <td>Aged 17 years and under</td>\n",
       "      <td>8</td>\n",
       "    </tr>\n",
       "    <tr>\n",
       "      <th>64428</th>\n",
       "      <td>2021</td>\n",
       "      <td>Oct-Dec</td>\n",
       "      <td>Black</td>\n",
       "      <td>M</td>\n",
       "      <td>Aged 25 to 34 years</td>\n",
       "      <td>Not a youth</td>\n",
       "      <td>1</td>\n",
       "      <td>1</td>\n",
       "      <td>0</td>\n",
       "      <td>0.0</td>\n",
       "      <td>1.0</td>\n",
       "      <td>0</td>\n",
       "      <td>Aged 25 to 34 years</td>\n",
       "      <td>8</td>\n",
       "    </tr>\n",
       "  </tbody>\n",
       "</table>\n",
       "<p>7331 rows × 14 columns</p>\n",
       "</div>"
      ],
      "text/plain": [
       "       Arrest_Year Arrest_Month Perceived_Race Sex    Age_group__at_arrest_  \\\n",
       "12            2021     Apr-June          Black   M      Aged 25 to 34 years   \n",
       "14            2020     Apr-June          Black   M      Aged 25 to 34 years   \n",
       "33            2021      Jan-Mar          White   M      Aged 35 to 44 years   \n",
       "38            2020     Apr-June         Latino   M      Aged 18 to 24 years   \n",
       "42            2020    July-Sept    South Asian   F      Aged 25 to 34 years   \n",
       "...            ...          ...            ...  ..                      ...   \n",
       "63915         2021    July-Sept          Black   M      Aged 25 to 34 years   \n",
       "64108         2021      Oct-Dec          White   M      Aged 35 to 44 years   \n",
       "64235         2021    July-Sept    South Asian   M      Aged 25 to 34 years   \n",
       "64347         2021      Oct-Dec          Black   M  Aged 17 years and under   \n",
       "64428         2021      Oct-Dec          Black   M      Aged 25 to 34 years   \n",
       "\n",
       "       Youth_at_arrest__under_18_years  StripSearch  Booked  \\\n",
       "12                         Not a youth            1       1   \n",
       "14                         Not a youth            1       1   \n",
       "33                         Not a youth            1       1   \n",
       "38                         Not a youth            1       1   \n",
       "42                         Not a youth            1       1   \n",
       "...                                ...          ...     ...   \n",
       "63915                      Not a youth            1       1   \n",
       "64108                      Not a youth            1       1   \n",
       "64235                      Not a youth            1       1   \n",
       "64347  Youth (aged 17 years and under)            1       1   \n",
       "64428                      Not a youth            1       1   \n",
       "\n",
       "      Occurrence_Category  ItemsFound  SearchReason  Actions_at_arrest  \\\n",
       "12                      6         0.0           3.0                  0   \n",
       "14                      6         0.0           3.0                  1   \n",
       "33                      6         0.0           2.0                  0   \n",
       "38                      3         0.0           2.0                  0   \n",
       "42                      0         0.0           1.0                  1   \n",
       "...                   ...         ...           ...                ...   \n",
       "63915                   5         0.0           2.0                  0   \n",
       "64108                   6         0.0           0.0                  1   \n",
       "64235                   6         0.0           1.0                  0   \n",
       "64347                   6         1.0           2.0                  1   \n",
       "64428                   0         0.0           1.0                  0   \n",
       "\n",
       "               Age_group_clean  Time_series  \n",
       "12         Aged 25 to 34 years            6  \n",
       "14         Aged 25 to 34 years            2  \n",
       "33         Aged 35 to 44 years            5  \n",
       "38         Aged 18 to 24 years            2  \n",
       "42         Aged 25 to 34 years            3  \n",
       "...                        ...          ...  \n",
       "63915      Aged 25 to 34 years            7  \n",
       "64108      Aged 35 to 44 years            8  \n",
       "64235      Aged 25 to 34 years            7  \n",
       "64347  Aged 17 years and under            8  \n",
       "64428      Aged 25 to 34 years            8  \n",
       "\n",
       "[7331 rows x 14 columns]"
      ]
     },
     "execution_count": 98,
     "metadata": {},
     "output_type": "execute_result"
    }
   ],
   "source": [
    "Actions_at_arrest_StripSearched"
   ]
  },
  {
   "cell_type": "code",
   "execution_count": 99,
   "metadata": {
    "colab": {
     "base_uri": "https://localhost:8080/",
     "height": 523
    },
    "id": "8914tNKC1Cxw",
    "outputId": "09d917d2-be1b-4239-8c0a-9345bee87a33"
   },
   "outputs": [
    {
     "data": {
      "text/plain": [
       "(array([1, 2, 3, 4, 5, 6, 7, 8]),\n",
       " [Text(1, 0, 'White'),\n",
       "  Text(2, 0, 'Black'),\n",
       "  Text(3, 0, 'Unknown or Legacy'),\n",
       "  Text(4, 0, 'East/Southeast Asian'),\n",
       "  Text(5, 0, 'South Asian'),\n",
       "  Text(6, 0, 'Middle-Eastern'),\n",
       "  Text(7, 0, 'Indigenous'),\n",
       "  Text(8, 0, 'Latino')])"
      ]
     },
     "execution_count": 99,
     "metadata": {},
     "output_type": "execute_result"
    },
    {
     "data": {
      "image/png": "[encoded data removed]",
      "text/plain": [
       "<Figure size 640x480 with 1 Axes>"
      ]
     },
     "metadata": {},
     "output_type": "display_data"
    }
   ],
   "source": [
    "boxplot_races_uncooperative = []\n",
    "for race in races: \n",
    "  boxplot_races_uncooperative.append(data[(data[\"Perceived_Race\"] == race)][\"Actions_at_arrest\"])\n",
    "\n",
    "# mean number of uncooperative actions?\n",
    "# for set in boxplot_races_uncooperative: \n",
    "#   print(np.mean(set))\n",
    "\n",
    "plt.boxplot(boxplot_races_uncooperative, labels = races)\n",
    "plt.xticks(rotation = 90)\n",
    "\n",
    "# this looks wrong and weird"
   ]
  },
  {
   "cell_type": "code",
   "execution_count": 100,
   "metadata": {},
   "outputs": [
    {
     "data": {
      "text/html": [
       "<div>\n",
       "<style scoped>\n",
       "    .dataframe tbody tr th:only-of-type {\n",
       "        vertical-align: middle;\n",
       "    }\n",
       "\n",
       "    .dataframe tbody tr th {\n",
       "        vertical-align: top;\n",
       "    }\n",
       "\n",
       "    .dataframe thead th {\n",
       "        text-align: right;\n",
       "    }\n",
       "</style>\n",
       "<table border=\"1\" class=\"dataframe\">\n",
       "  <thead>\n",
       "    <tr style=\"text-align: right;\">\n",
       "      <th></th>\n",
       "      <th>Perceived Race</th>\n",
       "      <th>Mean</th>\n",
       "      <th>Standard Deviation</th>\n",
       "    </tr>\n",
       "  </thead>\n",
       "  <tbody>\n",
       "    <tr>\n",
       "      <th>0</th>\n",
       "      <td>White</td>\n",
       "      <td>0.683439</td>\n",
       "      <td>0.726551</td>\n",
       "    </tr>\n",
       "    <tr>\n",
       "      <th>1</th>\n",
       "      <td>Black</td>\n",
       "      <td>0.716344</td>\n",
       "      <td>0.748590</td>\n",
       "    </tr>\n",
       "    <tr>\n",
       "      <th>2</th>\n",
       "      <td>Unknown or Legacy</td>\n",
       "      <td>0.644742</td>\n",
       "      <td>0.664954</td>\n",
       "    </tr>\n",
       "    <tr>\n",
       "      <th>3</th>\n",
       "      <td>East/Southeast Asian</td>\n",
       "      <td>0.566773</td>\n",
       "      <td>0.645692</td>\n",
       "    </tr>\n",
       "    <tr>\n",
       "      <th>4</th>\n",
       "      <td>South Asian</td>\n",
       "      <td>0.627156</td>\n",
       "      <td>0.654251</td>\n",
       "    </tr>\n",
       "    <tr>\n",
       "      <th>5</th>\n",
       "      <td>Middle-Eastern</td>\n",
       "      <td>0.642702</td>\n",
       "      <td>0.695864</td>\n",
       "    </tr>\n",
       "    <tr>\n",
       "      <th>6</th>\n",
       "      <td>Indigenous</td>\n",
       "      <td>0.807027</td>\n",
       "      <td>0.818310</td>\n",
       "    </tr>\n",
       "    <tr>\n",
       "      <th>7</th>\n",
       "      <td>Latino</td>\n",
       "      <td>0.599315</td>\n",
       "      <td>0.705781</td>\n",
       "    </tr>\n",
       "  </tbody>\n",
       "</table>\n",
       "</div>"
      ],
      "text/plain": [
       "         Perceived Race      Mean  Standard Deviation\n",
       "0                 White  0.683439            0.726551\n",
       "1                 Black  0.716344            0.748590\n",
       "2     Unknown or Legacy  0.644742            0.664954\n",
       "3  East/Southeast Asian  0.566773            0.645692\n",
       "4           South Asian  0.627156            0.654251\n",
       "5        Middle-Eastern  0.642702            0.695864\n",
       "6            Indigenous  0.807027            0.818310\n",
       "7                Latino  0.599315            0.705781"
      ]
     },
     "execution_count": 100,
     "metadata": {},
     "output_type": "execute_result"
    }
   ],
   "source": [
    "barplot_races_uncooperative = []\n",
    "for race in races:\n",
    "  barplot_races_uncooperative.append(data[(data[\"Perceived_Race\"] == race)][\"Actions_at_arrest\"])\n",
    "\n",
    "mean_uncooperative_actions_race = []\n",
    "for set in barplot_races_uncooperative: \n",
    "  mean_uncooperative_actions_race.append(np.mean(set))\n",
    "\n",
    "sd_uncooperative_actions_race = []\n",
    "for set in barplot_races_uncooperative: \n",
    "    sd_uncooperative_actions_race.append(np.std(set))\n",
    "\n",
    "barplot_races_uncooperative_data = np.array([races, mean_uncooperative_actions_race, sd_uncooperative_actions_race]).T\n",
    "barplot_races_uncooperative_table = pd.DataFrame(data = barplot_races_uncooperative_data, columns = [\"Perceived Race\", \"Mean\", \"Standard Deviation\"])\n",
    "barplot_races_uncooperative_table[\"Mean\"] = np.float64(barplot_races_uncooperative_table[\"Mean\"])\n",
    "barplot_races_uncooperative_table[\"Standard Deviation\"] = np.float64(barplot_races_uncooperative_table[\"Standard Deviation\"])\n",
    "\n",
    "barplot_races_uncooperative_table"
   ]
  },
  {
   "cell_type": "code",
   "execution_count": 101,
   "metadata": {},
   "outputs": [
    {
     "data": {
      "text/plain": [
       "Text(0.5, 1.0, 'Mean Uncooperativeness of Individuals in Different Perceived Race Groups')"
      ]
     },
     "execution_count": 101,
     "metadata": {},
     "output_type": "execute_result"
    },
    {
     "data": {
      "image/png": "[encoded data removed]",
      "text/plain": [
       "<Figure size 640x480 with 1 Axes>"
      ]
     },
     "metadata": {},
     "output_type": "display_data"
    }
   ],
   "source": [
    "plt.bar(barplot_races_uncooperative_table[\"Perceived Race\"], barplot_races_uncooperative_table[\"Mean\"], yerr = barplot_races_uncooperative_table[\"Standard Deviation\"])\n",
    "plt.xlabel(\"Perceived Race\")\n",
    "plt.xticks(rotation = 90)\n",
    "plt.ylabel(\"Mean Number of Uncooperative Actions\")\n",
    "plt.title(\"Mean Uncooperativeness of Individuals in Different Perceived Race Groups\")"
   ]
  },
  {
   "cell_type": "code",
   "execution_count": 102,
   "metadata": {
    "id": "6tUgBozpjAFU"
   },
   "outputs": [],
   "source": [
    "data=data[['Time_series','Perceived_Race','Sex','Age_group_clean','Occurrence_Category','Youth_at_arrest__under_18_years','StripSearch','Booked','Occurrence_Category','ItemsFound','SearchReason','Actions_at_arrest']]"
   ]
  },
  {
   "cell_type": "code",
   "execution_count": 103,
   "metadata": {
    "colab": {
     "base_uri": "https://localhost:8080/"
    },
    "id": "mu_drpv6kmVy",
    "outputId": "508f7c0b-1aac-41f9-8ed5-60913aecf9c4"
   },
   "outputs": [
    {
     "data": {
      "text/plain": [
       "array(['Aged 35 to 44 years', 'Aged 25 to 34 years',\n",
       "       'Aged 45 to 54 years', 'Aged 55 to 64 years',\n",
       "       'Aged 18 to 24 years', 'Aged 65 years and older',\n",
       "       'Aged 17 years and under'], dtype=object)"
      ]
     },
     "execution_count": 103,
     "metadata": {},
     "output_type": "execute_result"
    }
   ],
   "source": [
    "data['Age_group_clean'].unique()"
   ]
  },
  {
   "cell_type": "code",
   "execution_count": 104,
   "metadata": {
    "colab": {
     "base_uri": "https://localhost:8080/"
    },
    "id": "LvLUR75MrRMR",
    "outputId": "4793ed7d-38ee-48bb-e829-476ef0dc820b"
   },
   "outputs": [
    {
     "data": {
      "text/plain": [
       "array(['Not a youth', 'Youth (aged 17 and younger)',\n",
       "       'Youth (aged 17 years and under)'], dtype=object)"
      ]
     },
     "execution_count": 104,
     "metadata": {},
     "output_type": "execute_result"
    }
   ],
   "source": [
    "data['Youth_at_arrest__under_18_years'].unique()"
   ]
  },
  {
   "cell_type": "code",
   "execution_count": 105,
   "metadata": {
    "id": "78CBVXlykuu3"
   },
   "outputs": [],
   "source": [
    "race_dict={'White':0,\n",
    "           \"Unknown or Legacy\":1,\n",
    "           \"Black\":2,\n",
    "           \"South Asian\":3,\n",
    "           \"Indigenous\":4,\n",
    "           \"Middle-Eastern\":5,\n",
    "           'Latino':6,\n",
    "           \"East/Southeast Asian\":7}\n",
    "data['Perceived_Race']=data['Perceived_Race'].replace(race_dict)\n",
    "#replace the race varibale to numerical variable"
   ]
  },
  {
   "cell_type": "code",
   "execution_count": 106,
   "metadata": {
    "id": "PirN3Q6todjv"
   },
   "outputs": [],
   "source": [
    "sex_dict={'M':0,'F':1,'U':2}\n",
    "data['Sex']=data['Sex'].replace(sex_dict)\n"
   ]
  },
  {
   "cell_type": "code",
   "execution_count": 107,
   "metadata": {
    "id": "JbttGCQ-p0Lc"
   },
   "outputs": [],
   "source": [
    "age_dict0={}\n",
    "i=0\n",
    "for x in data['Age_group_clean'].unique():\n",
    "  age_dict0[x]=i\n",
    "  i+=1      "
   ]
  },
  {
   "cell_type": "code",
   "execution_count": 108,
   "metadata": {
    "id": "S1UZfPrDvQsV"
   },
   "outputs": [],
   "source": [
    "age_dict={'Aged 17 years and under': 0,\n",
    "          'Aged 18 to 24 years': 1,\n",
    "          'Aged 25 to 34 years': 2,\n",
    "          'Aged 35 to 44 years': 3,\n",
    "          'Aged 45 to 54 years': 4,\n",
    "          'Aged 55 to 64 years': 5,\n",
    "          'Aged 65 years and older': 6,\n",
    "          }"
   ]
  },
  {
   "cell_type": "code",
   "execution_count": 109,
   "metadata": {
    "id": "suHQo3-YwWo8"
   },
   "outputs": [],
   "source": [
    "data['Age_group_clean']=data['Age_group_clean'].replace(age_dict)"
   ]
  },
  {
   "cell_type": "code",
   "execution_count": 110,
   "metadata": {
    "id": "UfTM964rxled"
   },
   "outputs": [],
   "source": [
    "youth_dict={'Youth (aged 17 and younger)':0,\n",
    "            'Youth (aged 17 years and under)':0,\n",
    "'Not a youth':1}"
   ]
  },
  {
   "cell_type": "code",
   "execution_count": 111,
   "metadata": {
    "id": "G4xIc2ICyAHj"
   },
   "outputs": [],
   "source": [
    "data['Youth_at_arrest__under_18_years']=data['Youth_at_arrest__under_18_years'].replace(youth_dict)"
   ]
  },
  {
   "cell_type": "code",
   "execution_count": 112,
   "metadata": {
    "id": "bdr-tKnC1CPm"
   },
   "outputs": [],
   "source": [
    "data=data.dropna()"
   ]
  },
  {
   "cell_type": "code",
   "execution_count": 113,
   "metadata": {
    "colab": {
     "base_uri": "https://localhost:8080/",
     "height": 487
    },
    "id": "LzwRvWxA1R7x",
    "outputId": "ffc3a211-173f-42ef-c89f-21d7a3edc6e5"
   },
   "outputs": [
    {
     "data": {
      "text/html": [
       "<div>\n",
       "<style scoped>\n",
       "    .dataframe tbody tr th:only-of-type {\n",
       "        vertical-align: middle;\n",
       "    }\n",
       "\n",
       "    .dataframe tbody tr th {\n",
       "        vertical-align: top;\n",
       "    }\n",
       "\n",
       "    .dataframe thead th {\n",
       "        text-align: right;\n",
       "    }\n",
       "</style>\n",
       "<table border=\"1\" class=\"dataframe\">\n",
       "  <thead>\n",
       "    <tr style=\"text-align: right;\">\n",
       "      <th></th>\n",
       "      <th>Time_series</th>\n",
       "      <th>Perceived_Race</th>\n",
       "      <th>Sex</th>\n",
       "      <th>Age_group_clean</th>\n",
       "      <th>Occurrence_Category</th>\n",
       "      <th>Youth_at_arrest__under_18_years</th>\n",
       "      <th>StripSearch</th>\n",
       "      <th>Booked</th>\n",
       "      <th>Occurrence_Category</th>\n",
       "      <th>ItemsFound</th>\n",
       "      <th>SearchReason</th>\n",
       "      <th>Actions_at_arrest</th>\n",
       "    </tr>\n",
       "  </thead>\n",
       "  <tbody>\n",
       "    <tr>\n",
       "      <th>0</th>\n",
       "      <td>3</td>\n",
       "      <td>0</td>\n",
       "      <td>0</td>\n",
       "      <td>3</td>\n",
       "      <td>0</td>\n",
       "      <td>1</td>\n",
       "      <td>0</td>\n",
       "      <td>1</td>\n",
       "      <td>0</td>\n",
       "      <td>0.0</td>\n",
       "      <td>0.0</td>\n",
       "      <td>0</td>\n",
       "    </tr>\n",
       "    <tr>\n",
       "      <th>1</th>\n",
       "      <td>3</td>\n",
       "      <td>0</td>\n",
       "      <td>0</td>\n",
       "      <td>3</td>\n",
       "      <td>0</td>\n",
       "      <td>1</td>\n",
       "      <td>0</td>\n",
       "      <td>1</td>\n",
       "      <td>0</td>\n",
       "      <td>0.0</td>\n",
       "      <td>0.0</td>\n",
       "      <td>1</td>\n",
       "    </tr>\n",
       "    <tr>\n",
       "      <th>2</th>\n",
       "      <td>4</td>\n",
       "      <td>1</td>\n",
       "      <td>0</td>\n",
       "      <td>3</td>\n",
       "      <td>0</td>\n",
       "      <td>1</td>\n",
       "      <td>0</td>\n",
       "      <td>1</td>\n",
       "      <td>0</td>\n",
       "      <td>0.0</td>\n",
       "      <td>0.0</td>\n",
       "      <td>1</td>\n",
       "    </tr>\n",
       "    <tr>\n",
       "      <th>3</th>\n",
       "      <td>5</td>\n",
       "      <td>2</td>\n",
       "      <td>0</td>\n",
       "      <td>2</td>\n",
       "      <td>6</td>\n",
       "      <td>1</td>\n",
       "      <td>0</td>\n",
       "      <td>0</td>\n",
       "      <td>6</td>\n",
       "      <td>0.0</td>\n",
       "      <td>0.0</td>\n",
       "      <td>1</td>\n",
       "    </tr>\n",
       "    <tr>\n",
       "      <th>4</th>\n",
       "      <td>5</td>\n",
       "      <td>3</td>\n",
       "      <td>0</td>\n",
       "      <td>2</td>\n",
       "      <td>3</td>\n",
       "      <td>1</td>\n",
       "      <td>0</td>\n",
       "      <td>1</td>\n",
       "      <td>3</td>\n",
       "      <td>0.0</td>\n",
       "      <td>0.0</td>\n",
       "      <td>1</td>\n",
       "    </tr>\n",
       "    <tr>\n",
       "      <th>...</th>\n",
       "      <td>...</td>\n",
       "      <td>...</td>\n",
       "      <td>...</td>\n",
       "      <td>...</td>\n",
       "      <td>...</td>\n",
       "      <td>...</td>\n",
       "      <td>...</td>\n",
       "      <td>...</td>\n",
       "      <td>...</td>\n",
       "      <td>...</td>\n",
       "      <td>...</td>\n",
       "      <td>...</td>\n",
       "    </tr>\n",
       "    <tr>\n",
       "      <th>65271</th>\n",
       "      <td>8</td>\n",
       "      <td>4</td>\n",
       "      <td>1</td>\n",
       "      <td>2</td>\n",
       "      <td>6</td>\n",
       "      <td>1</td>\n",
       "      <td>0</td>\n",
       "      <td>0</td>\n",
       "      <td>6</td>\n",
       "      <td>0.0</td>\n",
       "      <td>0.0</td>\n",
       "      <td>2</td>\n",
       "    </tr>\n",
       "    <tr>\n",
       "      <th>65272</th>\n",
       "      <td>8</td>\n",
       "      <td>3</td>\n",
       "      <td>0</td>\n",
       "      <td>3</td>\n",
       "      <td>0</td>\n",
       "      <td>1</td>\n",
       "      <td>0</td>\n",
       "      <td>1</td>\n",
       "      <td>0</td>\n",
       "      <td>0.0</td>\n",
       "      <td>0.0</td>\n",
       "      <td>1</td>\n",
       "    </tr>\n",
       "    <tr>\n",
       "      <th>65273</th>\n",
       "      <td>8</td>\n",
       "      <td>0</td>\n",
       "      <td>1</td>\n",
       "      <td>4</td>\n",
       "      <td>0</td>\n",
       "      <td>1</td>\n",
       "      <td>0</td>\n",
       "      <td>0</td>\n",
       "      <td>0</td>\n",
       "      <td>0.0</td>\n",
       "      <td>0.0</td>\n",
       "      <td>1</td>\n",
       "    </tr>\n",
       "    <tr>\n",
       "      <th>65274</th>\n",
       "      <td>8</td>\n",
       "      <td>1</td>\n",
       "      <td>0</td>\n",
       "      <td>0</td>\n",
       "      <td>1</td>\n",
       "      <td>0</td>\n",
       "      <td>0</td>\n",
       "      <td>0</td>\n",
       "      <td>1</td>\n",
       "      <td>0.0</td>\n",
       "      <td>0.0</td>\n",
       "      <td>0</td>\n",
       "    </tr>\n",
       "    <tr>\n",
       "      <th>65275</th>\n",
       "      <td>8</td>\n",
       "      <td>6</td>\n",
       "      <td>0</td>\n",
       "      <td>1</td>\n",
       "      <td>6</td>\n",
       "      <td>1</td>\n",
       "      <td>0</td>\n",
       "      <td>0</td>\n",
       "      <td>6</td>\n",
       "      <td>0.0</td>\n",
       "      <td>0.0</td>\n",
       "      <td>0</td>\n",
       "    </tr>\n",
       "  </tbody>\n",
       "</table>\n",
       "<p>64615 rows × 12 columns</p>\n",
       "</div>"
      ],
      "text/plain": [
       "       Time_series  Perceived_Race  Sex  Age_group_clean Occurrence_Category  \\\n",
       "0                3               0    0                3                   0   \n",
       "1                3               0    0                3                   0   \n",
       "2                4               1    0                3                   0   \n",
       "3                5               2    0                2                   6   \n",
       "4                5               3    0                2                   3   \n",
       "...            ...             ...  ...              ...                 ...   \n",
       "65271            8               4    1                2                   6   \n",
       "65272            8               3    0                3                   0   \n",
       "65273            8               0    1                4                   0   \n",
       "65274            8               1    0                0                   1   \n",
       "65275            8               6    0                1                   6   \n",
       "\n",
       "       Youth_at_arrest__under_18_years  StripSearch  Booked  \\\n",
       "0                                    1            0       1   \n",
       "1                                    1            0       1   \n",
       "2                                    1            0       1   \n",
       "3                                    1            0       0   \n",
       "4                                    1            0       1   \n",
       "...                                ...          ...     ...   \n",
       "65271                                1            0       0   \n",
       "65272                                1            0       1   \n",
       "65273                                1            0       0   \n",
       "65274                                0            0       0   \n",
       "65275                                1            0       0   \n",
       "\n",
       "      Occurrence_Category  ItemsFound  SearchReason  Actions_at_arrest  \n",
       "0                       0         0.0           0.0                  0  \n",
       "1                       0         0.0           0.0                  1  \n",
       "2                       0         0.0           0.0                  1  \n",
       "3                       6         0.0           0.0                  1  \n",
       "4                       3         0.0           0.0                  1  \n",
       "...                   ...         ...           ...                ...  \n",
       "65271                   6         0.0           0.0                  2  \n",
       "65272                   0         0.0           0.0                  1  \n",
       "65273                   0         0.0           0.0                  1  \n",
       "65274                   1         0.0           0.0                  0  \n",
       "65275                   6         0.0           0.0                  0  \n",
       "\n",
       "[64615 rows x 12 columns]"
      ]
     },
     "execution_count": 113,
     "metadata": {},
     "output_type": "execute_result"
    }
   ],
   "source": [
    "data"
   ]
  },
  {
   "cell_type": "code",
   "execution_count": 114,
   "metadata": {
    "colab": {
     "base_uri": "https://localhost:8080/",
     "height": 437
    },
    "id": "c82ubsUVcfH-",
    "outputId": "65e470c8-3e28-4b28-c555-34dae071812f"
   },
   "outputs": [
    {
     "name": "stderr",
     "output_type": "stream",
     "text": [
      "/tmp/ipykernel_59/2397793743.py:3: FutureWarning: The default value of numeric_only in DataFrame.corr is deprecated. In a future version, it will default to False. Select only valid columns or specify the value of numeric_only to silence this warning.\n",
      "  corr_matrix = data.corr()\n"
     ]
    },
    {
     "data": {
      "image/png": "[encoded data removed]",
      "text/plain": [
       "<Figure size 640x480 with 2 Axes>"
      ]
     },
     "metadata": {},
     "output_type": "display_data"
    }
   ],
   "source": [
    "import seaborn as sns\n",
    "\n",
    "corr_matrix = data.corr()\n",
    "fig, ax = plt.subplots()\n",
    "sns.heatmap(corr_matrix, annot=True, cmap='coolwarm', ax=ax)\n",
    "ax.set_title('Correlation heatmap')\n",
    "\n",
    "plt.show()"
   ]
  },
  {
   "cell_type": "code",
   "execution_count": 115,
   "metadata": {
    "id": "0tHsDFcQ_CUF"
   },
   "outputs": [],
   "source": [
    "#drop sex=U for convenience, the number of sex=U is quite small.\n",
    "data=data[data[\"Sex\"]!=2]"
   ]
  },
  {
   "cell_type": "markdown",
   "metadata": {
    "id": "OI6IvD6nEIhx"
   },
   "source": [
    "# EDA – T-tests"
   ]
  },
  {
   "cell_type": "code",
   "execution_count": 116,
   "metadata": {
    "id": "J9sXVnqGCYWO"
   },
   "outputs": [],
   "source": [
    "# proposed model: DV: uncooperativeness, IV: 2 of perceived race, age, sex. \n",
    "\n",
    "# variables: data[\"Actions_at_arrest\"], data[\"Perceived_Race\"], \n",
    "# data['Age_group_clean'], data['Youth_at_arrest__under_18_years'], data['Sex'], data['StripSearch']\n",
    "\n",
    "from scipy.stats import ttest_ind"
   ]
  },
  {
   "cell_type": "code",
   "execution_count": 117,
   "metadata": {
    "colab": {
     "base_uri": "https://localhost:8080/"
    },
    "id": "6rcINjVM12Hx",
    "outputId": "d3e54ccd-c995-4fe9-d1ad-017b5ee0d6e7"
   },
   "outputs": [
    {
     "name": "stderr",
     "output_type": "stream",
     "text": [
      "/tmp/ipykernel_59/1477586639.py:4: SettingWithCopyWarning: \n",
      "A value is trying to be set on a copy of a slice from a DataFrame.\n",
      "Try using .loc[row_indexer,col_indexer] = value instead\n",
      "\n",
      "See the caveats in the documentation: https://pandas.pydata.org/pandas-docs/stable/user_guide/indexing.html#returning-a-view-versus-a-copy\n",
      "  data[\"Non_White\"] = np.where((data[\"Perceived_Race\"] == 0), 0, 1)\n"
     ]
    },
    {
     "data": {
      "text/plain": [
       "Ttest_indResult(statistic=-3.088522932983265, pvalue=0.002019189928570477)"
      ]
     },
     "execution_count": 117,
     "metadata": {},
     "output_type": "execute_result"
    }
   ],
   "source": [
    "#Hypothesis: strip searched None white people and white people act at the same way while arrested.\n",
    "#H0: Mean non_white=Mean white\n",
    "#Ha: Mean non_white!=Mean white\n",
    "data[\"Non_White\"] = np.where((data[\"Perceived_Race\"] == 0), 0, 1)\n",
    "uncoop_race_group1 = data[(data[\"Non_White\"] == 0) & (data[\"StripSearch\"] == 1)] # white\n",
    "uncoop_race_group2 = data[(data[\"Non_White\"] == 1) & (data[\"StripSearch\"] == 1)] # non-white\n",
    "\n",
    "# Welch's t-test: for samples of unequal variance\n",
    "ttest_ind(uncoop_race_group1['Actions_at_arrest'], uncoop_race_group2[\"Actions_at_arrest\"], equal_var=False)\n",
    "\n",
    "# result is significant"
   ]
  },
  {
   "cell_type": "code",
   "execution_count": 118,
   "metadata": {
    "colab": {
     "base_uri": "https://localhost:8080/",
     "height": 487
    },
    "id": "lUGDckAWzAty",
    "outputId": "0642313d-c1ef-4d67-d3d2-157345ff1e9f"
   },
   "outputs": [
    {
     "data": {
      "text/html": [
       "<div>\n",
       "<style scoped>\n",
       "    .dataframe tbody tr th:only-of-type {\n",
       "        vertical-align: middle;\n",
       "    }\n",
       "\n",
       "    .dataframe tbody tr th {\n",
       "        vertical-align: top;\n",
       "    }\n",
       "\n",
       "    .dataframe thead th {\n",
       "        text-align: right;\n",
       "    }\n",
       "</style>\n",
       "<table border=\"1\" class=\"dataframe\">\n",
       "  <thead>\n",
       "    <tr style=\"text-align: right;\">\n",
       "      <th></th>\n",
       "      <th>Time_series</th>\n",
       "      <th>Perceived_Race</th>\n",
       "      <th>Sex</th>\n",
       "      <th>Age_group_clean</th>\n",
       "      <th>Occurrence_Category</th>\n",
       "      <th>Youth_at_arrest__under_18_years</th>\n",
       "      <th>StripSearch</th>\n",
       "      <th>Booked</th>\n",
       "      <th>Occurrence_Category</th>\n",
       "      <th>ItemsFound</th>\n",
       "      <th>SearchReason</th>\n",
       "      <th>Actions_at_arrest</th>\n",
       "      <th>Non_White</th>\n",
       "    </tr>\n",
       "  </thead>\n",
       "  <tbody>\n",
       "    <tr>\n",
       "      <th>33</th>\n",
       "      <td>5</td>\n",
       "      <td>0</td>\n",
       "      <td>0</td>\n",
       "      <td>3</td>\n",
       "      <td>6</td>\n",
       "      <td>1</td>\n",
       "      <td>1</td>\n",
       "      <td>1</td>\n",
       "      <td>6</td>\n",
       "      <td>0.0</td>\n",
       "      <td>2.0</td>\n",
       "      <td>0</td>\n",
       "      <td>0</td>\n",
       "    </tr>\n",
       "    <tr>\n",
       "      <th>56</th>\n",
       "      <td>7</td>\n",
       "      <td>0</td>\n",
       "      <td>1</td>\n",
       "      <td>3</td>\n",
       "      <td>3</td>\n",
       "      <td>1</td>\n",
       "      <td>1</td>\n",
       "      <td>1</td>\n",
       "      <td>3</td>\n",
       "      <td>1.0</td>\n",
       "      <td>2.0</td>\n",
       "      <td>1</td>\n",
       "      <td>0</td>\n",
       "    </tr>\n",
       "    <tr>\n",
       "      <th>58</th>\n",
       "      <td>5</td>\n",
       "      <td>0</td>\n",
       "      <td>1</td>\n",
       "      <td>3</td>\n",
       "      <td>5</td>\n",
       "      <td>1</td>\n",
       "      <td>1</td>\n",
       "      <td>1</td>\n",
       "      <td>5</td>\n",
       "      <td>0.0</td>\n",
       "      <td>2.0</td>\n",
       "      <td>1</td>\n",
       "      <td>0</td>\n",
       "    </tr>\n",
       "    <tr>\n",
       "      <th>73</th>\n",
       "      <td>1</td>\n",
       "      <td>0</td>\n",
       "      <td>0</td>\n",
       "      <td>2</td>\n",
       "      <td>6</td>\n",
       "      <td>1</td>\n",
       "      <td>1</td>\n",
       "      <td>1</td>\n",
       "      <td>6</td>\n",
       "      <td>0.0</td>\n",
       "      <td>4.0</td>\n",
       "      <td>1</td>\n",
       "      <td>0</td>\n",
       "    </tr>\n",
       "    <tr>\n",
       "      <th>137</th>\n",
       "      <td>3</td>\n",
       "      <td>0</td>\n",
       "      <td>0</td>\n",
       "      <td>1</td>\n",
       "      <td>6</td>\n",
       "      <td>1</td>\n",
       "      <td>1</td>\n",
       "      <td>1</td>\n",
       "      <td>6</td>\n",
       "      <td>0.0</td>\n",
       "      <td>4.0</td>\n",
       "      <td>1</td>\n",
       "      <td>0</td>\n",
       "    </tr>\n",
       "    <tr>\n",
       "      <th>...</th>\n",
       "      <td>...</td>\n",
       "      <td>...</td>\n",
       "      <td>...</td>\n",
       "      <td>...</td>\n",
       "      <td>...</td>\n",
       "      <td>...</td>\n",
       "      <td>...</td>\n",
       "      <td>...</td>\n",
       "      <td>...</td>\n",
       "      <td>...</td>\n",
       "      <td>...</td>\n",
       "      <td>...</td>\n",
       "      <td>...</td>\n",
       "    </tr>\n",
       "    <tr>\n",
       "      <th>62575</th>\n",
       "      <td>6</td>\n",
       "      <td>0</td>\n",
       "      <td>1</td>\n",
       "      <td>2</td>\n",
       "      <td>5</td>\n",
       "      <td>1</td>\n",
       "      <td>1</td>\n",
       "      <td>1</td>\n",
       "      <td>5</td>\n",
       "      <td>0.0</td>\n",
       "      <td>2.0</td>\n",
       "      <td>1</td>\n",
       "      <td>0</td>\n",
       "    </tr>\n",
       "    <tr>\n",
       "      <th>62645</th>\n",
       "      <td>6</td>\n",
       "      <td>0</td>\n",
       "      <td>0</td>\n",
       "      <td>2</td>\n",
       "      <td>6</td>\n",
       "      <td>1</td>\n",
       "      <td>1</td>\n",
       "      <td>1</td>\n",
       "      <td>6</td>\n",
       "      <td>0.0</td>\n",
       "      <td>2.0</td>\n",
       "      <td>1</td>\n",
       "      <td>0</td>\n",
       "    </tr>\n",
       "    <tr>\n",
       "      <th>63560</th>\n",
       "      <td>8</td>\n",
       "      <td>0</td>\n",
       "      <td>1</td>\n",
       "      <td>2</td>\n",
       "      <td>1</td>\n",
       "      <td>1</td>\n",
       "      <td>1</td>\n",
       "      <td>1</td>\n",
       "      <td>1</td>\n",
       "      <td>1.0</td>\n",
       "      <td>1.0</td>\n",
       "      <td>1</td>\n",
       "      <td>0</td>\n",
       "    </tr>\n",
       "    <tr>\n",
       "      <th>63602</th>\n",
       "      <td>7</td>\n",
       "      <td>0</td>\n",
       "      <td>0</td>\n",
       "      <td>1</td>\n",
       "      <td>0</td>\n",
       "      <td>1</td>\n",
       "      <td>1</td>\n",
       "      <td>1</td>\n",
       "      <td>0</td>\n",
       "      <td>0.0</td>\n",
       "      <td>3.0</td>\n",
       "      <td>0</td>\n",
       "      <td>0</td>\n",
       "    </tr>\n",
       "    <tr>\n",
       "      <th>64108</th>\n",
       "      <td>8</td>\n",
       "      <td>0</td>\n",
       "      <td>0</td>\n",
       "      <td>3</td>\n",
       "      <td>6</td>\n",
       "      <td>1</td>\n",
       "      <td>1</td>\n",
       "      <td>1</td>\n",
       "      <td>6</td>\n",
       "      <td>0.0</td>\n",
       "      <td>0.0</td>\n",
       "      <td>1</td>\n",
       "      <td>0</td>\n",
       "    </tr>\n",
       "  </tbody>\n",
       "</table>\n",
       "<p>3338 rows × 13 columns</p>\n",
       "</div>"
      ],
      "text/plain": [
       "       Time_series  Perceived_Race  Sex  Age_group_clean Occurrence_Category  \\\n",
       "33               5               0    0                3                   6   \n",
       "56               7               0    1                3                   3   \n",
       "58               5               0    1                3                   5   \n",
       "73               1               0    0                2                   6   \n",
       "137              3               0    0                1                   6   \n",
       "...            ...             ...  ...              ...                 ...   \n",
       "62575            6               0    1                2                   5   \n",
       "62645            6               0    0                2                   6   \n",
       "63560            8               0    1                2                   1   \n",
       "63602            7               0    0                1                   0   \n",
       "64108            8               0    0                3                   6   \n",
       "\n",
       "       Youth_at_arrest__under_18_years  StripSearch  Booked  \\\n",
       "33                                   1            1       1   \n",
       "56                                   1            1       1   \n",
       "58                                   1            1       1   \n",
       "73                                   1            1       1   \n",
       "137                                  1            1       1   \n",
       "...                                ...          ...     ...   \n",
       "62575                                1            1       1   \n",
       "62645                                1            1       1   \n",
       "63560                                1            1       1   \n",
       "63602                                1            1       1   \n",
       "64108                                1            1       1   \n",
       "\n",
       "      Occurrence_Category  ItemsFound  SearchReason  Actions_at_arrest  \\\n",
       "33                      6         0.0           2.0                  0   \n",
       "56                      3         1.0           2.0                  1   \n",
       "58                      5         0.0           2.0                  1   \n",
       "73                      6         0.0           4.0                  1   \n",
       "137                     6         0.0           4.0                  1   \n",
       "...                   ...         ...           ...                ...   \n",
       "62575                   5         0.0           2.0                  1   \n",
       "62645                   6         0.0           2.0                  1   \n",
       "63560                   1         1.0           1.0                  1   \n",
       "63602                   0         0.0           3.0                  0   \n",
       "64108                   6         0.0           0.0                  1   \n",
       "\n",
       "       Non_White  \n",
       "33             0  \n",
       "56             0  \n",
       "58             0  \n",
       "73             0  \n",
       "137            0  \n",
       "...          ...  \n",
       "62575          0  \n",
       "62645          0  \n",
       "63560          0  \n",
       "63602          0  \n",
       "64108          0  \n",
       "\n",
       "[3338 rows x 13 columns]"
      ]
     },
     "execution_count": 118,
     "metadata": {},
     "output_type": "execute_result"
    }
   ],
   "source": [
    "uncoop_race_group1"
   ]
  },
  {
   "cell_type": "code",
   "execution_count": 119,
   "metadata": {
    "colab": {
     "base_uri": "https://localhost:8080/"
    },
    "id": "hM8_ptiT3N6P",
    "outputId": "eb4a1e4c-015c-4566-8ddd-309078f743fd"
   },
   "outputs": [
    {
     "data": {
      "text/plain": [
       "Ttest_indResult(statistic=3.497863162864763, pvalue=0.0005414117861691657)"
      ]
     },
     "execution_count": 119,
     "metadata": {},
     "output_type": "execute_result"
    }
   ],
   "source": [
    "#Hypothesis: strip searched Youth and adults act at the same way while arrested.\n",
    "#H0: Mean Youth=Mean adults\n",
    "#Ha: Mean Youth!=Mean adults\n",
    "uncoop_youth_group1 = data[(data[\"Youth_at_arrest__under_18_years\"] == 1) & (data[\"StripSearch\"] == 1)] # youth\n",
    "uncoop_youth_group2 = data[(data[\"Youth_at_arrest__under_18_years\"] == 0) & (data[\"StripSearch\"] == 1)] # adult\n",
    "\n",
    "# Welch's t-test: for samples of unequal variance\n",
    "ttest_ind(uncoop_youth_group1['Actions_at_arrest'], uncoop_youth_group2[\"Actions_at_arrest\"], equal_var=False)\n",
    "\n",
    "# result is significant"
   ]
  },
  {
   "cell_type": "code",
   "execution_count": 120,
   "metadata": {
    "colab": {
     "base_uri": "https://localhost:8080/"
    },
    "id": "YonoBlD-4ILY",
    "outputId": "24a17974-48da-4bff-bce2-366d64bb3d4b"
   },
   "outputs": [
    {
     "data": {
      "text/plain": [
       "Ttest_indResult(statistic=-0.9432478045259425, pvalue=0.34568585953999675)"
      ]
     },
     "execution_count": 120,
     "metadata": {},
     "output_type": "execute_result"
    }
   ],
   "source": [
    "#Hypothesis: stripsearched Male and Female act at the same way while arrested.\n",
    "#H0: Mean stripsearched Male=Mean stripsearched Female\n",
    "#Ha: Mean stripsearched Male!=Mean stripsearched Female\n",
    "uncoop_sex_group1 = data[(data[\"Sex\"] == 1) & (data[\"StripSearch\"] == 1)] # female\n",
    "uncoop_sex_group2 = data[(data[\"Sex\"] == 0) & (data[\"StripSearch\"] == 1)] # male\n",
    "\n",
    "# Welch's t-test: for samples of unequal variance\n",
    "ttest_ind(uncoop_sex_group1['Actions_at_arrest'], uncoop_sex_group2[\"Actions_at_arrest\"], equal_var=False)\n",
    "\n",
    "# result is not significant"
   ]
  },
  {
   "cell_type": "code",
   "execution_count": 121,
   "metadata": {
    "colab": {
     "base_uri": "https://localhost:8080/"
    },
    "id": "bnPNczrC44L6",
    "outputId": "4d4ce1dc-6fdf-4717-d1ab-6f31cbdb98fb"
   },
   "outputs": [
    {
     "data": {
      "text/plain": [
       "Ttest_indResult(statistic=14.998240893135486, pvalue=3.311761565523231e-50)"
      ]
     },
     "execution_count": 121,
     "metadata": {},
     "output_type": "execute_result"
    }
   ],
   "source": [
    "#Hypothesis: Strip searched people and non Strip searched people act at the same way while arrested.\n",
    "#H0: Mean strip searched=Mean non strip searched\n",
    "#Ha: Mean strip searched!=Mean non strip searched\n",
    "\n",
    "uncoop_stripsearch_group1 = data[(data[\"StripSearch\"] == 1)] # strip searched\n",
    "uncoop_stripsearch_group2 = data[(data[\"StripSearch\"] == 0)] # not strip searched\n",
    "\n",
    "# Welch's t-test: for samples of unequal variance\n",
    "ttest_ind(uncoop_stripsearch_group1['Actions_at_arrest'], uncoop_stripsearch_group2[\"Actions_at_arrest\"], equal_var=False)\n",
    "\n",
    "# result is significant"
   ]
  },
  {
   "cell_type": "markdown",
   "metadata": {
    "id": "bz5rskaN-Vsx"
   },
   "source": [
    "# ANOVA"
   ]
  },
  {
   "cell_type": "code",
   "execution_count": 122,
   "metadata": {
    "id": "ImeAfb6f-bjj"
   },
   "outputs": [],
   "source": [
    "from scipy.stats import f\n",
    "import statsmodels.api as sm\n",
    "from statsmodels.formula.api import ols"
   ]
  },
  {
   "cell_type": "code",
   "execution_count": 123,
   "metadata": {
    "colab": {
     "base_uri": "https://localhost:8080/",
     "height": 550
    },
    "id": "htZCPF_q29Lm",
    "outputId": "bb9d438d-00f0-4f40-dd7b-ed3a0af0e8b5"
   },
   "outputs": [
    {
     "data": {
      "text/html": [
       "<div>\n",
       "<style scoped>\n",
       "    .dataframe tbody tr th:only-of-type {\n",
       "        vertical-align: middle;\n",
       "    }\n",
       "\n",
       "    .dataframe tbody tr th {\n",
       "        vertical-align: top;\n",
       "    }\n",
       "\n",
       "    .dataframe thead th {\n",
       "        text-align: right;\n",
       "    }\n",
       "</style>\n",
       "<table border=\"1\" class=\"dataframe\">\n",
       "  <thead>\n",
       "    <tr style=\"text-align: right;\">\n",
       "      <th></th>\n",
       "      <th>Perceived_Race</th>\n",
       "      <th>Sex</th>\n",
       "      <th>Coop_at_arrest_count</th>\n",
       "    </tr>\n",
       "  </thead>\n",
       "  <tbody>\n",
       "    <tr>\n",
       "      <th>0</th>\n",
       "      <td>0</td>\n",
       "      <td>0</td>\n",
       "      <td>9317</td>\n",
       "    </tr>\n",
       "    <tr>\n",
       "      <th>1</th>\n",
       "      <td>0</td>\n",
       "      <td>1</td>\n",
       "      <td>2618</td>\n",
       "    </tr>\n",
       "    <tr>\n",
       "      <th>2</th>\n",
       "      <td>1</td>\n",
       "      <td>0</td>\n",
       "      <td>1817</td>\n",
       "    </tr>\n",
       "    <tr>\n",
       "      <th>3</th>\n",
       "      <td>1</td>\n",
       "      <td>1</td>\n",
       "      <td>366</td>\n",
       "    </tr>\n",
       "    <tr>\n",
       "      <th>4</th>\n",
       "      <td>2</td>\n",
       "      <td>0</td>\n",
       "      <td>6060</td>\n",
       "    </tr>\n",
       "    <tr>\n",
       "      <th>5</th>\n",
       "      <td>2</td>\n",
       "      <td>1</td>\n",
       "      <td>1184</td>\n",
       "    </tr>\n",
       "    <tr>\n",
       "      <th>6</th>\n",
       "      <td>3</td>\n",
       "      <td>0</td>\n",
       "      <td>1388</td>\n",
       "    </tr>\n",
       "    <tr>\n",
       "      <th>7</th>\n",
       "      <td>3</td>\n",
       "      <td>1</td>\n",
       "      <td>235</td>\n",
       "    </tr>\n",
       "    <tr>\n",
       "      <th>8</th>\n",
       "      <td>4</td>\n",
       "      <td>0</td>\n",
       "      <td>495</td>\n",
       "    </tr>\n",
       "    <tr>\n",
       "      <th>9</th>\n",
       "      <td>4</td>\n",
       "      <td>1</td>\n",
       "      <td>239</td>\n",
       "    </tr>\n",
       "    <tr>\n",
       "      <th>10</th>\n",
       "      <td>5</td>\n",
       "      <td>0</td>\n",
       "      <td>1310</td>\n",
       "    </tr>\n",
       "    <tr>\n",
       "      <th>11</th>\n",
       "      <td>5</td>\n",
       "      <td>1</td>\n",
       "      <td>159</td>\n",
       "    </tr>\n",
       "    <tr>\n",
       "      <th>12</th>\n",
       "      <td>6</td>\n",
       "      <td>0</td>\n",
       "      <td>747</td>\n",
       "    </tr>\n",
       "    <tr>\n",
       "      <th>13</th>\n",
       "      <td>6</td>\n",
       "      <td>1</td>\n",
       "      <td>127</td>\n",
       "    </tr>\n",
       "    <tr>\n",
       "      <th>14</th>\n",
       "      <td>7</td>\n",
       "      <td>0</td>\n",
       "      <td>1844</td>\n",
       "    </tr>\n",
       "    <tr>\n",
       "      <th>15</th>\n",
       "      <td>7</td>\n",
       "      <td>1</td>\n",
       "      <td>357</td>\n",
       "    </tr>\n",
       "  </tbody>\n",
       "</table>\n",
       "</div>"
      ],
      "text/plain": [
       "    Perceived_Race  Sex  Coop_at_arrest_count\n",
       "0                0    0                  9317\n",
       "1                0    1                  2618\n",
       "2                1    0                  1817\n",
       "3                1    1                   366\n",
       "4                2    0                  6060\n",
       "5                2    1                  1184\n",
       "6                3    0                  1388\n",
       "7                3    1                   235\n",
       "8                4    0                   495\n",
       "9                4    1                   239\n",
       "10               5    0                  1310\n",
       "11               5    1                   159\n",
       "12               6    0                   747\n",
       "13               6    1                   127\n",
       "14               7    0                  1844\n",
       "15               7    1                   357"
      ]
     },
     "execution_count": 123,
     "metadata": {},
     "output_type": "execute_result"
    }
   ],
   "source": [
    "#create y and show a frequency table\n",
    "grouped_data0 = data.groupby(['Perceived_Race', 'Sex'])['Actions_at_arrest'].apply(lambda x: (x == 0).sum()).reset_index()\n",
    "grouped_data0 = grouped_data0.rename(columns={'Actions_at_arrest': 'Coop_at_arrest_count'})\n",
    "grouped_data0"
   ]
  },
  {
   "cell_type": "code",
   "execution_count": 124,
   "metadata": {
    "id": "ELL-kAU-0axE"
   },
   "outputs": [],
   "source": [
    "#start anova here"
   ]
  },
  {
   "cell_type": "code",
   "execution_count": 125,
   "metadata": {
    "colab": {
     "base_uri": "https://localhost:8080/",
     "height": 550
    },
    "id": "1BUIpMFN0309",
    "outputId": "a5fd15d6-ba0a-433e-8887-3fe305d3e063"
   },
   "outputs": [
    {
     "data": {
      "text/html": [
       "<div>\n",
       "<style scoped>\n",
       "    .dataframe tbody tr th:only-of-type {\n",
       "        vertical-align: middle;\n",
       "    }\n",
       "\n",
       "    .dataframe tbody tr th {\n",
       "        vertical-align: top;\n",
       "    }\n",
       "\n",
       "    .dataframe thead th {\n",
       "        text-align: right;\n",
       "    }\n",
       "</style>\n",
       "<table border=\"1\" class=\"dataframe\">\n",
       "  <thead>\n",
       "    <tr style=\"text-align: right;\">\n",
       "      <th></th>\n",
       "      <th>Perceived_Race</th>\n",
       "      <th>Sex</th>\n",
       "      <th>StripSearch_count</th>\n",
       "    </tr>\n",
       "  </thead>\n",
       "  <tbody>\n",
       "    <tr>\n",
       "      <th>0</th>\n",
       "      <td>0</td>\n",
       "      <td>0</td>\n",
       "      <td>2611</td>\n",
       "    </tr>\n",
       "    <tr>\n",
       "      <th>1</th>\n",
       "      <td>0</td>\n",
       "      <td>1</td>\n",
       "      <td>727</td>\n",
       "    </tr>\n",
       "    <tr>\n",
       "      <th>2</th>\n",
       "      <td>1</td>\n",
       "      <td>0</td>\n",
       "      <td>402</td>\n",
       "    </tr>\n",
       "    <tr>\n",
       "      <th>3</th>\n",
       "      <td>1</td>\n",
       "      <td>1</td>\n",
       "      <td>91</td>\n",
       "    </tr>\n",
       "    <tr>\n",
       "      <th>4</th>\n",
       "      <td>2</td>\n",
       "      <td>0</td>\n",
       "      <td>2055</td>\n",
       "    </tr>\n",
       "    <tr>\n",
       "      <th>5</th>\n",
       "      <td>2</td>\n",
       "      <td>1</td>\n",
       "      <td>244</td>\n",
       "    </tr>\n",
       "    <tr>\n",
       "      <th>6</th>\n",
       "      <td>3</td>\n",
       "      <td>0</td>\n",
       "      <td>222</td>\n",
       "    </tr>\n",
       "    <tr>\n",
       "      <th>7</th>\n",
       "      <td>3</td>\n",
       "      <td>1</td>\n",
       "      <td>26</td>\n",
       "    </tr>\n",
       "    <tr>\n",
       "      <th>8</th>\n",
       "      <td>4</td>\n",
       "      <td>0</td>\n",
       "      <td>219</td>\n",
       "    </tr>\n",
       "    <tr>\n",
       "      <th>9</th>\n",
       "      <td>4</td>\n",
       "      <td>1</td>\n",
       "      <td>68</td>\n",
       "    </tr>\n",
       "    <tr>\n",
       "      <th>10</th>\n",
       "      <td>5</td>\n",
       "      <td>0</td>\n",
       "      <td>196</td>\n",
       "    </tr>\n",
       "    <tr>\n",
       "      <th>11</th>\n",
       "      <td>5</td>\n",
       "      <td>1</td>\n",
       "      <td>18</td>\n",
       "    </tr>\n",
       "    <tr>\n",
       "      <th>12</th>\n",
       "      <td>6</td>\n",
       "      <td>0</td>\n",
       "      <td>115</td>\n",
       "    </tr>\n",
       "    <tr>\n",
       "      <th>13</th>\n",
       "      <td>6</td>\n",
       "      <td>1</td>\n",
       "      <td>10</td>\n",
       "    </tr>\n",
       "    <tr>\n",
       "      <th>14</th>\n",
       "      <td>7</td>\n",
       "      <td>0</td>\n",
       "      <td>303</td>\n",
       "    </tr>\n",
       "    <tr>\n",
       "      <th>15</th>\n",
       "      <td>7</td>\n",
       "      <td>1</td>\n",
       "      <td>24</td>\n",
       "    </tr>\n",
       "  </tbody>\n",
       "</table>\n",
       "</div>"
      ],
      "text/plain": [
       "    Perceived_Race  Sex  StripSearch_count\n",
       "0                0    0               2611\n",
       "1                0    1                727\n",
       "2                1    0                402\n",
       "3                1    1                 91\n",
       "4                2    0               2055\n",
       "5                2    1                244\n",
       "6                3    0                222\n",
       "7                3    1                 26\n",
       "8                4    0                219\n",
       "9                4    1                 68\n",
       "10               5    0                196\n",
       "11               5    1                 18\n",
       "12               6    0                115\n",
       "13               6    1                 10\n",
       "14               7    0                303\n",
       "15               7    1                 24"
      ]
     },
     "execution_count": 125,
     "metadata": {},
     "output_type": "execute_result"
    }
   ],
   "source": [
    "#create y and show a frequency table\n",
    "grouped_data1 = data.groupby(['Perceived_Race', 'Sex'])['StripSearch'].apply(lambda x: (x == 1).sum()).reset_index()\n",
    "grouped_data1 = grouped_data1.rename(columns={'StripSearch': 'StripSearch_count'})\n",
    "grouped_data1"
   ]
  },
  {
   "cell_type": "code",
   "execution_count": 126,
   "metadata": {
    "id": "WPlySnhDWIos"
   },
   "outputs": [],
   "source": [
    "#one way anova about strip search count and percieived race\n",
    "sample_0 = grouped_data1[grouped_data1['Perceived_Race'] == 0]['StripSearch_count']\n",
    "sample_1 = grouped_data1[grouped_data1['Perceived_Race'] == 2]['StripSearch_count']\n",
    "sample_2 = grouped_data1[grouped_data1['Perceived_Race'] == 3]['StripSearch_count']"
   ]
  },
  {
   "cell_type": "code",
   "execution_count": 127,
   "metadata": {
    "colab": {
     "base_uri": "https://localhost:8080/"
    },
    "id": "2JJuNRn-WIyt",
    "outputId": "b47b214c-f8f1-4612-a8f5-5599bd68b139"
   },
   "outputs": [
    {
     "name": "stdout",
     "output_type": "stream",
     "text": [
      "One-way ANOVA: s = 1.080016098799099, p = 0.4433056482344883\n"
     ]
    }
   ],
   "source": [
    "\n",
    "from scipy.stats import f_oneway\n",
    "\n",
    "# One-way ANOVA\n",
    "statistic, pvalue = f_oneway(sample_0, sample_1, sample_2)\n",
    "\n",
    "print(f'One-way ANOVA: s = {statistic}, p = {pvalue}')"
   ]
  },
  {
   "cell_type": "code",
   "execution_count": 128,
   "metadata": {
    "colab": {
     "base_uri": "https://localhost:8080/"
    },
    "id": "mzJT7s_DWyYD",
    "outputId": "c39c0b11-102f-4c87-b4eb-654c95d60315"
   },
   "outputs": [
    {
     "name": "stdout",
     "output_type": "stream",
     "text": [
      "   Multiple Comparison of Means - Tukey HSD, FWER=0.05   \n",
      "=========================================================\n",
      "group1 group2 meandiff p-adj    lower      upper   reject\n",
      "---------------------------------------------------------\n",
      "     0      1  -1422.5  0.466 -4059.9254 1214.9254  False\n",
      "     0      2   -519.5 0.9897 -3156.9254 2117.9254  False\n",
      "     0      3  -1545.0 0.3831 -4182.4254 1092.4254  False\n",
      "     0      4  -1525.5 0.3956 -4162.9254 1111.9254  False\n",
      "     0      5  -1562.0 0.3725 -4199.4254 1075.4254  False\n",
      "     0      6  -1606.5 0.3455 -4243.9254 1030.9254  False\n",
      "     0      7  -1505.5 0.4087 -4142.9254 1131.9254  False\n",
      "     1      2    903.0 0.8547 -1734.4254 3540.4254  False\n",
      "     1      3   -122.5    1.0 -2759.9254 2514.9254  False\n",
      "     1      4   -103.0    1.0 -2740.4254 2534.4254  False\n",
      "     1      5   -139.5    1.0 -2776.9254 2497.9254  False\n",
      "     1      6   -184.0    1.0 -2821.4254 2453.4254  False\n",
      "     1      7    -83.0    1.0 -2720.4254 2554.4254  False\n",
      "     2      3  -1025.5 0.7715 -3662.9254 1611.9254  False\n",
      "     2      4  -1006.0 0.7856 -3643.4254 1631.4254  False\n",
      "     2      5  -1042.5 0.7589 -3679.9254 1594.9254  False\n",
      "     2      6  -1087.0 0.7252 -3724.4254 1550.4254  False\n",
      "     2      7   -986.0 0.7998 -3623.4254 1651.4254  False\n",
      "     3      4     19.5    1.0 -2617.9254 2656.9254  False\n",
      "     3      5    -17.0    1.0 -2654.4254 2620.4254  False\n",
      "     3      6    -61.5    1.0 -2698.9254 2575.9254  False\n",
      "     3      7     39.5    1.0 -2597.9254 2676.9254  False\n",
      "     4      5    -36.5    1.0 -2673.9254 2600.9254  False\n",
      "     4      6    -81.0    1.0 -2718.4254 2556.4254  False\n",
      "     4      7     20.0    1.0 -2617.4254 2657.4254  False\n",
      "     5      6    -44.5    1.0 -2681.9254 2592.9254  False\n",
      "     5      7     56.5    1.0 -2580.9254 2693.9254  False\n",
      "     6      7    101.0    1.0 -2536.4254 2738.4254  False\n",
      "---------------------------------------------------------\n"
     ]
    }
   ],
   "source": [
    "from statsmodels.stats.multicomp import MultiComparison, pairwise_tukeyhsd\n",
    "tukey = pairwise_tukeyhsd(endog=grouped_data1['StripSearch_count'],\n",
    "                          groups=grouped_data1['Perceived_Race'],\n",
    "                          alpha=0.05)\n",
    "\n",
    "#display results\n",
    "print(tukey)\n"
   ]
  },
  {
   "cell_type": "code",
   "execution_count": 129,
   "metadata": {
    "id": "4DtzfjX0YG0Y"
   },
   "outputs": [],
   "source": [
    "sample_0 = grouped_data1[grouped_data1['Sex'] == 0]['StripSearch_count']\n",
    "sample_1 = grouped_data1[grouped_data1['Sex'] == 1]['StripSearch_count']\n"
   ]
  },
  {
   "cell_type": "code",
   "execution_count": 130,
   "metadata": {
    "colab": {
     "base_uri": "https://localhost:8080/"
    },
    "id": "ljYGJJ7UYa27",
    "outputId": "a98b3028-f812-44e4-f744-69decbc8a8ec"
   },
   "outputs": [
    {
     "name": "stdout",
     "output_type": "stream",
     "text": [
      "One-way ANOVA: s = 2.945390623047281, p = 0.10815697511427622\n"
     ]
    }
   ],
   "source": [
    "statistic, pvalue = f_oneway(sample_0, sample_1)\n",
    "\n",
    "print(f'One-way ANOVA: s = {statistic}, p = {pvalue}')"
   ]
  },
  {
   "cell_type": "code",
   "execution_count": 131,
   "metadata": {
    "colab": {
     "base_uri": "https://localhost:8080/"
    },
    "id": "GUF5aiSmYPl_",
    "outputId": "ade176d0-ae52-49d6-e541-b0c2c62bcbf5"
   },
   "outputs": [
    {
     "name": "stdout",
     "output_type": "stream",
     "text": [
      "  Multiple Comparison of Means - Tukey HSD, FWER=0.05   \n",
      "========================================================\n",
      "group1 group2 meandiff p-adj    lower     upper   reject\n",
      "--------------------------------------------------------\n",
      "     0      1 -614.375 0.1082 -1382.1716 153.4216  False\n",
      "--------------------------------------------------------\n"
     ]
    }
   ],
   "source": [
    "tukey = pairwise_tukeyhsd(endog=grouped_data1['StripSearch_count'],\n",
    "                          groups=grouped_data1['Sex'],\n",
    "                          alpha=0.05)\n",
    "\n",
    "#display results\n",
    "print(tukey)"
   ]
  },
  {
   "cell_type": "code",
   "execution_count": 132,
   "metadata": {
    "colab": {
     "base_uri": "https://localhost:8080/",
     "height": 174
    },
    "id": "PbLnsBSrqYft",
    "outputId": "ec21dcdc-1db2-4226-c76b-99ee28af9e79"
   },
   "outputs": [
    {
     "data": {
      "text/html": [
       "<div>\n",
       "<style scoped>\n",
       "    .dataframe tbody tr th:only-of-type {\n",
       "        vertical-align: middle;\n",
       "    }\n",
       "\n",
       "    .dataframe tbody tr th {\n",
       "        vertical-align: top;\n",
       "    }\n",
       "\n",
       "    .dataframe thead th {\n",
       "        text-align: right;\n",
       "    }\n",
       "</style>\n",
       "<table border=\"1\" class=\"dataframe\">\n",
       "  <thead>\n",
       "    <tr style=\"text-align: right;\">\n",
       "      <th></th>\n",
       "      <th>sum_sq</th>\n",
       "      <th>df</th>\n",
       "      <th>F</th>\n",
       "      <th>PR(&gt;F)</th>\n",
       "    </tr>\n",
       "  </thead>\n",
       "  <tbody>\n",
       "    <tr>\n",
       "      <th>Perceived_Race</th>\n",
       "      <td>2.568409e+07</td>\n",
       "      <td>1.0</td>\n",
       "      <td>7.723513</td>\n",
       "      <td>0.016678</td>\n",
       "    </tr>\n",
       "    <tr>\n",
       "      <th>Sex</th>\n",
       "      <td>1.956514e+07</td>\n",
       "      <td>1.0</td>\n",
       "      <td>5.883473</td>\n",
       "      <td>0.031989</td>\n",
       "    </tr>\n",
       "    <tr>\n",
       "      <th>Perceived_Race:Sex</th>\n",
       "      <td>8.269195e+06</td>\n",
       "      <td>1.0</td>\n",
       "      <td>2.486646</td>\n",
       "      <td>0.140800</td>\n",
       "    </tr>\n",
       "    <tr>\n",
       "      <th>Residual</th>\n",
       "      <td>3.990529e+07</td>\n",
       "      <td>12.0</td>\n",
       "      <td>NaN</td>\n",
       "      <td>NaN</td>\n",
       "    </tr>\n",
       "  </tbody>\n",
       "</table>\n",
       "</div>"
      ],
      "text/plain": [
       "                          sum_sq    df         F    PR(>F)\n",
       "Perceived_Race      2.568409e+07   1.0  7.723513  0.016678\n",
       "Sex                 1.956514e+07   1.0  5.883473  0.031989\n",
       "Perceived_Race:Sex  8.269195e+06   1.0  2.486646  0.140800\n",
       "Residual            3.990529e+07  12.0       NaN       NaN"
      ]
     },
     "execution_count": 132,
     "metadata": {},
     "output_type": "execute_result"
    }
   ],
   "source": [
    "model = ols(\"Coop_at_arrest_count ~ Perceived_Race + Sex+Perceived_Race:Sex\", data = grouped_data0).fit()\n",
    "sm.stats.anova_lm(model, typ=2)"
   ]
  },
  {
   "cell_type": "code",
   "execution_count": 133,
   "metadata": {
    "colab": {
     "base_uri": "https://localhost:8080/",
     "height": 174
    },
    "id": "og68IwDfs5oj",
    "outputId": "f6cc7a73-3aeb-4753-8c63-adaa52bfc37e"
   },
   "outputs": [
    {
     "data": {
      "text/html": [
       "<div>\n",
       "<style scoped>\n",
       "    .dataframe tbody tr th:only-of-type {\n",
       "        vertical-align: middle;\n",
       "    }\n",
       "\n",
       "    .dataframe tbody tr th {\n",
       "        vertical-align: top;\n",
       "    }\n",
       "\n",
       "    .dataframe thead th {\n",
       "        text-align: right;\n",
       "    }\n",
       "</style>\n",
       "<table border=\"1\" class=\"dataframe\">\n",
       "  <thead>\n",
       "    <tr style=\"text-align: right;\">\n",
       "      <th></th>\n",
       "      <th>sum_sq</th>\n",
       "      <th>df</th>\n",
       "      <th>F</th>\n",
       "      <th>PR(&gt;F)</th>\n",
       "    </tr>\n",
       "  </thead>\n",
       "  <tbody>\n",
       "    <tr>\n",
       "      <th>Perceived_Race</th>\n",
       "      <td>2.525987e+06</td>\n",
       "      <td>1.0</td>\n",
       "      <td>8.042183</td>\n",
       "      <td>0.015011</td>\n",
       "    </tr>\n",
       "    <tr>\n",
       "      <th>Sex</th>\n",
       "      <td>1.509827e+06</td>\n",
       "      <td>1.0</td>\n",
       "      <td>4.806953</td>\n",
       "      <td>0.048791</td>\n",
       "    </tr>\n",
       "    <tr>\n",
       "      <th>Perceived_Race:Sex</th>\n",
       "      <td>8.813979e+05</td>\n",
       "      <td>1.0</td>\n",
       "      <td>2.806175</td>\n",
       "      <td>0.119742</td>\n",
       "    </tr>\n",
       "    <tr>\n",
       "      <th>Residual</th>\n",
       "      <td>3.769107e+06</td>\n",
       "      <td>12.0</td>\n",
       "      <td>NaN</td>\n",
       "      <td>NaN</td>\n",
       "    </tr>\n",
       "  </tbody>\n",
       "</table>\n",
       "</div>"
      ],
      "text/plain": [
       "                          sum_sq    df         F    PR(>F)\n",
       "Perceived_Race      2.525987e+06   1.0  8.042183  0.015011\n",
       "Sex                 1.509827e+06   1.0  4.806953  0.048791\n",
       "Perceived_Race:Sex  8.813979e+05   1.0  2.806175  0.119742\n",
       "Residual            3.769107e+06  12.0       NaN       NaN"
      ]
     },
     "execution_count": 133,
     "metadata": {},
     "output_type": "execute_result"
    }
   ],
   "source": [
    "model_1 = ols(\"StripSearch_count ~ Perceived_Race + Sex+Perceived_Race:Sex\", data = grouped_data1).fit()\n",
    "sm.stats.anova_lm(model_1, typ=2)"
   ]
  },
  {
   "cell_type": "code",
   "execution_count": 134,
   "metadata": {
    "colab": {
     "base_uri": "https://localhost:8080/",
     "height": 550
    },
    "id": "lNTKa7EICenu",
    "outputId": "a67f3793-335d-4725-8347-dd3cd33143c1"
   },
   "outputs": [
    {
     "data": {
      "text/html": [
       "<div>\n",
       "<style scoped>\n",
       "    .dataframe tbody tr th:only-of-type {\n",
       "        vertical-align: middle;\n",
       "    }\n",
       "\n",
       "    .dataframe tbody tr th {\n",
       "        vertical-align: top;\n",
       "    }\n",
       "\n",
       "    .dataframe thead th {\n",
       "        text-align: right;\n",
       "    }\n",
       "</style>\n",
       "<table border=\"1\" class=\"dataframe\">\n",
       "  <thead>\n",
       "    <tr style=\"text-align: right;\">\n",
       "      <th></th>\n",
       "      <th>Perceived_Race</th>\n",
       "      <th>Youth_at_arrest__under_18_years</th>\n",
       "      <th>Uncoop_at_arrest_count</th>\n",
       "    </tr>\n",
       "  </thead>\n",
       "  <tbody>\n",
       "    <tr>\n",
       "      <th>0</th>\n",
       "      <td>0</td>\n",
       "      <td>0</td>\n",
       "      <td>431</td>\n",
       "    </tr>\n",
       "    <tr>\n",
       "      <th>1</th>\n",
       "      <td>0</td>\n",
       "      <td>1</td>\n",
       "      <td>12632</td>\n",
       "    </tr>\n",
       "    <tr>\n",
       "      <th>2</th>\n",
       "      <td>1</td>\n",
       "      <td>0</td>\n",
       "      <td>111</td>\n",
       "    </tr>\n",
       "    <tr>\n",
       "      <th>3</th>\n",
       "      <td>1</td>\n",
       "      <td>1</td>\n",
       "      <td>2405</td>\n",
       "    </tr>\n",
       "    <tr>\n",
       "      <th>4</th>\n",
       "      <td>2</td>\n",
       "      <td>0</td>\n",
       "      <td>663</td>\n",
       "    </tr>\n",
       "    <tr>\n",
       "      <th>5</th>\n",
       "      <td>2</td>\n",
       "      <td>1</td>\n",
       "      <td>7766</td>\n",
       "    </tr>\n",
       "    <tr>\n",
       "      <th>6</th>\n",
       "      <td>3</td>\n",
       "      <td>0</td>\n",
       "      <td>42</td>\n",
       "    </tr>\n",
       "    <tr>\n",
       "      <th>7</th>\n",
       "      <td>3</td>\n",
       "      <td>1</td>\n",
       "      <td>1702</td>\n",
       "    </tr>\n",
       "    <tr>\n",
       "      <th>8</th>\n",
       "      <td>4</td>\n",
       "      <td>0</td>\n",
       "      <td>13</td>\n",
       "    </tr>\n",
       "    <tr>\n",
       "      <th>9</th>\n",
       "      <td>4</td>\n",
       "      <td>1</td>\n",
       "      <td>898</td>\n",
       "    </tr>\n",
       "    <tr>\n",
       "      <th>10</th>\n",
       "      <td>5</td>\n",
       "      <td>0</td>\n",
       "      <td>103</td>\n",
       "    </tr>\n",
       "    <tr>\n",
       "      <th>11</th>\n",
       "      <td>5</td>\n",
       "      <td>1</td>\n",
       "      <td>1394</td>\n",
       "    </tr>\n",
       "    <tr>\n",
       "      <th>12</th>\n",
       "      <td>6</td>\n",
       "      <td>0</td>\n",
       "      <td>30</td>\n",
       "    </tr>\n",
       "    <tr>\n",
       "      <th>13</th>\n",
       "      <td>6</td>\n",
       "      <td>1</td>\n",
       "      <td>720</td>\n",
       "    </tr>\n",
       "    <tr>\n",
       "      <th>14</th>\n",
       "      <td>7</td>\n",
       "      <td>0</td>\n",
       "      <td>76</td>\n",
       "    </tr>\n",
       "    <tr>\n",
       "      <th>15</th>\n",
       "      <td>7</td>\n",
       "      <td>1</td>\n",
       "      <td>1876</td>\n",
       "    </tr>\n",
       "  </tbody>\n",
       "</table>\n",
       "</div>"
      ],
      "text/plain": [
       "    Perceived_Race  Youth_at_arrest__under_18_years  Uncoop_at_arrest_count\n",
       "0                0                                0                     431\n",
       "1                0                                1                   12632\n",
       "2                1                                0                     111\n",
       "3                1                                1                    2405\n",
       "4                2                                0                     663\n",
       "5                2                                1                    7766\n",
       "6                3                                0                      42\n",
       "7                3                                1                    1702\n",
       "8                4                                0                      13\n",
       "9                4                                1                     898\n",
       "10               5                                0                     103\n",
       "11               5                                1                    1394\n",
       "12               6                                0                      30\n",
       "13               6                                1                     720\n",
       "14               7                                0                      76\n",
       "15               7                                1                    1876"
      ]
     },
     "execution_count": 134,
     "metadata": {},
     "output_type": "execute_result"
    }
   ],
   "source": [
    "grouped_data2 = data.groupby(['Perceived_Race', 'Youth_at_arrest__under_18_years'])['Actions_at_arrest'].apply(lambda x: (x == 1).sum()).reset_index()\n",
    "grouped_data2 = grouped_data2.rename(columns={'Actions_at_arrest': 'Uncoop_at_arrest_count'})\n",
    "grouped_data2"
   ]
  },
  {
   "cell_type": "code",
   "execution_count": 135,
   "metadata": {
    "colab": {
     "base_uri": "https://localhost:8080/",
     "height": 174
    },
    "id": "MicaOA7KDOpE",
    "outputId": "47c14eb1-532a-4c9d-96cb-b7ca161fe0dd"
   },
   "outputs": [
    {
     "data": {
      "text/html": [
       "<div>\n",
       "<style scoped>\n",
       "    .dataframe tbody tr th:only-of-type {\n",
       "        vertical-align: middle;\n",
       "    }\n",
       "\n",
       "    .dataframe tbody tr th {\n",
       "        vertical-align: top;\n",
       "    }\n",
       "\n",
       "    .dataframe thead th {\n",
       "        text-align: right;\n",
       "    }\n",
       "</style>\n",
       "<table border=\"1\" class=\"dataframe\">\n",
       "  <thead>\n",
       "    <tr style=\"text-align: right;\">\n",
       "      <th></th>\n",
       "      <th>sum_sq</th>\n",
       "      <th>df</th>\n",
       "      <th>F</th>\n",
       "      <th>PR(&gt;F)</th>\n",
       "    </tr>\n",
       "  </thead>\n",
       "  <tbody>\n",
       "    <tr>\n",
       "      <th>Perceived_Race</th>\n",
       "      <td>3.486617e+07</td>\n",
       "      <td>1.0</td>\n",
       "      <td>6.570073</td>\n",
       "      <td>0.024854</td>\n",
       "    </tr>\n",
       "    <tr>\n",
       "      <th>Youth_at_arrest__under_18_years</th>\n",
       "      <td>4.873436e+07</td>\n",
       "      <td>1.0</td>\n",
       "      <td>9.183353</td>\n",
       "      <td>0.010459</td>\n",
       "    </tr>\n",
       "    <tr>\n",
       "      <th>Perceived_Race:Youth_at_arrest__under_18_years</th>\n",
       "      <td>2.919204e+07</td>\n",
       "      <td>1.0</td>\n",
       "      <td>5.500858</td>\n",
       "      <td>0.037021</td>\n",
       "    </tr>\n",
       "    <tr>\n",
       "      <th>Residual</th>\n",
       "      <td>6.368179e+07</td>\n",
       "      <td>12.0</td>\n",
       "      <td>NaN</td>\n",
       "      <td>NaN</td>\n",
       "    </tr>\n",
       "  </tbody>\n",
       "</table>\n",
       "</div>"
      ],
      "text/plain": [
       "                                                      sum_sq    df         F  \\\n",
       "Perceived_Race                                  3.486617e+07   1.0  6.570073   \n",
       "Youth_at_arrest__under_18_years                 4.873436e+07   1.0  9.183353   \n",
       "Perceived_Race:Youth_at_arrest__under_18_years  2.919204e+07   1.0  5.500858   \n",
       "Residual                                        6.368179e+07  12.0       NaN   \n",
       "\n",
       "                                                  PR(>F)  \n",
       "Perceived_Race                                  0.024854  \n",
       "Youth_at_arrest__under_18_years                 0.010459  \n",
       "Perceived_Race:Youth_at_arrest__under_18_years  0.037021  \n",
       "Residual                                             NaN  "
      ]
     },
     "execution_count": 135,
     "metadata": {},
     "output_type": "execute_result"
    }
   ],
   "source": [
    "model_2 = ols(\"Uncoop_at_arrest_count ~ Perceived_Race + Youth_at_arrest__under_18_years+Perceived_Race:Youth_at_arrest__under_18_years\", data = grouped_data2).fit()\n",
    "sm.stats.anova_lm(model_2, typ=2)"
   ]
  },
  {
   "cell_type": "code",
   "execution_count": 136,
   "metadata": {
    "colab": {
     "base_uri": "https://localhost:8080/",
     "height": 550
    },
    "id": "xpDAxFKtD4rM",
    "outputId": "c054c006-e739-44d9-ce20-4f00e12fe105"
   },
   "outputs": [
    {
     "data": {
      "text/html": [
       "<div>\n",
       "<style scoped>\n",
       "    .dataframe tbody tr th:only-of-type {\n",
       "        vertical-align: middle;\n",
       "    }\n",
       "\n",
       "    .dataframe tbody tr th {\n",
       "        vertical-align: top;\n",
       "    }\n",
       "\n",
       "    .dataframe thead th {\n",
       "        text-align: right;\n",
       "    }\n",
       "</style>\n",
       "<table border=\"1\" class=\"dataframe\">\n",
       "  <thead>\n",
       "    <tr style=\"text-align: right;\">\n",
       "      <th></th>\n",
       "      <th>Perceived_Race</th>\n",
       "      <th>Sex</th>\n",
       "      <th>Uncoop_at_arrest_count</th>\n",
       "    </tr>\n",
       "  </thead>\n",
       "  <tbody>\n",
       "    <tr>\n",
       "      <th>0</th>\n",
       "      <td>0</td>\n",
       "      <td>0</td>\n",
       "      <td>10114</td>\n",
       "    </tr>\n",
       "    <tr>\n",
       "      <th>1</th>\n",
       "      <td>0</td>\n",
       "      <td>1</td>\n",
       "      <td>2949</td>\n",
       "    </tr>\n",
       "    <tr>\n",
       "      <th>2</th>\n",
       "      <td>1</td>\n",
       "      <td>0</td>\n",
       "      <td>2017</td>\n",
       "    </tr>\n",
       "    <tr>\n",
       "      <th>3</th>\n",
       "      <td>1</td>\n",
       "      <td>1</td>\n",
       "      <td>499</td>\n",
       "    </tr>\n",
       "    <tr>\n",
       "      <th>4</th>\n",
       "      <td>2</td>\n",
       "      <td>0</td>\n",
       "      <td>6947</td>\n",
       "    </tr>\n",
       "    <tr>\n",
       "      <th>5</th>\n",
       "      <td>2</td>\n",
       "      <td>1</td>\n",
       "      <td>1482</td>\n",
       "    </tr>\n",
       "    <tr>\n",
       "      <th>6</th>\n",
       "      <td>3</td>\n",
       "      <td>0</td>\n",
       "      <td>1496</td>\n",
       "    </tr>\n",
       "    <tr>\n",
       "      <th>7</th>\n",
       "      <td>3</td>\n",
       "      <td>1</td>\n",
       "      <td>248</td>\n",
       "    </tr>\n",
       "    <tr>\n",
       "      <th>8</th>\n",
       "      <td>4</td>\n",
       "      <td>0</td>\n",
       "      <td>599</td>\n",
       "    </tr>\n",
       "    <tr>\n",
       "      <th>9</th>\n",
       "      <td>4</td>\n",
       "      <td>1</td>\n",
       "      <td>312</td>\n",
       "    </tr>\n",
       "    <tr>\n",
       "      <th>10</th>\n",
       "      <td>5</td>\n",
       "      <td>0</td>\n",
       "      <td>1319</td>\n",
       "    </tr>\n",
       "    <tr>\n",
       "      <th>11</th>\n",
       "      <td>5</td>\n",
       "      <td>1</td>\n",
       "      <td>178</td>\n",
       "    </tr>\n",
       "    <tr>\n",
       "      <th>12</th>\n",
       "      <td>6</td>\n",
       "      <td>0</td>\n",
       "      <td>633</td>\n",
       "    </tr>\n",
       "    <tr>\n",
       "      <th>13</th>\n",
       "      <td>6</td>\n",
       "      <td>1</td>\n",
       "      <td>117</td>\n",
       "    </tr>\n",
       "    <tr>\n",
       "      <th>14</th>\n",
       "      <td>7</td>\n",
       "      <td>0</td>\n",
       "      <td>1601</td>\n",
       "    </tr>\n",
       "    <tr>\n",
       "      <th>15</th>\n",
       "      <td>7</td>\n",
       "      <td>1</td>\n",
       "      <td>351</td>\n",
       "    </tr>\n",
       "  </tbody>\n",
       "</table>\n",
       "</div>"
      ],
      "text/plain": [
       "    Perceived_Race  Sex  Uncoop_at_arrest_count\n",
       "0                0    0                   10114\n",
       "1                0    1                    2949\n",
       "2                1    0                    2017\n",
       "3                1    1                     499\n",
       "4                2    0                    6947\n",
       "5                2    1                    1482\n",
       "6                3    0                    1496\n",
       "7                3    1                     248\n",
       "8                4    0                     599\n",
       "9                4    1                     312\n",
       "10               5    0                    1319\n",
       "11               5    1                     178\n",
       "12               6    0                     633\n",
       "13               6    1                     117\n",
       "14               7    0                    1601\n",
       "15               7    1                     351"
      ]
     },
     "execution_count": 136,
     "metadata": {},
     "output_type": "execute_result"
    }
   ],
   "source": [
    "#this is for uncoop data\n",
    "grouped_data3 = data.groupby(['Perceived_Race', 'Sex'])['Actions_at_arrest'].apply(lambda x: (x == 1).sum()).reset_index()\n",
    "grouped_data3 = grouped_data3.rename(columns={'Actions_at_arrest': 'Uncoop_at_arrest_count'})\n",
    "grouped_data3"
   ]
  },
  {
   "cell_type": "code",
   "execution_count": 137,
   "metadata": {
    "colab": {
     "base_uri": "https://localhost:8080/",
     "height": 174
    },
    "id": "HElQDU-WD40x",
    "outputId": "58cd2bfc-918e-4813-c7cf-969d230754fc"
   },
   "outputs": [
    {
     "data": {
      "text/html": [
       "<div>\n",
       "<style scoped>\n",
       "    .dataframe tbody tr th:only-of-type {\n",
       "        vertical-align: middle;\n",
       "    }\n",
       "\n",
       "    .dataframe tbody tr th {\n",
       "        vertical-align: top;\n",
       "    }\n",
       "\n",
       "    .dataframe thead th {\n",
       "        text-align: right;\n",
       "    }\n",
       "</style>\n",
       "<table border=\"1\" class=\"dataframe\">\n",
       "  <thead>\n",
       "    <tr style=\"text-align: right;\">\n",
       "      <th></th>\n",
       "      <th>sum_sq</th>\n",
       "      <th>df</th>\n",
       "      <th>F</th>\n",
       "      <th>PR(&gt;F)</th>\n",
       "    </tr>\n",
       "  </thead>\n",
       "  <tbody>\n",
       "    <tr>\n",
       "      <th>Perceived_Race</th>\n",
       "      <td>3.486617e+07</td>\n",
       "      <td>1.0</td>\n",
       "      <td>8.986392</td>\n",
       "      <td>0.011113</td>\n",
       "    </tr>\n",
       "    <tr>\n",
       "      <th>Sex</th>\n",
       "      <td>2.159926e+07</td>\n",
       "      <td>1.0</td>\n",
       "      <td>5.566984</td>\n",
       "      <td>0.036088</td>\n",
       "    </tr>\n",
       "    <tr>\n",
       "      <th>Perceived_Race:Sex</th>\n",
       "      <td>1.083893e+07</td>\n",
       "      <td>1.0</td>\n",
       "      <td>2.793622</td>\n",
       "      <td>0.120492</td>\n",
       "    </tr>\n",
       "    <tr>\n",
       "      <th>Residual</th>\n",
       "      <td>4.655862e+07</td>\n",
       "      <td>12.0</td>\n",
       "      <td>NaN</td>\n",
       "      <td>NaN</td>\n",
       "    </tr>\n",
       "  </tbody>\n",
       "</table>\n",
       "</div>"
      ],
      "text/plain": [
       "                          sum_sq    df         F    PR(>F)\n",
       "Perceived_Race      3.486617e+07   1.0  8.986392  0.011113\n",
       "Sex                 2.159926e+07   1.0  5.566984  0.036088\n",
       "Perceived_Race:Sex  1.083893e+07   1.0  2.793622  0.120492\n",
       "Residual            4.655862e+07  12.0       NaN       NaN"
      ]
     },
     "execution_count": 137,
     "metadata": {},
     "output_type": "execute_result"
    }
   ],
   "source": [
    "#this model similar to model, but for uncoop actions\n",
    "model_3 = ols(\"Uncoop_at_arrest_count ~ Perceived_Race + Sex+Perceived_Race:Sex\", data = grouped_data3).fit()\n",
    "sm.stats.anova_lm(model_3, typ=2)"
   ]
  },
  {
   "cell_type": "markdown",
   "metadata": {
    "id": "ttQcwJI_In8F"
   },
   "source": [
    "# Post-Hoc Testing: Tukey's HSD"
   ]
  },
  {
   "cell_type": "code",
   "execution_count": 138,
   "metadata": {
    "colab": {
     "base_uri": "https://localhost:8080/"
    },
    "id": "E3hdZUMW-mDW",
    "outputId": "adebc6b9-d4c4-4abb-dd7a-4fadf23f7697"
   },
   "outputs": [
    {
     "name": "stdout",
     "output_type": "stream",
     "text": [
      "    Multiple Comparison of Means - Tukey HSD, FWER=0.05    \n",
      "===========================================================\n",
      "group1 group2 meandiff p-adj     lower      upper    reject\n",
      "-----------------------------------------------------------\n",
      "     0      1  -4876.0 0.4188 -13504.4166  3752.4166  False\n",
      "     0      2  -2345.5 0.9457 -10973.9166  6282.9166  False\n",
      "     0      3  -5156.0 0.3638 -13784.4166  3472.4166  False\n",
      "     0      4  -5600.5 0.2876 -14228.9166  3027.9166  False\n",
      "     0      5  -5233.0 0.3496 -13861.4166  3395.4166  False\n",
      "     0      6  -5530.5 0.2987 -14158.9166  3097.9166  False\n",
      "     0      7  -4867.0 0.4206 -13495.4166  3761.4166  False\n",
      "     1      2   2530.5 0.9232  -6097.9166 11158.9166  False\n",
      "     1      3   -280.0    1.0  -8908.4166  8348.4166  False\n",
      "     1      4   -724.5    1.0  -9352.9166  7903.9166  False\n",
      "     1      5   -357.0    1.0  -8985.4166  8271.4166  False\n",
      "     1      6   -654.5    1.0  -9282.9166  7973.9166  False\n",
      "     1      7      9.0    1.0  -8619.4166  8637.4166  False\n",
      "     2      3  -2810.5 0.8805 -11438.9166  5817.9166  False\n",
      "     2      4  -3255.0 0.7935 -11883.4166  5373.4166  False\n",
      "     2      5  -2887.5  0.867 -11515.9166  5740.9166  False\n",
      "     2      6  -3185.0 0.8085 -11813.4166  5443.4166  False\n",
      "     2      7  -2521.5 0.9244 -11149.9166  6106.9166  False\n",
      "     3      4   -444.5    1.0  -9072.9166  8183.9166  False\n",
      "     3      5    -77.0    1.0  -8705.4166  8551.4166  False\n",
      "     3      6   -374.5    1.0  -9002.9166  8253.9166  False\n",
      "     3      7    289.0    1.0  -8339.4166  8917.4166  False\n",
      "     4      5    367.5    1.0  -8260.9166  8995.9166  False\n",
      "     4      6     70.0    1.0  -8558.4166  8698.4166  False\n",
      "     4      7    733.5 0.9999  -7894.9166  9361.9166  False\n",
      "     5      6   -297.5    1.0  -8925.9166  8330.9166  False\n",
      "     5      7    366.0    1.0  -8262.4166  8994.4166  False\n",
      "     6      7    663.5    1.0  -7964.9166  9291.9166  False\n",
      "-----------------------------------------------------------\n"
     ]
    }
   ],
   "source": [
    "from statsmodels.stats.multicomp import MultiComparison, pairwise_tukeyhsd\n",
    "\n",
    "# Perform a Tukey's HSD test to compare individual groups\n",
    "mc = MultiComparison(grouped_data0['Coop_at_arrest_count'], grouped_data0['Perceived_Race'])\n",
    "tukey_results = mc.tukeyhsd(alpha=0.05)\n",
    "print(tukey_results)"
   ]
  },
  {
   "cell_type": "code",
   "execution_count": 139,
   "metadata": {
    "colab": {
     "base_uri": "https://localhost:8080/"
    },
    "id": "6dIR66CrAUtk",
    "outputId": "aa5b0727-ee25-457b-fe98-574cb6e0e84c"
   },
   "outputs": [
    {
     "name": "stdout",
     "output_type": "stream",
     "text": [
      "   Multiple Comparison of Means - Tukey HSD, FWER=0.05   \n",
      "=========================================================\n",
      "group1 group2  meandiff p-adj    lower     upper   reject\n",
      "---------------------------------------------------------\n",
      "     0      1 -2211.625 0.0747 -4674.7732 251.5232  False\n",
      "---------------------------------------------------------\n"
     ]
    }
   ],
   "source": [
    "mc = MultiComparison(grouped_data0['Coop_at_arrest_count'], grouped_data0['Sex'])\n",
    "tukey_results = mc.tukeyhsd(alpha=0.05)\n",
    "print(tukey_results)"
   ]
  },
  {
   "cell_type": "code",
   "execution_count": 140,
   "metadata": {
    "colab": {
     "base_uri": "https://localhost:8080/"
    },
    "id": "pZE_yq8z6Srn",
    "outputId": "017fa8c1-477f-43a6-a187-b6af759567d6"
   },
   "outputs": [
    {
     "name": "stdout",
     "output_type": "stream",
     "text": [
      "   Multiple Comparison of Means - Tukey HSD, FWER=0.05   \n",
      "=========================================================\n",
      "group1 group2 meandiff p-adj    lower      upper   reject\n",
      "---------------------------------------------------------\n",
      "     0      1  -1422.5  0.466 -4059.9254 1214.9254  False\n",
      "     0      2   -519.5 0.9897 -3156.9254 2117.9254  False\n",
      "     0      3  -1545.0 0.3831 -4182.4254 1092.4254  False\n",
      "     0      4  -1525.5 0.3956 -4162.9254 1111.9254  False\n",
      "     0      5  -1562.0 0.3725 -4199.4254 1075.4254  False\n",
      "     0      6  -1606.5 0.3455 -4243.9254 1030.9254  False\n",
      "     0      7  -1505.5 0.4087 -4142.9254 1131.9254  False\n",
      "     1      2    903.0 0.8547 -1734.4254 3540.4254  False\n",
      "     1      3   -122.5    1.0 -2759.9254 2514.9254  False\n",
      "     1      4   -103.0    1.0 -2740.4254 2534.4254  False\n",
      "     1      5   -139.5    1.0 -2776.9254 2497.9254  False\n",
      "     1      6   -184.0    1.0 -2821.4254 2453.4254  False\n",
      "     1      7    -83.0    1.0 -2720.4254 2554.4254  False\n",
      "     2      3  -1025.5 0.7715 -3662.9254 1611.9254  False\n",
      "     2      4  -1006.0 0.7856 -3643.4254 1631.4254  False\n",
      "     2      5  -1042.5 0.7589 -3679.9254 1594.9254  False\n",
      "     2      6  -1087.0 0.7252 -3724.4254 1550.4254  False\n",
      "     2      7   -986.0 0.7998 -3623.4254 1651.4254  False\n",
      "     3      4     19.5    1.0 -2617.9254 2656.9254  False\n",
      "     3      5    -17.0    1.0 -2654.4254 2620.4254  False\n",
      "     3      6    -61.5    1.0 -2698.9254 2575.9254  False\n",
      "     3      7     39.5    1.0 -2597.9254 2676.9254  False\n",
      "     4      5    -36.5    1.0 -2673.9254 2600.9254  False\n",
      "     4      6    -81.0    1.0 -2718.4254 2556.4254  False\n",
      "     4      7     20.0    1.0 -2617.4254 2657.4254  False\n",
      "     5      6    -44.5    1.0 -2681.9254 2592.9254  False\n",
      "     5      7     56.5    1.0 -2580.9254 2693.9254  False\n",
      "     6      7    101.0    1.0 -2536.4254 2738.4254  False\n",
      "---------------------------------------------------------\n"
     ]
    }
   ],
   "source": [
    "from statsmodels.stats.multicomp import MultiComparison, pairwise_tukeyhsd\n",
    "\n",
    "# Perform a Tukey's HSD test to compare individual groups\n",
    "mc = MultiComparison(grouped_data1['StripSearch_count'], grouped_data1['Perceived_Race'])\n",
    "tukey_results = mc.tukeyhsd(alpha=0.05)\n",
    "print(tukey_results)"
   ]
  },
  {
   "cell_type": "code",
   "execution_count": 141,
   "metadata": {
    "colab": {
     "base_uri": "https://localhost:8080/"
    },
    "id": "9PS4HH4VAgPr",
    "outputId": "c747bca8-da42-41f8-fae3-ea601395e05d"
   },
   "outputs": [
    {
     "name": "stdout",
     "output_type": "stream",
     "text": [
      "  Multiple Comparison of Means - Tukey HSD, FWER=0.05   \n",
      "========================================================\n",
      "group1 group2 meandiff p-adj    lower     upper   reject\n",
      "--------------------------------------------------------\n",
      "     0      1 -614.375 0.1082 -1382.1716 153.4216  False\n",
      "--------------------------------------------------------\n"
     ]
    }
   ],
   "source": [
    "mc = MultiComparison(grouped_data1['StripSearch_count'], grouped_data1['Sex'])\n",
    "tukey_results = mc.tukeyhsd(alpha=0.05)\n",
    "print(tukey_results)"
   ]
  },
  {
   "cell_type": "code",
   "execution_count": 142,
   "metadata": {
    "colab": {
     "base_uri": "https://localhost:8080/",
     "height": 550
    },
    "id": "T65JrP1AFdZQ",
    "outputId": "83ecc76d-2c31-4558-cbe8-10cb6e447fcd"
   },
   "outputs": [
    {
     "data": {
      "text/html": [
       "<div>\n",
       "<style scoped>\n",
       "    .dataframe tbody tr th:only-of-type {\n",
       "        vertical-align: middle;\n",
       "    }\n",
       "\n",
       "    .dataframe tbody tr th {\n",
       "        vertical-align: top;\n",
       "    }\n",
       "\n",
       "    .dataframe thead th {\n",
       "        text-align: right;\n",
       "    }\n",
       "</style>\n",
       "<table border=\"1\" class=\"dataframe\">\n",
       "  <thead>\n",
       "    <tr style=\"text-align: right;\">\n",
       "      <th></th>\n",
       "      <th>Perceived_Race</th>\n",
       "      <th>Youth_at_arrest__under_18_years</th>\n",
       "      <th>Uncoop_at_arrest_count</th>\n",
       "    </tr>\n",
       "  </thead>\n",
       "  <tbody>\n",
       "    <tr>\n",
       "      <th>0</th>\n",
       "      <td>0</td>\n",
       "      <td>0</td>\n",
       "      <td>431</td>\n",
       "    </tr>\n",
       "    <tr>\n",
       "      <th>1</th>\n",
       "      <td>0</td>\n",
       "      <td>1</td>\n",
       "      <td>12632</td>\n",
       "    </tr>\n",
       "    <tr>\n",
       "      <th>2</th>\n",
       "      <td>1</td>\n",
       "      <td>0</td>\n",
       "      <td>111</td>\n",
       "    </tr>\n",
       "    <tr>\n",
       "      <th>3</th>\n",
       "      <td>1</td>\n",
       "      <td>1</td>\n",
       "      <td>2405</td>\n",
       "    </tr>\n",
       "    <tr>\n",
       "      <th>4</th>\n",
       "      <td>2</td>\n",
       "      <td>0</td>\n",
       "      <td>663</td>\n",
       "    </tr>\n",
       "    <tr>\n",
       "      <th>5</th>\n",
       "      <td>2</td>\n",
       "      <td>1</td>\n",
       "      <td>7766</td>\n",
       "    </tr>\n",
       "    <tr>\n",
       "      <th>6</th>\n",
       "      <td>3</td>\n",
       "      <td>0</td>\n",
       "      <td>42</td>\n",
       "    </tr>\n",
       "    <tr>\n",
       "      <th>7</th>\n",
       "      <td>3</td>\n",
       "      <td>1</td>\n",
       "      <td>1702</td>\n",
       "    </tr>\n",
       "    <tr>\n",
       "      <th>8</th>\n",
       "      <td>4</td>\n",
       "      <td>0</td>\n",
       "      <td>13</td>\n",
       "    </tr>\n",
       "    <tr>\n",
       "      <th>9</th>\n",
       "      <td>4</td>\n",
       "      <td>1</td>\n",
       "      <td>898</td>\n",
       "    </tr>\n",
       "    <tr>\n",
       "      <th>10</th>\n",
       "      <td>5</td>\n",
       "      <td>0</td>\n",
       "      <td>103</td>\n",
       "    </tr>\n",
       "    <tr>\n",
       "      <th>11</th>\n",
       "      <td>5</td>\n",
       "      <td>1</td>\n",
       "      <td>1394</td>\n",
       "    </tr>\n",
       "    <tr>\n",
       "      <th>12</th>\n",
       "      <td>6</td>\n",
       "      <td>0</td>\n",
       "      <td>30</td>\n",
       "    </tr>\n",
       "    <tr>\n",
       "      <th>13</th>\n",
       "      <td>6</td>\n",
       "      <td>1</td>\n",
       "      <td>720</td>\n",
       "    </tr>\n",
       "    <tr>\n",
       "      <th>14</th>\n",
       "      <td>7</td>\n",
       "      <td>0</td>\n",
       "      <td>76</td>\n",
       "    </tr>\n",
       "    <tr>\n",
       "      <th>15</th>\n",
       "      <td>7</td>\n",
       "      <td>1</td>\n",
       "      <td>1876</td>\n",
       "    </tr>\n",
       "  </tbody>\n",
       "</table>\n",
       "</div>"
      ],
      "text/plain": [
       "    Perceived_Race  Youth_at_arrest__under_18_years  Uncoop_at_arrest_count\n",
       "0                0                                0                     431\n",
       "1                0                                1                   12632\n",
       "2                1                                0                     111\n",
       "3                1                                1                    2405\n",
       "4                2                                0                     663\n",
       "5                2                                1                    7766\n",
       "6                3                                0                      42\n",
       "7                3                                1                    1702\n",
       "8                4                                0                      13\n",
       "9                4                                1                     898\n",
       "10               5                                0                     103\n",
       "11               5                                1                    1394\n",
       "12               6                                0                      30\n",
       "13               6                                1                     720\n",
       "14               7                                0                      76\n",
       "15               7                                1                    1876"
      ]
     },
     "execution_count": 142,
     "metadata": {},
     "output_type": "execute_result"
    }
   ],
   "source": [
    "grouped_data2"
   ]
  },
  {
   "cell_type": "code",
   "execution_count": 143,
   "metadata": {
    "colab": {
     "base_uri": "https://localhost:8080/"
    },
    "id": "WfDZQqXNFRpD",
    "outputId": "922e3272-10ae-40af-c9f1-25ef55ad7e0f"
   },
   "outputs": [
    {
     "name": "stdout",
     "output_type": "stream",
     "text": [
      "    Multiple Comparison of Means - Tukey HSD, FWER=0.05    \n",
      "===========================================================\n",
      "group1 group2 meandiff p-adj     lower      upper    reject\n",
      "-----------------------------------------------------------\n",
      "     0      1  -5273.5 0.8163 -19728.4542  9181.4542  False\n",
      "     0      2  -2317.0 0.9969 -16771.9542 12137.9542  False\n",
      "     0      3  -5659.5 0.7662 -20114.4542  8795.4542  False\n",
      "     0      4  -6076.0 0.7084 -20530.9542  8378.9542  False\n",
      "     0      5  -5783.0 0.7494 -20237.9542  8671.9542  False\n",
      "     0      6  -6156.5  0.697 -20611.4542  8298.4542  False\n",
      "     0      7  -5555.5 0.7801 -20010.4542  8899.4542  False\n",
      "     1      2   2956.5 0.9874 -11498.4542 17411.4542  False\n",
      "     1      3   -386.0    1.0 -14840.9542 14068.9542  False\n",
      "     1      4   -802.5    1.0 -15257.4542 13652.4542  False\n",
      "     1      5   -509.5    1.0 -14964.4542 13945.4542  False\n",
      "     1      6   -883.0    1.0 -15337.9542 13571.9542  False\n",
      "     1      7   -282.0    1.0 -14736.9542 14172.9542  False\n",
      "     2      3  -3342.5 0.9756 -17797.4542 11112.4542  False\n",
      "     2      4  -3759.0  0.956 -18213.9542 10695.9542  False\n",
      "     2      5  -3466.0 0.9706 -17920.9542 10988.9542  False\n",
      "     2      6  -3839.5 0.9513 -18294.4542 10615.4542  False\n",
      "     2      7  -3238.5 0.9793 -17693.4542 11216.4542  False\n",
      "     3      4   -416.5    1.0 -14871.4542 14038.4542  False\n",
      "     3      5   -123.5    1.0 -14578.4542 14331.4542  False\n",
      "     3      6   -497.0    1.0 -14951.9542 13957.9542  False\n",
      "     3      7    104.0    1.0 -14350.9542 14558.9542  False\n",
      "     4      5    293.0    1.0 -14161.9542 14747.9542  False\n",
      "     4      6    -80.5    1.0 -14535.4542 14374.4542  False\n",
      "     4      7    520.5    1.0 -13934.4542 14975.4542  False\n",
      "     5      6   -373.5    1.0 -14828.4542 14081.4542  False\n",
      "     5      7    227.5    1.0 -14227.4542 14682.4542  False\n",
      "     6      7    601.0    1.0 -13853.9542 15055.9542  False\n",
      "-----------------------------------------------------------\n"
     ]
    }
   ],
   "source": [
    "# Perform a Tukey's HSD test to compare individual groups\n",
    "mc = MultiComparison(grouped_data2['Uncoop_at_arrest_count'], grouped_data2['Perceived_Race'])\n",
    "tukey_results = mc.tukeyhsd(alpha=0.05)\n",
    "print(tukey_results)"
   ]
  },
  {
   "cell_type": "code",
   "execution_count": 144,
   "metadata": {
    "colab": {
     "base_uri": "https://localhost:8080/"
    },
    "id": "stWx0flbFSv3",
    "outputId": "96d5eec5-f1da-47af-a818-661231dbc840"
   },
   "outputs": [
    {
     "name": "stdout",
     "output_type": "stream",
     "text": [
      "  Multiple Comparison of Means - Tukey HSD, FWER=0.05  \n",
      "=======================================================\n",
      "group1 group2 meandiff p-adj   lower     upper   reject\n",
      "-------------------------------------------------------\n",
      "     0      1   3490.5 0.0366 251.1824 6729.8176   True\n",
      "-------------------------------------------------------\n"
     ]
    }
   ],
   "source": [
    "mc = MultiComparison(grouped_data2['Uncoop_at_arrest_count'], grouped_data2['Youth_at_arrest__under_18_years'])\n",
    "tukey_results = mc.tukeyhsd(alpha=0.05)\n",
    "print(tukey_results)"
   ]
  },
  {
   "cell_type": "code",
   "execution_count": 145,
   "metadata": {
    "colab": {
     "base_uri": "https://localhost:8080/",
     "height": 550
    },
    "id": "ugvAL28kFzVI",
    "outputId": "74ccbab0-931e-4ba9-be7e-c78107994076"
   },
   "outputs": [
    {
     "data": {
      "text/html": [
       "<div>\n",
       "<style scoped>\n",
       "    .dataframe tbody tr th:only-of-type {\n",
       "        vertical-align: middle;\n",
       "    }\n",
       "\n",
       "    .dataframe tbody tr th {\n",
       "        vertical-align: top;\n",
       "    }\n",
       "\n",
       "    .dataframe thead th {\n",
       "        text-align: right;\n",
       "    }\n",
       "</style>\n",
       "<table border=\"1\" class=\"dataframe\">\n",
       "  <thead>\n",
       "    <tr style=\"text-align: right;\">\n",
       "      <th></th>\n",
       "      <th>Perceived_Race</th>\n",
       "      <th>Sex</th>\n",
       "      <th>Uncoop_at_arrest_count</th>\n",
       "    </tr>\n",
       "  </thead>\n",
       "  <tbody>\n",
       "    <tr>\n",
       "      <th>0</th>\n",
       "      <td>0</td>\n",
       "      <td>0</td>\n",
       "      <td>10114</td>\n",
       "    </tr>\n",
       "    <tr>\n",
       "      <th>1</th>\n",
       "      <td>0</td>\n",
       "      <td>1</td>\n",
       "      <td>2949</td>\n",
       "    </tr>\n",
       "    <tr>\n",
       "      <th>2</th>\n",
       "      <td>1</td>\n",
       "      <td>0</td>\n",
       "      <td>2017</td>\n",
       "    </tr>\n",
       "    <tr>\n",
       "      <th>3</th>\n",
       "      <td>1</td>\n",
       "      <td>1</td>\n",
       "      <td>499</td>\n",
       "    </tr>\n",
       "    <tr>\n",
       "      <th>4</th>\n",
       "      <td>2</td>\n",
       "      <td>0</td>\n",
       "      <td>6947</td>\n",
       "    </tr>\n",
       "    <tr>\n",
       "      <th>5</th>\n",
       "      <td>2</td>\n",
       "      <td>1</td>\n",
       "      <td>1482</td>\n",
       "    </tr>\n",
       "    <tr>\n",
       "      <th>6</th>\n",
       "      <td>3</td>\n",
       "      <td>0</td>\n",
       "      <td>1496</td>\n",
       "    </tr>\n",
       "    <tr>\n",
       "      <th>7</th>\n",
       "      <td>3</td>\n",
       "      <td>1</td>\n",
       "      <td>248</td>\n",
       "    </tr>\n",
       "    <tr>\n",
       "      <th>8</th>\n",
       "      <td>4</td>\n",
       "      <td>0</td>\n",
       "      <td>599</td>\n",
       "    </tr>\n",
       "    <tr>\n",
       "      <th>9</th>\n",
       "      <td>4</td>\n",
       "      <td>1</td>\n",
       "      <td>312</td>\n",
       "    </tr>\n",
       "    <tr>\n",
       "      <th>10</th>\n",
       "      <td>5</td>\n",
       "      <td>0</td>\n",
       "      <td>1319</td>\n",
       "    </tr>\n",
       "    <tr>\n",
       "      <th>11</th>\n",
       "      <td>5</td>\n",
       "      <td>1</td>\n",
       "      <td>178</td>\n",
       "    </tr>\n",
       "    <tr>\n",
       "      <th>12</th>\n",
       "      <td>6</td>\n",
       "      <td>0</td>\n",
       "      <td>633</td>\n",
       "    </tr>\n",
       "    <tr>\n",
       "      <th>13</th>\n",
       "      <td>6</td>\n",
       "      <td>1</td>\n",
       "      <td>117</td>\n",
       "    </tr>\n",
       "    <tr>\n",
       "      <th>14</th>\n",
       "      <td>7</td>\n",
       "      <td>0</td>\n",
       "      <td>1601</td>\n",
       "    </tr>\n",
       "    <tr>\n",
       "      <th>15</th>\n",
       "      <td>7</td>\n",
       "      <td>1</td>\n",
       "      <td>351</td>\n",
       "    </tr>\n",
       "  </tbody>\n",
       "</table>\n",
       "</div>"
      ],
      "text/plain": [
       "    Perceived_Race  Sex  Uncoop_at_arrest_count\n",
       "0                0    0                   10114\n",
       "1                0    1                    2949\n",
       "2                1    0                    2017\n",
       "3                1    1                     499\n",
       "4                2    0                    6947\n",
       "5                2    1                    1482\n",
       "6                3    0                    1496\n",
       "7                3    1                     248\n",
       "8                4    0                     599\n",
       "9                4    1                     312\n",
       "10               5    0                    1319\n",
       "11               5    1                     178\n",
       "12               6    0                     633\n",
       "13               6    1                     117\n",
       "14               7    0                    1601\n",
       "15               7    1                     351"
      ]
     },
     "execution_count": 145,
     "metadata": {},
     "output_type": "execute_result"
    }
   ],
   "source": [
    "grouped_data3"
   ]
  },
  {
   "cell_type": "code",
   "execution_count": 146,
   "metadata": {
    "colab": {
     "base_uri": "https://localhost:8080/"
    },
    "id": "zqfTqDhiFTLD",
    "outputId": "13d97228-b2a5-4701-a344-39461fd242bf"
   },
   "outputs": [
    {
     "name": "stdout",
     "output_type": "stream",
     "text": [
      "    Multiple Comparison of Means - Tukey HSD, FWER=0.05    \n",
      "===========================================================\n",
      "group1 group2 meandiff p-adj     lower      upper    reject\n",
      "-----------------------------------------------------------\n",
      "     0      1  -5273.5 0.4148 -14568.3771  4021.3771  False\n",
      "     0      2  -2317.0 0.9642 -11611.8771  6977.8771  False\n",
      "     0      3  -5659.5 0.3459 -14954.3771  3635.3771  False\n",
      "     0      4  -6076.0 0.2815 -15370.8771  3218.8771  False\n",
      "     0      5  -5783.0 0.3257 -15077.8771  3511.8771  False\n",
      "     0      6  -6156.5 0.2702 -15451.3771  3138.3771  False\n",
      "     0      7  -5555.5 0.3636 -14850.3771  3739.3771  False\n",
      "     1      2   2956.5 0.8915  -6338.3771 12251.3771  False\n",
      "     1      3   -386.0    1.0  -9680.8771  8908.8771  False\n",
      "     1      4   -802.5 0.9999 -10097.3771  8492.3771  False\n",
      "     1      5   -509.5    1.0  -9804.3771  8785.3771  False\n",
      "     1      6   -883.0 0.9999 -10177.8771  8411.8771  False\n",
      "     1      7   -282.0    1.0  -9576.8771  9012.8771  False\n",
      "     2      3  -3342.5 0.8255 -12637.3771  5952.3771  False\n",
      "     2      4  -3759.0 0.7407 -13053.8771  5535.8771  False\n",
      "     2      5  -3466.0 0.8016 -12760.8771  5828.8771  False\n",
      "     2      6  -3839.5 0.7233 -13134.3771  5455.3771  False\n",
      "     2      7  -3238.5 0.8447 -12533.3771  6056.3771  False\n",
      "     3      4   -416.5    1.0  -9711.3771  8878.3771  False\n",
      "     3      5   -123.5    1.0  -9418.3771  9171.3771  False\n",
      "     3      6   -497.0    1.0  -9791.8771  8797.8771  False\n",
      "     3      7    104.0    1.0  -9190.8771  9398.8771  False\n",
      "     4      5    293.0    1.0  -9001.8771  9587.8771  False\n",
      "     4      6    -80.5    1.0  -9375.3771  9214.3771  False\n",
      "     4      7    520.5    1.0  -8774.3771  9815.3771  False\n",
      "     5      6   -373.5    1.0  -9668.3771  8921.3771  False\n",
      "     5      7    227.5    1.0  -9067.3771  9522.3771  False\n",
      "     6      7    601.0    1.0  -8693.8771  9895.8771  False\n",
      "-----------------------------------------------------------\n"
     ]
    }
   ],
   "source": [
    "# Perform a Tukey's HSD test to compare individual groups\n",
    "mc = MultiComparison(grouped_data3['Uncoop_at_arrest_count'], grouped_data3['Perceived_Race'])\n",
    "tukey_results = mc.tukeyhsd(alpha=0.05)\n",
    "print(tukey_results)"
   ]
  },
  {
   "cell_type": "code",
   "execution_count": 147,
   "metadata": {
    "colab": {
     "base_uri": "https://localhost:8080/"
    },
    "id": "l44VdFtTFTr4",
    "outputId": "13ca190c-f76a-4f9c-fb47-f8d9ac0d4be5"
   },
   "outputs": [
    {
     "name": "stdout",
     "output_type": "stream",
     "text": [
      "  Multiple Comparison of Means - Tukey HSD, FWER=0.05   \n",
      "========================================================\n",
      "group1 group2 meandiff p-adj    lower     upper   reject\n",
      "--------------------------------------------------------\n",
      "     0      1 -2323.75 0.0917 -5076.7459 429.2459  False\n",
      "--------------------------------------------------------\n"
     ]
    }
   ],
   "source": [
    "# Perform a Tukey's HSD test to compare individual groups\n",
    "mc = MultiComparison(grouped_data3['Uncoop_at_arrest_count'], grouped_data3['Sex'])\n",
    "tukey_results = mc.tukeyhsd(alpha=0.05)\n",
    "print(tukey_results)"
   ]
  },
  {
   "cell_type": "markdown",
   "metadata": {
    "id": "WOt1ETZGI0WO"
   },
   "source": [
    "# Post-Hoc Testing: Interaction Plots"
   ]
  },
  {
   "cell_type": "code",
   "execution_count": 148,
   "metadata": {
    "colab": {
     "base_uri": "https://localhost:8080/",
     "height": 330
    },
    "id": "miPBWsZII39b",
    "outputId": "a4ef3a8f-d942-431e-f0a6-8e7834b9f08b"
   },
   "outputs": [
    {
     "data": {
      "text/plain": [
       "<matplotlib.legend.Legend at 0x7f9b3b9a6200>"
      ]
     },
     "execution_count": 148,
     "metadata": {},
     "output_type": "execute_result"
    },
    {
     "data": {
      "image/png": "[encoded data removed]",
      "text/plain": [
       "<Figure size 640x480 with 1 Axes>"
      ]
     },
     "metadata": {},
     "output_type": "display_data"
    }
   ],
   "source": [
    "from statsmodels.graphics.factorplots import interaction_plot\n",
    "from scipy import stats\n",
    "\n",
    "interaction_plot(x=data['Time_series'], trace=data['Perceived_Race'], response=data['Actions_at_arrest'])\n",
    "\n",
    "interaction_axes = plt.gca()\n",
    "interaction_axes.set_xticks(ticks = [0, 1, 2, 3, 4, 5, 6, 7, 8])\n",
    "interaction_axes.set_xticklabels([\" \", \"Q1 2020\", \"Q2 2020\", \"Q3 2020\", \"Q4 2020\", \"Q1 2021\", \"Q2 2021\", \"Q3 2021\", \"Q4 2021\"])\n",
    "plt.xticks(rotation = 60)\n",
    "\n",
    "plt.legend(labels = race_dict.keys(), bbox_to_anchor = (1, 1))"
   ]
  },
  {
   "cell_type": "code",
   "execution_count": 149,
   "metadata": {
    "colab": {
     "base_uri": "https://localhost:8080/",
     "height": 394
    },
    "id": "OtdLkC38VWvX",
    "outputId": "f9620b6e-bd23-42ab-c8a4-d8b301d7c77b"
   },
   "outputs": [
    {
     "data": {
      "text/plain": [
       "<matplotlib.legend.Legend at 0x7f9b3b816680>"
      ]
     },
     "execution_count": 149,
     "metadata": {},
     "output_type": "execute_result"
    },
    {
     "data": {
      "image/png": "[encoded data removed]",
      "text/plain": [
       "<Figure size 640x480 with 1 Axes>"
      ]
     },
     "metadata": {},
     "output_type": "display_data"
    }
   ],
   "source": [
    "interaction_plot(x=data['Perceived_Race'], trace=data['Sex'], response=data['Actions_at_arrest'], colors = [\"deepskyblue\", \"hotpink\"])\n",
    "\n",
    "interaction_axes = plt.gca()\n",
    "interaction_axes.set_xticks(ticks = [0, 1, 2, 3, 4, 5, 6, 7])\n",
    "interaction_axes.set_xticklabels(race_dict.keys())\n",
    "plt.xticks(rotation = 90)\n",
    "\n",
    "plt.legend(labels = sex_dict.keys(), bbox_to_anchor = (1, 1))"
   ]
  },
  {
   "cell_type": "code",
   "execution_count": 150,
   "metadata": {
    "colab": {
     "base_uri": "https://localhost:8080/",
     "height": 394
    },
    "id": "phH4cENEVpgQ",
    "outputId": "28fe0026-7171-42c7-d213-4df07ab866c0"
   },
   "outputs": [
    {
     "data": {
      "text/plain": [
       "<matplotlib.legend.Legend at 0x7f9b3bbfdbd0>"
      ]
     },
     "execution_count": 150,
     "metadata": {},
     "output_type": "execute_result"
    },
    {
     "data": {
      "image/png": "[encoded data removed]",
      "text/plain": [
       "<Figure size 640x480 with 1 Axes>"
      ]
     },
     "metadata": {},
     "output_type": "display_data"
    }
   ],
   "source": [
    "# not sure whether or not to use this, because StripSearch is not a count or continuous variable?\n",
    "\n",
    "interaction_plot(x=data['Perceived_Race'], trace=data['Sex'], response=data['StripSearch'], colors = [\"deepskyblue\", \"hotpink\"])\n",
    "\n",
    "interaction_axes = plt.gca()\n",
    "interaction_axes.set_xticks(ticks = [0, 1, 2, 3, 4, 5, 6, 7])\n",
    "interaction_axes.set_xticklabels(race_dict.keys())\n",
    "plt.xticks(rotation = 90)\n",
    "\n",
    "plt.legend(labels = sex_dict.keys(), bbox_to_anchor = (1, 1))"
   ]
  }
 ],
 "metadata": {
  "colab": {
   "include_colab_link": true,
   "provenance": []
  },
  "kernelspec": {
   "display_name": "Python 3 (ipykernel)",
   "language": "python",
   "name": "python3"
  },
  "language_info": {
   "codemirror_mode": {
    "name": "ipython",
    "version": 3
   },
   "file_extension": ".py",
   "mimetype": "text/x-python",
   "name": "python",
   "nbconvert_exporter": "python",
   "pygments_lexer": "ipython3",
   "version": "3.10.8"
  }
 },
 "nbformat": 4,
 "nbformat_minor": 1
}
