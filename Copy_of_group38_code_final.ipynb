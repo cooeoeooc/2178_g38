{
  "nbformat": 4,
  "nbformat_minor": 0,
  "metadata": {
    "colab": {
      "provenance": [],
      "include_colab_link": true
    },
    "kernelspec": {
      "name": "python3",
      "display_name": "Python 3"
    },
    "language_info": {
      "name": "python"
    }
  },
  "cells": [
    {
      "cell_type": "markdown",
      "metadata": {
        "id": "view-in-github",
        "colab_type": "text"
      },
      "source": [
        "<a href=\"https://colab.research.google.com/github/cooeoeooc/2178_g38/blob/main/Copy_of_group38_code_final.ipynb\" target=\"_parent\"><img src=\"https://colab.research.google.com/assets/colab-badge.svg\" alt=\"Open In Colab\"/></a>"
      ]
    },
    {
      "cell_type": "markdown",
      "source": [
        "## Import"
      ],
      "metadata": {
        "id": "VMaSHRX8pnG4"
      }
    },
    {
      "cell_type": "code",
      "execution_count": 491,
      "metadata": {
        "id": "C6LmdeIEhNjd"
      },
      "outputs": [],
      "source": [
        "import pandas as pd\n",
        "import numpy as np"
      ]
    },
    {
      "cell_type": "code",
      "source": [
        "np.random.seed(123)"
      ],
      "metadata": {
        "id": "LoM0j9uy0IXK"
      },
      "execution_count": 492,
      "outputs": []
    },
    {
      "cell_type": "markdown",
      "source": [
        "# Data Preprocessing and Cleaning"
      ],
      "metadata": {
        "id": "i2nAALQMhfBt"
      }
    },
    {
      "cell_type": "code",
      "source": [
        "data = pd.read_csv(\"https://raw.githubusercontent.com/cooeoeooc/2178_g38/main/Arrests_and_Strip_Searches_(RBDC-ARR-TBL-001).csv\")\n",
        "data.head(5)"
      ],
      "metadata": {
        "id": "YALxVeJghelz",
        "outputId": "97b9a5a3-397f-4138-ebb5-44c193678cd5",
        "colab": {
          "base_uri": "https://localhost:8080/",
          "height": 316
        }
      },
      "execution_count": 493,
      "outputs": [
        {
          "output_type": "execute_result",
          "data": {
            "text/plain": [
              "   Arrest_Year Arrest_Month  EventID   ArrestID  PersonID     Perceived_Race  \\\n",
              "0         2020    July-Sept  1005907  6017884.0    326622              White   \n",
              "1         2020    July-Sept  1014562  6056669.0    326622              White   \n",
              "2         2020      Oct-Dec  1029922  6057065.0    326622  Unknown or Legacy   \n",
              "3         2021      Jan-Mar  1052190  6029059.0    327535              Black   \n",
              "4         2021      Jan-Mar  1015512  6040372.0    327535        South Asian   \n",
              "\n",
              "  Sex Age_group__at_arrest_ Youth_at_arrest__under_18_years ArrestLocDiv  ...  \\\n",
              "0   M   Aged 35 to 44 years                     Not a youth           54  ...   \n",
              "1   M   Aged 35 to 44 years                     Not a youth           54  ...   \n",
              "2   M   Aged 35 to 44 years                     Not a youth           54  ...   \n",
              "3   M   Aged 25 to 34 years                     Not a youth           XX  ...   \n",
              "4   M   Aged 25 to 34 years                     Not a youth           XX  ...   \n",
              "\n",
              "   Actions_at_arrest___Resisted__d  Actions_at_arrest___Mental_inst  \\\n",
              "0                                0                                0   \n",
              "1                                0                                0   \n",
              "2                                0                                0   \n",
              "3                                0                                0   \n",
              "4                                0                                0   \n",
              "\n",
              "  Actions_at_arrest___Assaulted_o  Actions_at_arrest___Cooperative  \\\n",
              "0                               0                                1   \n",
              "1                               0                                0   \n",
              "2                               0                                0   \n",
              "3                               0                                0   \n",
              "4                               0                                0   \n",
              "\n",
              "   SearchReason_CauseInjury  SearchReason_AssistEscape  \\\n",
              "0                       NaN                        NaN   \n",
              "1                       NaN                        NaN   \n",
              "2                       NaN                        NaN   \n",
              "3                       NaN                        NaN   \n",
              "4                       NaN                        NaN   \n",
              "\n",
              "   SearchReason_PossessWeapons  SearchReason_PossessEvidence  ItemsFound  \\\n",
              "0                          NaN                           NaN         NaN   \n",
              "1                          NaN                           NaN         NaN   \n",
              "2                          NaN                           NaN         NaN   \n",
              "3                          NaN                           NaN         NaN   \n",
              "4                          NaN                           NaN         NaN   \n",
              "\n",
              "   ObjectId  \n",
              "0         1  \n",
              "1         2  \n",
              "2         3  \n",
              "3         4  \n",
              "4         5  \n",
              "\n",
              "[5 rows x 25 columns]"
            ],
            "text/html": [
              "\n",
              "  <div id=\"df-7bae156c-e6ea-49e7-afcc-ea5f50f5525a\">\n",
              "    <div class=\"colab-df-container\">\n",
              "      <div>\n",
              "<style scoped>\n",
              "    .dataframe tbody tr th:only-of-type {\n",
              "        vertical-align: middle;\n",
              "    }\n",
              "\n",
              "    .dataframe tbody tr th {\n",
              "        vertical-align: top;\n",
              "    }\n",
              "\n",
              "    .dataframe thead th {\n",
              "        text-align: right;\n",
              "    }\n",
              "</style>\n",
              "<table border=\"1\" class=\"dataframe\">\n",
              "  <thead>\n",
              "    <tr style=\"text-align: right;\">\n",
              "      <th></th>\n",
              "      <th>Arrest_Year</th>\n",
              "      <th>Arrest_Month</th>\n",
              "      <th>EventID</th>\n",
              "      <th>ArrestID</th>\n",
              "      <th>PersonID</th>\n",
              "      <th>Perceived_Race</th>\n",
              "      <th>Sex</th>\n",
              "      <th>Age_group__at_arrest_</th>\n",
              "      <th>Youth_at_arrest__under_18_years</th>\n",
              "      <th>ArrestLocDiv</th>\n",
              "      <th>...</th>\n",
              "      <th>Actions_at_arrest___Resisted__d</th>\n",
              "      <th>Actions_at_arrest___Mental_inst</th>\n",
              "      <th>Actions_at_arrest___Assaulted_o</th>\n",
              "      <th>Actions_at_arrest___Cooperative</th>\n",
              "      <th>SearchReason_CauseInjury</th>\n",
              "      <th>SearchReason_AssistEscape</th>\n",
              "      <th>SearchReason_PossessWeapons</th>\n",
              "      <th>SearchReason_PossessEvidence</th>\n",
              "      <th>ItemsFound</th>\n",
              "      <th>ObjectId</th>\n",
              "    </tr>\n",
              "  </thead>\n",
              "  <tbody>\n",
              "    <tr>\n",
              "      <th>0</th>\n",
              "      <td>2020</td>\n",
              "      <td>July-Sept</td>\n",
              "      <td>1005907</td>\n",
              "      <td>6017884.0</td>\n",
              "      <td>326622</td>\n",
              "      <td>White</td>\n",
              "      <td>M</td>\n",
              "      <td>Aged 35 to 44 years</td>\n",
              "      <td>Not a youth</td>\n",
              "      <td>54</td>\n",
              "      <td>...</td>\n",
              "      <td>0</td>\n",
              "      <td>0</td>\n",
              "      <td>0</td>\n",
              "      <td>1</td>\n",
              "      <td>NaN</td>\n",
              "      <td>NaN</td>\n",
              "      <td>NaN</td>\n",
              "      <td>NaN</td>\n",
              "      <td>NaN</td>\n",
              "      <td>1</td>\n",
              "    </tr>\n",
              "    <tr>\n",
              "      <th>1</th>\n",
              "      <td>2020</td>\n",
              "      <td>July-Sept</td>\n",
              "      <td>1014562</td>\n",
              "      <td>6056669.0</td>\n",
              "      <td>326622</td>\n",
              "      <td>White</td>\n",
              "      <td>M</td>\n",
              "      <td>Aged 35 to 44 years</td>\n",
              "      <td>Not a youth</td>\n",
              "      <td>54</td>\n",
              "      <td>...</td>\n",
              "      <td>0</td>\n",
              "      <td>0</td>\n",
              "      <td>0</td>\n",
              "      <td>0</td>\n",
              "      <td>NaN</td>\n",
              "      <td>NaN</td>\n",
              "      <td>NaN</td>\n",
              "      <td>NaN</td>\n",
              "      <td>NaN</td>\n",
              "      <td>2</td>\n",
              "    </tr>\n",
              "    <tr>\n",
              "      <th>2</th>\n",
              "      <td>2020</td>\n",
              "      <td>Oct-Dec</td>\n",
              "      <td>1029922</td>\n",
              "      <td>6057065.0</td>\n",
              "      <td>326622</td>\n",
              "      <td>Unknown or Legacy</td>\n",
              "      <td>M</td>\n",
              "      <td>Aged 35 to 44 years</td>\n",
              "      <td>Not a youth</td>\n",
              "      <td>54</td>\n",
              "      <td>...</td>\n",
              "      <td>0</td>\n",
              "      <td>0</td>\n",
              "      <td>0</td>\n",
              "      <td>0</td>\n",
              "      <td>NaN</td>\n",
              "      <td>NaN</td>\n",
              "      <td>NaN</td>\n",
              "      <td>NaN</td>\n",
              "      <td>NaN</td>\n",
              "      <td>3</td>\n",
              "    </tr>\n",
              "    <tr>\n",
              "      <th>3</th>\n",
              "      <td>2021</td>\n",
              "      <td>Jan-Mar</td>\n",
              "      <td>1052190</td>\n",
              "      <td>6029059.0</td>\n",
              "      <td>327535</td>\n",
              "      <td>Black</td>\n",
              "      <td>M</td>\n",
              "      <td>Aged 25 to 34 years</td>\n",
              "      <td>Not a youth</td>\n",
              "      <td>XX</td>\n",
              "      <td>...</td>\n",
              "      <td>0</td>\n",
              "      <td>0</td>\n",
              "      <td>0</td>\n",
              "      <td>0</td>\n",
              "      <td>NaN</td>\n",
              "      <td>NaN</td>\n",
              "      <td>NaN</td>\n",
              "      <td>NaN</td>\n",
              "      <td>NaN</td>\n",
              "      <td>4</td>\n",
              "    </tr>\n",
              "    <tr>\n",
              "      <th>4</th>\n",
              "      <td>2021</td>\n",
              "      <td>Jan-Mar</td>\n",
              "      <td>1015512</td>\n",
              "      <td>6040372.0</td>\n",
              "      <td>327535</td>\n",
              "      <td>South Asian</td>\n",
              "      <td>M</td>\n",
              "      <td>Aged 25 to 34 years</td>\n",
              "      <td>Not a youth</td>\n",
              "      <td>XX</td>\n",
              "      <td>...</td>\n",
              "      <td>0</td>\n",
              "      <td>0</td>\n",
              "      <td>0</td>\n",
              "      <td>0</td>\n",
              "      <td>NaN</td>\n",
              "      <td>NaN</td>\n",
              "      <td>NaN</td>\n",
              "      <td>NaN</td>\n",
              "      <td>NaN</td>\n",
              "      <td>5</td>\n",
              "    </tr>\n",
              "  </tbody>\n",
              "</table>\n",
              "<p>5 rows × 25 columns</p>\n",
              "</div>\n",
              "      <button class=\"colab-df-convert\" onclick=\"convertToInteractive('df-7bae156c-e6ea-49e7-afcc-ea5f50f5525a')\"\n",
              "              title=\"Convert this dataframe to an interactive table.\"\n",
              "              style=\"display:none;\">\n",
              "        \n",
              "  <svg xmlns=\"http://www.w3.org/2000/svg\" height=\"24px\"viewBox=\"0 0 24 24\"\n",
              "       width=\"24px\">\n",
              "    <path d=\"M0 0h24v24H0V0z\" fill=\"none\"/>\n",
              "    <path d=\"M18.56 5.44l.94 2.06.94-2.06 2.06-.94-2.06-.94-.94-2.06-.94 2.06-2.06.94zm-11 1L8.5 8.5l.94-2.06 2.06-.94-2.06-.94L8.5 2.5l-.94 2.06-2.06.94zm10 10l.94 2.06.94-2.06 2.06-.94-2.06-.94-.94-2.06-.94 2.06-2.06.94z\"/><path d=\"M17.41 7.96l-1.37-1.37c-.4-.4-.92-.59-1.43-.59-.52 0-1.04.2-1.43.59L10.3 9.45l-7.72 7.72c-.78.78-.78 2.05 0 2.83L4 21.41c.39.39.9.59 1.41.59.51 0 1.02-.2 1.41-.59l7.78-7.78 2.81-2.81c.8-.78.8-2.07 0-2.86zM5.41 20L4 18.59l7.72-7.72 1.47 1.35L5.41 20z\"/>\n",
              "  </svg>\n",
              "      </button>\n",
              "      \n",
              "  <style>\n",
              "    .colab-df-container {\n",
              "      display:flex;\n",
              "      flex-wrap:wrap;\n",
              "      gap: 12px;\n",
              "    }\n",
              "\n",
              "    .colab-df-convert {\n",
              "      background-color: #E8F0FE;\n",
              "      border: none;\n",
              "      border-radius: 50%;\n",
              "      cursor: pointer;\n",
              "      display: none;\n",
              "      fill: #1967D2;\n",
              "      height: 32px;\n",
              "      padding: 0 0 0 0;\n",
              "      width: 32px;\n",
              "    }\n",
              "\n",
              "    .colab-df-convert:hover {\n",
              "      background-color: #E2EBFA;\n",
              "      box-shadow: 0px 1px 2px rgba(60, 64, 67, 0.3), 0px 1px 3px 1px rgba(60, 64, 67, 0.15);\n",
              "      fill: #174EA6;\n",
              "    }\n",
              "\n",
              "    [theme=dark] .colab-df-convert {\n",
              "      background-color: #3B4455;\n",
              "      fill: #D2E3FC;\n",
              "    }\n",
              "\n",
              "    [theme=dark] .colab-df-convert:hover {\n",
              "      background-color: #434B5C;\n",
              "      box-shadow: 0px 1px 3px 1px rgba(0, 0, 0, 0.15);\n",
              "      filter: drop-shadow(0px 1px 2px rgba(0, 0, 0, 0.3));\n",
              "      fill: #FFFFFF;\n",
              "    }\n",
              "  </style>\n",
              "\n",
              "      <script>\n",
              "        const buttonEl =\n",
              "          document.querySelector('#df-7bae156c-e6ea-49e7-afcc-ea5f50f5525a button.colab-df-convert');\n",
              "        buttonEl.style.display =\n",
              "          google.colab.kernel.accessAllowed ? 'block' : 'none';\n",
              "\n",
              "        async function convertToInteractive(key) {\n",
              "          const element = document.querySelector('#df-7bae156c-e6ea-49e7-afcc-ea5f50f5525a');\n",
              "          const dataTable =\n",
              "            await google.colab.kernel.invokeFunction('convertToInteractive',\n",
              "                                                     [key], {});\n",
              "          if (!dataTable) return;\n",
              "\n",
              "          const docLinkHtml = 'Like what you see? Visit the ' +\n",
              "            '<a target=\"_blank\" href=https://colab.research.google.com/notebooks/data_table.ipynb>data table notebook</a>'\n",
              "            + ' to learn more about interactive tables.';\n",
              "          element.innerHTML = '';\n",
              "          dataTable['output_type'] = 'display_data';\n",
              "          await google.colab.output.renderOutput(dataTable, element);\n",
              "          const docLink = document.createElement('div');\n",
              "          docLink.innerHTML = docLinkHtml;\n",
              "          element.appendChild(docLink);\n",
              "        }\n",
              "      </script>\n",
              "    </div>\n",
              "  </div>\n",
              "  "
            ]
          },
          "metadata": {},
          "execution_count": 493
        }
      ]
    },
    {
      "cell_type": "code",
      "source": [
        "def test_na_num(df):\n",
        "    for column in df:\n",
        "        print(sum(df[column].isna()), column)"
      ],
      "metadata": {
        "id": "8zwiSmGuiLSK"
      },
      "execution_count": 494,
      "outputs": []
    },
    {
      "cell_type": "code",
      "source": [
        "test_na_num(data)"
      ],
      "metadata": {
        "id": "icebRZhziTVX",
        "outputId": "267614e6-3a93-4d14-a512-59c00851688f",
        "colab": {
          "base_uri": "https://localhost:8080/"
        }
      },
      "execution_count": 495,
      "outputs": [
        {
          "output_type": "stream",
          "name": "stdout",
          "text": [
            "0 Arrest_Year\n",
            "0 Arrest_Month\n",
            "0 EventID\n",
            "469 ArrestID\n",
            "0 PersonID\n",
            "4 Perceived_Race\n",
            "0 Sex\n",
            "24 Age_group__at_arrest_\n",
            "0 Youth_at_arrest__under_18_years\n",
            "0 ArrestLocDiv\n",
            "0 StripSearch\n",
            "0 Booked\n",
            "165 Occurrence_Category\n",
            "0 Actions_at_arrest___Concealed_i\n",
            "0 Actions_at_arrest___Combative__\n",
            "0 Actions_at_arrest___Resisted__d\n",
            "0 Actions_at_arrest___Mental_inst\n",
            "0 Actions_at_arrest___Assaulted_o\n",
            "0 Actions_at_arrest___Cooperative\n",
            "57475 SearchReason_CauseInjury\n",
            "57475 SearchReason_AssistEscape\n",
            "57475 SearchReason_PossessWeapons\n",
            "57475 SearchReason_PossessEvidence\n",
            "57475 ItemsFound\n",
            "0 ObjectId\n"
          ]
        }
      ]
    },
    {
      "cell_type": "code",
      "source": [
        "data=data.dropna(subset=['ArrestID','Age_group__at_arrest_','Perceived_Race','Occurrence_Category'])\n",
        "data=data.fillna(0)"
      ],
      "metadata": {
        "id": "W_rVBUuXicA0"
      },
      "execution_count": 496,
      "outputs": []
    },
    {
      "cell_type": "code",
      "source": [
        "test_na_num(data)"
      ],
      "metadata": {
        "colab": {
          "base_uri": "https://localhost:8080/"
        },
        "id": "xCz_ENzb0af1",
        "outputId": "4de1b511-2959-431f-83bc-6db7b51460fd"
      },
      "execution_count": 497,
      "outputs": [
        {
          "output_type": "stream",
          "name": "stdout",
          "text": [
            "0 Arrest_Year\n",
            "0 Arrest_Month\n",
            "0 EventID\n",
            "0 ArrestID\n",
            "0 PersonID\n",
            "0 Perceived_Race\n",
            "0 Sex\n",
            "0 Age_group__at_arrest_\n",
            "0 Youth_at_arrest__under_18_years\n",
            "0 ArrestLocDiv\n",
            "0 StripSearch\n",
            "0 Booked\n",
            "0 Occurrence_Category\n",
            "0 Actions_at_arrest___Concealed_i\n",
            "0 Actions_at_arrest___Combative__\n",
            "0 Actions_at_arrest___Resisted__d\n",
            "0 Actions_at_arrest___Mental_inst\n",
            "0 Actions_at_arrest___Assaulted_o\n",
            "0 Actions_at_arrest___Cooperative\n",
            "0 SearchReason_CauseInjury\n",
            "0 SearchReason_AssistEscape\n",
            "0 SearchReason_PossessWeapons\n",
            "0 SearchReason_PossessEvidence\n",
            "0 ItemsFound\n",
            "0 ObjectId\n"
          ]
        }
      ]
    },
    {
      "cell_type": "code",
      "execution_count": 498,
      "metadata": {
        "id": "e7DmZ_cLcpXX"
      },
      "outputs": [],
      "source": [
        "# exchange 0 and 1, 0 means cooperative, 1 means otherwise.\n",
        "data['Actions_at_arrest___Cooperative'] = data['Actions_at_arrest___Cooperative'].replace({0: 1, 1: 0})"
      ]
    },
    {
      "cell_type": "markdown",
      "source": [
        "Cleaning existing variables. "
      ],
      "metadata": {
        "id": "uaTC3BzPq441"
      }
    },
    {
      "cell_type": "markdown",
      "source": [
        "Establishing exclusion criteria – based on popular Occurrence Categories. "
      ],
      "metadata": {
        "id": "hM-PUL1jkpGZ"
      }
    },
    {
      "cell_type": "code",
      "source": [
        "data[\"Occurrence_Category\"].value_counts() # seeing most popular categories\n",
        "\n",
        "occurrence_replacement_dict={'Assault & Other crimes against persons':0,\n",
        "                  'Assault':0,\n",
        "                 'Robbery & Theft':1,\n",
        "                 'Robbery/Theft':1,\n",
        "                 'Warrant':2,\n",
        "                 'FTA/FTC/Compliance Check/Parollee':3,\n",
        "                 'FTA/FTC, Compliance Check & Parollee':3,\n",
        "                 'Police Category - Administrative':4,\n",
        "                 'Drug Related':5}\n",
        "\n",
        "data[\"Occurrence_Category\"] = data[\"Occurrence_Category\"].replace(occurrence_replacement_dict)\n",
        "data[\"Occurrence_Category\"] = data[\"Occurrence_Category\"].where(data[\"Occurrence_Category\"].isin(list(occurrence_replacement_dict.values())) == True, 6)"
      ],
      "metadata": {
        "id": "Wkg5I_wLknn8"
      },
      "execution_count": 499,
      "outputs": []
    },
    {
      "cell_type": "markdown",
      "source": [
        "Creating new variables. "
      ],
      "metadata": {
        "id": "-RkZXZEOjyo5"
      }
    },
    {
      "cell_type": "code",
      "source": [
        "data[\"Age_group_clean\"] = data[\"Age_group__at_arrest_\"].replace({\"Aged 17 years and younger\": \"Aged 17 years and under\", \"Aged 65 and older\": \"Aged 65 years and older\"})"
      ],
      "metadata": {
        "id": "HhFmMgiNq6j4"
      },
      "execution_count": 500,
      "outputs": []
    },
    {
      "cell_type": "code",
      "source": [
        "# rearrange searchreasons, the attributes contains 5 values, 0 means no search reason, 1 means one search reason, etc.\n",
        "data[\"SearchReasonCount\"] = data[\"SearchReason_CauseInjury\"] + data[\"SearchReason_AssistEscape\"] + data[\"SearchReason_PossessWeapons\"] + data[\"SearchReason_PossessEvidence\"]\n",
        "data[\"SearchReasonCount\"] = np.where(data[\"SearchReasonCount\"].isna() == True, 0, data[\"SearchReasonCount\"])"
      ],
      "metadata": {
        "id": "41_LGxF0jxuA"
      },
      "execution_count": 501,
      "outputs": []
    },
    {
      "cell_type": "code",
      "source": [
        "data[\"UncooperativeActionsCount\"] = data[\"Actions_at_arrest___Concealed_i\"] + data[\"Actions_at_arrest___Combative__\"] + data[\"Actions_at_arrest___Resisted__d\"] + data[\"Actions_at_arrest___Mental_inst\"] + data[\"Actions_at_arrest___Assaulted_o\"]"
      ],
      "metadata": {
        "id": "cFoAtbyTkFB4"
      },
      "execution_count": 502,
      "outputs": []
    },
    {
      "cell_type": "code",
      "source": [
        "data[\"Time_series\"] = np.where((data[\"Arrest_Year\"] == 2020) & (data[\"Arrest_Month\"] == \"Jan-Mar\"), 1, \n",
        "                               (np.where((data[\"Arrest_Year\"] == 2020) & (data[\"Arrest_Month\"] == \"Apr-June\"), 2, \n",
        "                                         (np.where((data[\"Arrest_Year\"] == 2020) & (data[\"Arrest_Month\"] == \"July-Sept\"), 3, \n",
        "                                                   (np.where((data[\"Arrest_Year\"] == 2020) & (data[\"Arrest_Month\"] == \"Oct-Dec\"), 4, \n",
        "                                                             (np.where((data[\"Arrest_Year\"] == 2021) & (data[\"Arrest_Month\"] == \"Jan-Mar\"), 5, \n",
        "                                                                       (np.where((data[\"Arrest_Year\"] == 2021) & (data[\"Arrest_Month\"] == \"Apr-June\"), 6, \n",
        "                                                                                 (np.where((data[\"Arrest_Year\"] == 2021) & (data[\"Arrest_Month\"] == \"July-Sept\"), 7, \n",
        "                                                                                           (np.where((data[\"Arrest_Year\"] == 2021) & (data[\"Arrest_Month\"] == \"Oct-Dec\"), 8, 0)))))))))))))))"
      ],
      "metadata": {
        "id": "9m2yhI4lrTBK"
      },
      "execution_count": 503,
      "outputs": []
    },
    {
      "cell_type": "code",
      "source": [
        "data[\"Race_White\"] = np.where(data[\"Perceived_Race\"] == \"White\", 1, 0)"
      ],
      "metadata": {
        "id": "zfUrPotyurLb"
      },
      "execution_count": 504,
      "outputs": []
    },
    {
      "cell_type": "code",
      "source": [
        "test_na_num(data)"
      ],
      "metadata": {
        "id": "ZC2Wh1mbXH7C",
        "outputId": "49c1bf36-1fa5-48e4-9487-6ee72d04d867",
        "colab": {
          "base_uri": "https://localhost:8080/"
        }
      },
      "execution_count": 505,
      "outputs": [
        {
          "output_type": "stream",
          "name": "stdout",
          "text": [
            "0 Arrest_Year\n",
            "0 Arrest_Month\n",
            "0 EventID\n",
            "0 ArrestID\n",
            "0 PersonID\n",
            "0 Perceived_Race\n",
            "0 Sex\n",
            "0 Age_group__at_arrest_\n",
            "0 Youth_at_arrest__under_18_years\n",
            "0 ArrestLocDiv\n",
            "0 StripSearch\n",
            "0 Booked\n",
            "0 Occurrence_Category\n",
            "0 Actions_at_arrest___Concealed_i\n",
            "0 Actions_at_arrest___Combative__\n",
            "0 Actions_at_arrest___Resisted__d\n",
            "0 Actions_at_arrest___Mental_inst\n",
            "0 Actions_at_arrest___Assaulted_o\n",
            "0 Actions_at_arrest___Cooperative\n",
            "0 SearchReason_CauseInjury\n",
            "0 SearchReason_AssistEscape\n",
            "0 SearchReason_PossessWeapons\n",
            "0 SearchReason_PossessEvidence\n",
            "0 ItemsFound\n",
            "0 ObjectId\n",
            "0 Age_group_clean\n",
            "0 SearchReasonCount\n",
            "0 UncooperativeActionsCount\n",
            "0 Time_series\n",
            "0 Race_White\n"
          ]
        }
      ]
    },
    {
      "cell_type": "code",
      "source": [
        "data.head(5)"
      ],
      "metadata": {
        "id": "MNirJbOoXWGa",
        "outputId": "b6bec82b-94a5-4892-a781-82cace0a0539",
        "colab": {
          "base_uri": "https://localhost:8080/",
          "height": 386
        }
      },
      "execution_count": 506,
      "outputs": [
        {
          "output_type": "execute_result",
          "data": {
            "text/plain": [
              "   Arrest_Year Arrest_Month  EventID   ArrestID  PersonID     Perceived_Race  \\\n",
              "0         2020    July-Sept  1005907  6017884.0    326622              White   \n",
              "1         2020    July-Sept  1014562  6056669.0    326622              White   \n",
              "2         2020      Oct-Dec  1029922  6057065.0    326622  Unknown or Legacy   \n",
              "3         2021      Jan-Mar  1052190  6029059.0    327535              Black   \n",
              "4         2021      Jan-Mar  1015512  6040372.0    327535        South Asian   \n",
              "\n",
              "  Sex Age_group__at_arrest_ Youth_at_arrest__under_18_years ArrestLocDiv  ...  \\\n",
              "0   M   Aged 35 to 44 years                     Not a youth           54  ...   \n",
              "1   M   Aged 35 to 44 years                     Not a youth           54  ...   \n",
              "2   M   Aged 35 to 44 years                     Not a youth           54  ...   \n",
              "3   M   Aged 25 to 34 years                     Not a youth           XX  ...   \n",
              "4   M   Aged 25 to 34 years                     Not a youth           XX  ...   \n",
              "\n",
              "   SearchReason_AssistEscape  SearchReason_PossessWeapons  \\\n",
              "0                        0.0                          0.0   \n",
              "1                        0.0                          0.0   \n",
              "2                        0.0                          0.0   \n",
              "3                        0.0                          0.0   \n",
              "4                        0.0                          0.0   \n",
              "\n",
              "  SearchReason_PossessEvidence  ItemsFound  ObjectId      Age_group_clean  \\\n",
              "0                          0.0         0.0         1  Aged 35 to 44 years   \n",
              "1                          0.0         0.0         2  Aged 35 to 44 years   \n",
              "2                          0.0         0.0         3  Aged 35 to 44 years   \n",
              "3                          0.0         0.0         4  Aged 25 to 34 years   \n",
              "4                          0.0         0.0         5  Aged 25 to 34 years   \n",
              "\n",
              "   SearchReasonCount  UncooperativeActionsCount  Time_series  Race_White  \n",
              "0                0.0                          0            3           1  \n",
              "1                0.0                          0            3           1  \n",
              "2                0.0                          0            4           0  \n",
              "3                0.0                          0            5           0  \n",
              "4                0.0                          0            5           0  \n",
              "\n",
              "[5 rows x 30 columns]"
            ],
            "text/html": [
              "\n",
              "  <div id=\"df-4055b1ea-e5ee-4c21-be0d-fb5e55e777d6\">\n",
              "    <div class=\"colab-df-container\">\n",
              "      <div>\n",
              "<style scoped>\n",
              "    .dataframe tbody tr th:only-of-type {\n",
              "        vertical-align: middle;\n",
              "    }\n",
              "\n",
              "    .dataframe tbody tr th {\n",
              "        vertical-align: top;\n",
              "    }\n",
              "\n",
              "    .dataframe thead th {\n",
              "        text-align: right;\n",
              "    }\n",
              "</style>\n",
              "<table border=\"1\" class=\"dataframe\">\n",
              "  <thead>\n",
              "    <tr style=\"text-align: right;\">\n",
              "      <th></th>\n",
              "      <th>Arrest_Year</th>\n",
              "      <th>Arrest_Month</th>\n",
              "      <th>EventID</th>\n",
              "      <th>ArrestID</th>\n",
              "      <th>PersonID</th>\n",
              "      <th>Perceived_Race</th>\n",
              "      <th>Sex</th>\n",
              "      <th>Age_group__at_arrest_</th>\n",
              "      <th>Youth_at_arrest__under_18_years</th>\n",
              "      <th>ArrestLocDiv</th>\n",
              "      <th>...</th>\n",
              "      <th>SearchReason_AssistEscape</th>\n",
              "      <th>SearchReason_PossessWeapons</th>\n",
              "      <th>SearchReason_PossessEvidence</th>\n",
              "      <th>ItemsFound</th>\n",
              "      <th>ObjectId</th>\n",
              "      <th>Age_group_clean</th>\n",
              "      <th>SearchReasonCount</th>\n",
              "      <th>UncooperativeActionsCount</th>\n",
              "      <th>Time_series</th>\n",
              "      <th>Race_White</th>\n",
              "    </tr>\n",
              "  </thead>\n",
              "  <tbody>\n",
              "    <tr>\n",
              "      <th>0</th>\n",
              "      <td>2020</td>\n",
              "      <td>July-Sept</td>\n",
              "      <td>1005907</td>\n",
              "      <td>6017884.0</td>\n",
              "      <td>326622</td>\n",
              "      <td>White</td>\n",
              "      <td>M</td>\n",
              "      <td>Aged 35 to 44 years</td>\n",
              "      <td>Not a youth</td>\n",
              "      <td>54</td>\n",
              "      <td>...</td>\n",
              "      <td>0.0</td>\n",
              "      <td>0.0</td>\n",
              "      <td>0.0</td>\n",
              "      <td>0.0</td>\n",
              "      <td>1</td>\n",
              "      <td>Aged 35 to 44 years</td>\n",
              "      <td>0.0</td>\n",
              "      <td>0</td>\n",
              "      <td>3</td>\n",
              "      <td>1</td>\n",
              "    </tr>\n",
              "    <tr>\n",
              "      <th>1</th>\n",
              "      <td>2020</td>\n",
              "      <td>July-Sept</td>\n",
              "      <td>1014562</td>\n",
              "      <td>6056669.0</td>\n",
              "      <td>326622</td>\n",
              "      <td>White</td>\n",
              "      <td>M</td>\n",
              "      <td>Aged 35 to 44 years</td>\n",
              "      <td>Not a youth</td>\n",
              "      <td>54</td>\n",
              "      <td>...</td>\n",
              "      <td>0.0</td>\n",
              "      <td>0.0</td>\n",
              "      <td>0.0</td>\n",
              "      <td>0.0</td>\n",
              "      <td>2</td>\n",
              "      <td>Aged 35 to 44 years</td>\n",
              "      <td>0.0</td>\n",
              "      <td>0</td>\n",
              "      <td>3</td>\n",
              "      <td>1</td>\n",
              "    </tr>\n",
              "    <tr>\n",
              "      <th>2</th>\n",
              "      <td>2020</td>\n",
              "      <td>Oct-Dec</td>\n",
              "      <td>1029922</td>\n",
              "      <td>6057065.0</td>\n",
              "      <td>326622</td>\n",
              "      <td>Unknown or Legacy</td>\n",
              "      <td>M</td>\n",
              "      <td>Aged 35 to 44 years</td>\n",
              "      <td>Not a youth</td>\n",
              "      <td>54</td>\n",
              "      <td>...</td>\n",
              "      <td>0.0</td>\n",
              "      <td>0.0</td>\n",
              "      <td>0.0</td>\n",
              "      <td>0.0</td>\n",
              "      <td>3</td>\n",
              "      <td>Aged 35 to 44 years</td>\n",
              "      <td>0.0</td>\n",
              "      <td>0</td>\n",
              "      <td>4</td>\n",
              "      <td>0</td>\n",
              "    </tr>\n",
              "    <tr>\n",
              "      <th>3</th>\n",
              "      <td>2021</td>\n",
              "      <td>Jan-Mar</td>\n",
              "      <td>1052190</td>\n",
              "      <td>6029059.0</td>\n",
              "      <td>327535</td>\n",
              "      <td>Black</td>\n",
              "      <td>M</td>\n",
              "      <td>Aged 25 to 34 years</td>\n",
              "      <td>Not a youth</td>\n",
              "      <td>XX</td>\n",
              "      <td>...</td>\n",
              "      <td>0.0</td>\n",
              "      <td>0.0</td>\n",
              "      <td>0.0</td>\n",
              "      <td>0.0</td>\n",
              "      <td>4</td>\n",
              "      <td>Aged 25 to 34 years</td>\n",
              "      <td>0.0</td>\n",
              "      <td>0</td>\n",
              "      <td>5</td>\n",
              "      <td>0</td>\n",
              "    </tr>\n",
              "    <tr>\n",
              "      <th>4</th>\n",
              "      <td>2021</td>\n",
              "      <td>Jan-Mar</td>\n",
              "      <td>1015512</td>\n",
              "      <td>6040372.0</td>\n",
              "      <td>327535</td>\n",
              "      <td>South Asian</td>\n",
              "      <td>M</td>\n",
              "      <td>Aged 25 to 34 years</td>\n",
              "      <td>Not a youth</td>\n",
              "      <td>XX</td>\n",
              "      <td>...</td>\n",
              "      <td>0.0</td>\n",
              "      <td>0.0</td>\n",
              "      <td>0.0</td>\n",
              "      <td>0.0</td>\n",
              "      <td>5</td>\n",
              "      <td>Aged 25 to 34 years</td>\n",
              "      <td>0.0</td>\n",
              "      <td>0</td>\n",
              "      <td>5</td>\n",
              "      <td>0</td>\n",
              "    </tr>\n",
              "  </tbody>\n",
              "</table>\n",
              "<p>5 rows × 30 columns</p>\n",
              "</div>\n",
              "      <button class=\"colab-df-convert\" onclick=\"convertToInteractive('df-4055b1ea-e5ee-4c21-be0d-fb5e55e777d6')\"\n",
              "              title=\"Convert this dataframe to an interactive table.\"\n",
              "              style=\"display:none;\">\n",
              "        \n",
              "  <svg xmlns=\"http://www.w3.org/2000/svg\" height=\"24px\"viewBox=\"0 0 24 24\"\n",
              "       width=\"24px\">\n",
              "    <path d=\"M0 0h24v24H0V0z\" fill=\"none\"/>\n",
              "    <path d=\"M18.56 5.44l.94 2.06.94-2.06 2.06-.94-2.06-.94-.94-2.06-.94 2.06-2.06.94zm-11 1L8.5 8.5l.94-2.06 2.06-.94-2.06-.94L8.5 2.5l-.94 2.06-2.06.94zm10 10l.94 2.06.94-2.06 2.06-.94-2.06-.94-.94-2.06-.94 2.06-2.06.94z\"/><path d=\"M17.41 7.96l-1.37-1.37c-.4-.4-.92-.59-1.43-.59-.52 0-1.04.2-1.43.59L10.3 9.45l-7.72 7.72c-.78.78-.78 2.05 0 2.83L4 21.41c.39.39.9.59 1.41.59.51 0 1.02-.2 1.41-.59l7.78-7.78 2.81-2.81c.8-.78.8-2.07 0-2.86zM5.41 20L4 18.59l7.72-7.72 1.47 1.35L5.41 20z\"/>\n",
              "  </svg>\n",
              "      </button>\n",
              "      \n",
              "  <style>\n",
              "    .colab-df-container {\n",
              "      display:flex;\n",
              "      flex-wrap:wrap;\n",
              "      gap: 12px;\n",
              "    }\n",
              "\n",
              "    .colab-df-convert {\n",
              "      background-color: #E8F0FE;\n",
              "      border: none;\n",
              "      border-radius: 50%;\n",
              "      cursor: pointer;\n",
              "      display: none;\n",
              "      fill: #1967D2;\n",
              "      height: 32px;\n",
              "      padding: 0 0 0 0;\n",
              "      width: 32px;\n",
              "    }\n",
              "\n",
              "    .colab-df-convert:hover {\n",
              "      background-color: #E2EBFA;\n",
              "      box-shadow: 0px 1px 2px rgba(60, 64, 67, 0.3), 0px 1px 3px 1px rgba(60, 64, 67, 0.15);\n",
              "      fill: #174EA6;\n",
              "    }\n",
              "\n",
              "    [theme=dark] .colab-df-convert {\n",
              "      background-color: #3B4455;\n",
              "      fill: #D2E3FC;\n",
              "    }\n",
              "\n",
              "    [theme=dark] .colab-df-convert:hover {\n",
              "      background-color: #434B5C;\n",
              "      box-shadow: 0px 1px 3px 1px rgba(0, 0, 0, 0.15);\n",
              "      filter: drop-shadow(0px 1px 2px rgba(0, 0, 0, 0.3));\n",
              "      fill: #FFFFFF;\n",
              "    }\n",
              "  </style>\n",
              "\n",
              "      <script>\n",
              "        const buttonEl =\n",
              "          document.querySelector('#df-4055b1ea-e5ee-4c21-be0d-fb5e55e777d6 button.colab-df-convert');\n",
              "        buttonEl.style.display =\n",
              "          google.colab.kernel.accessAllowed ? 'block' : 'none';\n",
              "\n",
              "        async function convertToInteractive(key) {\n",
              "          const element = document.querySelector('#df-4055b1ea-e5ee-4c21-be0d-fb5e55e777d6');\n",
              "          const dataTable =\n",
              "            await google.colab.kernel.invokeFunction('convertToInteractive',\n",
              "                                                     [key], {});\n",
              "          if (!dataTable) return;\n",
              "\n",
              "          const docLinkHtml = 'Like what you see? Visit the ' +\n",
              "            '<a target=\"_blank\" href=https://colab.research.google.com/notebooks/data_table.ipynb>data table notebook</a>'\n",
              "            + ' to learn more about interactive tables.';\n",
              "          element.innerHTML = '';\n",
              "          dataTable['output_type'] = 'display_data';\n",
              "          await google.colab.output.renderOutput(dataTable, element);\n",
              "          const docLink = document.createElement('div');\n",
              "          docLink.innerHTML = docLinkHtml;\n",
              "          element.appendChild(docLink);\n",
              "        }\n",
              "      </script>\n",
              "    </div>\n",
              "  </div>\n",
              "  "
            ]
          },
          "metadata": {},
          "execution_count": 506
        }
      ]
    },
    {
      "cell_type": "code",
      "source": [
        "data = data.drop([\"PersonID\", \"Age_group__at_arrest_\", \"Booked\", \"ObjectId\"], axis = 1)"
      ],
      "metadata": {
        "id": "rc-Ae9g7s05x"
      },
      "execution_count": 507,
      "outputs": []
    },
    {
      "cell_type": "code",
      "source": [
        "data1=data"
      ],
      "metadata": {
        "id": "3d2qt1b0Cr-P"
      },
      "execution_count": 508,
      "outputs": []
    },
    {
      "cell_type": "code",
      "source": [
        "data = data[[\"Time_series\",'Arrest_Year','Arrest_Month', \"Perceived_Race\", \"Sex\", \"Youth_at_arrest__under_18_years\",'Race_White', \"StripSearch\", \"Occurrence_Category\", \"ItemsFound\",\"SearchReasonCount\",'UncooperativeActionsCount','Age_group_clean']]\n",
        "data = data.dropna(subset = [\"Perceived_Race\", \"Occurrence_Category\"])"
      ],
      "metadata": {
        "id": "IuETWXKr2C4Z"
      },
      "execution_count": 509,
      "outputs": []
    },
    {
      "cell_type": "markdown",
      "source": [
        "# EDA"
      ],
      "metadata": {
        "id": "_XHRqdE6qSNk"
      }
    },
    {
      "cell_type": "markdown",
      "source": [
        "## Visualizations"
      ],
      "metadata": {
        "id": "oNI5tVu7qVR7"
      }
    },
    {
      "cell_type": "code",
      "source": [
        "import matplotlib.pyplot as plt"
      ],
      "metadata": {
        "id": "9dcxffY54Adp"
      },
      "execution_count": 510,
      "outputs": []
    },
    {
      "cell_type": "code",
      "source": [
        "StripSearch_1_data = data[data[\"StripSearch\"] == 1]"
      ],
      "metadata": {
        "id": "hafqrlC29RuK"
      },
      "execution_count": 511,
      "outputs": []
    },
    {
      "cell_type": "code",
      "source": [
        "data[\"Age_group_clean\"].value_counts().sort_index(ascending = True)"
      ],
      "metadata": {
        "id": "G5tG5Qa0WQcN",
        "outputId": "315ebb81-1f67-4cb7-a82b-54c5a97dedb1",
        "colab": {
          "base_uri": "https://localhost:8080/"
        }
      },
      "execution_count": 512,
      "outputs": [
        {
          "output_type": "execute_result",
          "data": {
            "text/plain": [
              "Aged 17 years and under     3012\n",
              "Aged 18 to 24 years         9934\n",
              "Aged 25 to 34 years        20725\n",
              "Aged 35 to 44 years        16072\n",
              "Aged 45 to 54 years         9003\n",
              "Aged 55 to 64 years         4553\n",
              "Aged 65 years and older     1316\n",
              "Name: Age_group_clean, dtype: int64"
            ]
          },
          "metadata": {},
          "execution_count": 512
        }
      ]
    },
    {
      "cell_type": "code",
      "source": [
        "plt.figure(figsize=(12,9))\n",
        "\n",
        "colours = {\"Everyone\": \"pink\", \"Strip Searched\": \"lightgreen\"}\n",
        "labels = list(colours.keys())\n",
        "handles = [plt.Rectangle((0, 0), 1, 1, color = colours[label]) for label in labels]\n",
        "\n",
        "plt.subplot(1, 3, 1) # strip searches by perceived race\n",
        "races = data[\"Perceived_Race\"].value_counts().index.tolist()\n",
        "legacy = races.pop(2)\n",
        "races.append(legacy)\n",
        "\n",
        "race_counts = data[\"Perceived_Race\"].value_counts().values.tolist()\n",
        "legacy = race_counts.pop(2)\n",
        "race_counts.append(legacy)\n",
        "\n",
        "stripsearch_race_counts = StripSearch_1_data[\"Perceived_Race\"].value_counts().values.tolist()\n",
        "legacy = stripsearch_race_counts.pop(2)\n",
        "stripsearch_race_counts.append(legacy)\n",
        "\n",
        "plt.bar(races, race_counts, bottom = stripsearch_race_counts, color = \"pink\")\n",
        "plt.bar(races, stripsearch_race_counts, color = \"lightgreen\")\n",
        "plt.xticks(rotation = 90)\n",
        "plt.yticks(np.arange(0, 50000, 5000))\n",
        "plt.legend(handles, labels)\n",
        "\n",
        "plt.subplot(1, 3, 2) # strip searches by sex\n",
        "sexes = data[\"Sex\"].value_counts().index.tolist()\n",
        "sex_counts = data[\"Sex\"].value_counts().values.tolist()\n",
        "\n",
        "stripsearch_sex_counts = StripSearch_1_data[\"Sex\"].value_counts().values.tolist()\n",
        "stripsearch_sex_counts.append(0)\n",
        "\n",
        "plt.bar(sexes, sex_counts, bottom = stripsearch_sex_counts, color = \"pink\")\n",
        "plt.bar(sexes, stripsearch_sex_counts, color = \"lightgreen\")\n",
        "plt.yticks(np.arange(0, 50000, 5000))\n",
        "plt.legend(handles, labels)\n",
        "\n",
        "plt.subplot(1, 3, 3) # strip searches by age\n",
        "ages = data[\"Age_group_clean\"].value_counts().index.tolist()\n",
        "reordered_1 = ages.pop(ages.index(\"Aged 17 years and under\"))\n",
        "reordered_2 = ages.pop(ages.index(\"Aged 18 to 24 years\"))\n",
        "ages.insert(0, reordered_1)\n",
        "ages.insert(1, reordered_2)\n",
        "\n",
        "age_counts = data[\"Age_group_clean\"].value_counts().sort_index(ascending = True).values.tolist()\n",
        "\n",
        "stripsearch_age_counts = StripSearch_1_data[\"Age_group_clean\"].value_counts().sort_index(ascending = True).values.tolist()\n",
        "\n",
        "plt.bar(ages, age_counts, bottom = stripsearch_age_counts, color = \"pink\")\n",
        "plt.bar(ages, stripsearch_age_counts, color = \"lightgreen\")\n",
        "plt.xticks(rotation = 90)\n",
        "plt.yticks(np.arange(0, 50000, 5000))\n",
        "plt.legend(handles, labels)"
      ],
      "metadata": {
        "id": "BUpqQ3K_vBYL",
        "outputId": "0d6b8ad3-d90b-4718-d327-d184ecf138f0",
        "colab": {
          "base_uri": "https://localhost:8080/",
          "height": 939
        }
      },
      "execution_count": 513,
      "outputs": [
        {
          "output_type": "execute_result",
          "data": {
            "text/plain": [
              "<matplotlib.legend.Legend at 0x7f4e3abb63a0>"
            ]
          },
          "metadata": {},
          "execution_count": 513
        },
        {
          "output_type": "display_data",
          "data": {
            "text/plain": [
              "<Figure size 1200x900 with 3 Axes>"
            ],
            "image/png": "[encoded data removed]"
          },
          "metadata": {}
        }
      ]
    },
    {
      "cell_type": "code",
      "source": [
        "StripSearch_1_data.groupby([\"Time_series\"])[\"StripSearch\"].value_counts()\n",
        "StripSearch_1_data.groupby([\"Time_series\"])[\"StripSearch\"].value_counts().sort_index(ascending = True).plot(color = \"pink\")\n",
        "plt.title(\"Strip Searches Booked by Toronto Police Service From January 2020 - December 2021\")\n",
        "axes = plt.gca()\n",
        "axes.set_xticks(ticks = [0, 1, 2, 3, 4, 5, 6, 7])\n",
        "axes.set_xticklabels([\"Q1 2020\", \"Q2 2020\", \"Q3 2020\", \"Q4 2020\", \"Q1 2021\", \"Q2 2021\", \"Q3 2021\", \"Q4 2021\"])\n",
        "plt.xticks(rotation = 60)\n",
        "plt.xlabel(\"Quarter, Year\")\n",
        "plt.ylabel(\"Number of Strip Searches Booked\")"
      ],
      "metadata": {
        "id": "mSUssSHvXdWb",
        "outputId": "a072a894-6594-4287-cc87-8d1cb674fb00",
        "colab": {
          "base_uri": "https://localhost:8080/",
          "height": 534
        }
      },
      "execution_count": 514,
      "outputs": [
        {
          "output_type": "execute_result",
          "data": {
            "text/plain": [
              "Text(0, 0.5, 'Number of Strip Searches Booked')"
            ]
          },
          "metadata": {},
          "execution_count": 514
        },
        {
          "output_type": "display_data",
          "data": {
            "text/plain": [
              "<Figure size 640x480 with 1 Axes>"
            ],
            "image/png": "[encoded data removed]"
          },
          "metadata": {}
        }
      ]
    },
    {
      "cell_type": "code",
      "source": [
        "StripSearch_1_2020_data = data[(data[\"Arrest_Year\"] == 2020) & (data[\"StripSearch\"] == 1)]\n",
        "StripSearch_1_2021_data = data[(data[\"Arrest_Year\"] == 2021) & (data[\"StripSearch\"] == 1)]\n",
        "\n",
        "plt1 = StripSearch_1_2020_data.groupby([\"Time_series\"])[\"StripSearch\"].value_counts().sort_index(ascending = True).plot(color = \"pink\")\n",
        "plt2 = StripSearch_1_2021_data.groupby([\"Time_series\"])[\"StripSearch\"].value_counts().sort_index(ascending = True).plot(color = \"lightgreen\")\n",
        "plt_axes = plt.gca()\n",
        "plt_axes.set_xticks([0, 1, 2, 3])\n",
        "plt_axes.set_xticklabels([\"Q1\", \"Q2\", \"Q3\", \"Q4\"])\n",
        "\n",
        "colours = {\"2020\": \"pink\", \"2021\": \"lightgreen\"}\n",
        "labels = list(colours.keys())\n",
        "handles = [plt.Rectangle((0, 0), 1, 1, color = colours[label]) for label in labels]\n",
        "plt.legend(handles, labels)\n",
        "\n",
        "plt.title(\"Comparison of Strip Searches Booked in 2020 vs. 2021 by Toronto Police\")\n",
        "plt.xlabel(\"Quarter\")\n",
        "plt.ylabel(\"Number of Strip Searches Booked\")"
      ],
      "metadata": {
        "id": "kCMZWeNsXuYy",
        "outputId": "99025c6e-9001-4ca7-b478-885e81a59440",
        "colab": {
          "base_uri": "https://localhost:8080/",
          "height": 490
        }
      },
      "execution_count": 515,
      "outputs": [
        {
          "output_type": "execute_result",
          "data": {
            "text/plain": [
              "Text(0, 0.5, 'Number of Strip Searches Booked')"
            ]
          },
          "metadata": {},
          "execution_count": 515
        },
        {
          "output_type": "display_data",
          "data": {
            "text/plain": [
              "<Figure size 640x480 with 1 Axes>"
            ],
            "image/png": "[encoded data removed]"
          },
          "metadata": {}
        }
      ]
    },
    {
      "cell_type": "code",
      "source": [
        "data"
      ],
      "metadata": {
        "colab": {
          "base_uri": "https://localhost:8080/",
          "height": 661
        },
        "id": "yzTvsnxJ48ts",
        "outputId": "9a8a98f8-43d4-4c13-94c2-c43450743f78"
      },
      "execution_count": 516,
      "outputs": [
        {
          "output_type": "execute_result",
          "data": {
            "text/plain": [
              "       Time_series  Arrest_Year Arrest_Month     Perceived_Race Sex  \\\n",
              "0                3         2020    July-Sept              White   M   \n",
              "1                3         2020    July-Sept              White   M   \n",
              "2                4         2020      Oct-Dec  Unknown or Legacy   M   \n",
              "3                5         2021      Jan-Mar              Black   M   \n",
              "4                5         2021      Jan-Mar        South Asian   M   \n",
              "...            ...          ...          ...                ...  ..   \n",
              "65271            8         2021      Oct-Dec         Indigenous   F   \n",
              "65272            8         2021      Oct-Dec        South Asian   M   \n",
              "65273            8         2021      Oct-Dec              White   F   \n",
              "65274            8         2021      Oct-Dec  Unknown or Legacy   M   \n",
              "65275            8         2021      Oct-Dec             Latino   M   \n",
              "\n",
              "       Youth_at_arrest__under_18_years  Race_White  StripSearch  \\\n",
              "0                          Not a youth           1            0   \n",
              "1                          Not a youth           1            0   \n",
              "2                          Not a youth           0            0   \n",
              "3                          Not a youth           0            0   \n",
              "4                          Not a youth           0            0   \n",
              "...                                ...         ...          ...   \n",
              "65271                      Not a youth           0            0   \n",
              "65272                      Not a youth           0            0   \n",
              "65273                      Not a youth           1            0   \n",
              "65274  Youth (aged 17 years and under)           0            0   \n",
              "65275                      Not a youth           0            0   \n",
              "\n",
              "      Occurrence_Category  ItemsFound  SearchReasonCount  \\\n",
              "0                       0         0.0                0.0   \n",
              "1                       0         0.0                0.0   \n",
              "2                       0         0.0                0.0   \n",
              "3                       6         0.0                0.0   \n",
              "4                       3         0.0                0.0   \n",
              "...                   ...         ...                ...   \n",
              "65271                   6         0.0                0.0   \n",
              "65272                   0         0.0                0.0   \n",
              "65273                   0         0.0                0.0   \n",
              "65274                   1         0.0                0.0   \n",
              "65275                   6         0.0                0.0   \n",
              "\n",
              "       UncooperativeActionsCount          Age_group_clean  \n",
              "0                              0      Aged 35 to 44 years  \n",
              "1                              0      Aged 35 to 44 years  \n",
              "2                              0      Aged 35 to 44 years  \n",
              "3                              0      Aged 25 to 34 years  \n",
              "4                              0      Aged 25 to 34 years  \n",
              "...                          ...                      ...  \n",
              "65271                          1      Aged 25 to 34 years  \n",
              "65272                          0      Aged 35 to 44 years  \n",
              "65273                          0      Aged 45 to 54 years  \n",
              "65274                          0  Aged 17 years and under  \n",
              "65275                          0      Aged 18 to 24 years  \n",
              "\n",
              "[64615 rows x 13 columns]"
            ],
            "text/html": [
              "\n",
              "  <div id=\"df-2a70b2d3-a9e1-435a-9b78-6bbda45ae9e0\">\n",
              "    <div class=\"colab-df-container\">\n",
              "      <div>\n",
              "<style scoped>\n",
              "    .dataframe tbody tr th:only-of-type {\n",
              "        vertical-align: middle;\n",
              "    }\n",
              "\n",
              "    .dataframe tbody tr th {\n",
              "        vertical-align: top;\n",
              "    }\n",
              "\n",
              "    .dataframe thead th {\n",
              "        text-align: right;\n",
              "    }\n",
              "</style>\n",
              "<table border=\"1\" class=\"dataframe\">\n",
              "  <thead>\n",
              "    <tr style=\"text-align: right;\">\n",
              "      <th></th>\n",
              "      <th>Time_series</th>\n",
              "      <th>Arrest_Year</th>\n",
              "      <th>Arrest_Month</th>\n",
              "      <th>Perceived_Race</th>\n",
              "      <th>Sex</th>\n",
              "      <th>Youth_at_arrest__under_18_years</th>\n",
              "      <th>Race_White</th>\n",
              "      <th>StripSearch</th>\n",
              "      <th>Occurrence_Category</th>\n",
              "      <th>ItemsFound</th>\n",
              "      <th>SearchReasonCount</th>\n",
              "      <th>UncooperativeActionsCount</th>\n",
              "      <th>Age_group_clean</th>\n",
              "    </tr>\n",
              "  </thead>\n",
              "  <tbody>\n",
              "    <tr>\n",
              "      <th>0</th>\n",
              "      <td>3</td>\n",
              "      <td>2020</td>\n",
              "      <td>July-Sept</td>\n",
              "      <td>White</td>\n",
              "      <td>M</td>\n",
              "      <td>Not a youth</td>\n",
              "      <td>1</td>\n",
              "      <td>0</td>\n",
              "      <td>0</td>\n",
              "      <td>0.0</td>\n",
              "      <td>0.0</td>\n",
              "      <td>0</td>\n",
              "      <td>Aged 35 to 44 years</td>\n",
              "    </tr>\n",
              "    <tr>\n",
              "      <th>1</th>\n",
              "      <td>3</td>\n",
              "      <td>2020</td>\n",
              "      <td>July-Sept</td>\n",
              "      <td>White</td>\n",
              "      <td>M</td>\n",
              "      <td>Not a youth</td>\n",
              "      <td>1</td>\n",
              "      <td>0</td>\n",
              "      <td>0</td>\n",
              "      <td>0.0</td>\n",
              "      <td>0.0</td>\n",
              "      <td>0</td>\n",
              "      <td>Aged 35 to 44 years</td>\n",
              "    </tr>\n",
              "    <tr>\n",
              "      <th>2</th>\n",
              "      <td>4</td>\n",
              "      <td>2020</td>\n",
              "      <td>Oct-Dec</td>\n",
              "      <td>Unknown or Legacy</td>\n",
              "      <td>M</td>\n",
              "      <td>Not a youth</td>\n",
              "      <td>0</td>\n",
              "      <td>0</td>\n",
              "      <td>0</td>\n",
              "      <td>0.0</td>\n",
              "      <td>0.0</td>\n",
              "      <td>0</td>\n",
              "      <td>Aged 35 to 44 years</td>\n",
              "    </tr>\n",
              "    <tr>\n",
              "      <th>3</th>\n",
              "      <td>5</td>\n",
              "      <td>2021</td>\n",
              "      <td>Jan-Mar</td>\n",
              "      <td>Black</td>\n",
              "      <td>M</td>\n",
              "      <td>Not a youth</td>\n",
              "      <td>0</td>\n",
              "      <td>0</td>\n",
              "      <td>6</td>\n",
              "      <td>0.0</td>\n",
              "      <td>0.0</td>\n",
              "      <td>0</td>\n",
              "      <td>Aged 25 to 34 years</td>\n",
              "    </tr>\n",
              "    <tr>\n",
              "      <th>4</th>\n",
              "      <td>5</td>\n",
              "      <td>2021</td>\n",
              "      <td>Jan-Mar</td>\n",
              "      <td>South Asian</td>\n",
              "      <td>M</td>\n",
              "      <td>Not a youth</td>\n",
              "      <td>0</td>\n",
              "      <td>0</td>\n",
              "      <td>3</td>\n",
              "      <td>0.0</td>\n",
              "      <td>0.0</td>\n",
              "      <td>0</td>\n",
              "      <td>Aged 25 to 34 years</td>\n",
              "    </tr>\n",
              "    <tr>\n",
              "      <th>...</th>\n",
              "      <td>...</td>\n",
              "      <td>...</td>\n",
              "      <td>...</td>\n",
              "      <td>...</td>\n",
              "      <td>...</td>\n",
              "      <td>...</td>\n",
              "      <td>...</td>\n",
              "      <td>...</td>\n",
              "      <td>...</td>\n",
              "      <td>...</td>\n",
              "      <td>...</td>\n",
              "      <td>...</td>\n",
              "      <td>...</td>\n",
              "    </tr>\n",
              "    <tr>\n",
              "      <th>65271</th>\n",
              "      <td>8</td>\n",
              "      <td>2021</td>\n",
              "      <td>Oct-Dec</td>\n",
              "      <td>Indigenous</td>\n",
              "      <td>F</td>\n",
              "      <td>Not a youth</td>\n",
              "      <td>0</td>\n",
              "      <td>0</td>\n",
              "      <td>6</td>\n",
              "      <td>0.0</td>\n",
              "      <td>0.0</td>\n",
              "      <td>1</td>\n",
              "      <td>Aged 25 to 34 years</td>\n",
              "    </tr>\n",
              "    <tr>\n",
              "      <th>65272</th>\n",
              "      <td>8</td>\n",
              "      <td>2021</td>\n",
              "      <td>Oct-Dec</td>\n",
              "      <td>South Asian</td>\n",
              "      <td>M</td>\n",
              "      <td>Not a youth</td>\n",
              "      <td>0</td>\n",
              "      <td>0</td>\n",
              "      <td>0</td>\n",
              "      <td>0.0</td>\n",
              "      <td>0.0</td>\n",
              "      <td>0</td>\n",
              "      <td>Aged 35 to 44 years</td>\n",
              "    </tr>\n",
              "    <tr>\n",
              "      <th>65273</th>\n",
              "      <td>8</td>\n",
              "      <td>2021</td>\n",
              "      <td>Oct-Dec</td>\n",
              "      <td>White</td>\n",
              "      <td>F</td>\n",
              "      <td>Not a youth</td>\n",
              "      <td>1</td>\n",
              "      <td>0</td>\n",
              "      <td>0</td>\n",
              "      <td>0.0</td>\n",
              "      <td>0.0</td>\n",
              "      <td>0</td>\n",
              "      <td>Aged 45 to 54 years</td>\n",
              "    </tr>\n",
              "    <tr>\n",
              "      <th>65274</th>\n",
              "      <td>8</td>\n",
              "      <td>2021</td>\n",
              "      <td>Oct-Dec</td>\n",
              "      <td>Unknown or Legacy</td>\n",
              "      <td>M</td>\n",
              "      <td>Youth (aged 17 years and under)</td>\n",
              "      <td>0</td>\n",
              "      <td>0</td>\n",
              "      <td>1</td>\n",
              "      <td>0.0</td>\n",
              "      <td>0.0</td>\n",
              "      <td>0</td>\n",
              "      <td>Aged 17 years and under</td>\n",
              "    </tr>\n",
              "    <tr>\n",
              "      <th>65275</th>\n",
              "      <td>8</td>\n",
              "      <td>2021</td>\n",
              "      <td>Oct-Dec</td>\n",
              "      <td>Latino</td>\n",
              "      <td>M</td>\n",
              "      <td>Not a youth</td>\n",
              "      <td>0</td>\n",
              "      <td>0</td>\n",
              "      <td>6</td>\n",
              "      <td>0.0</td>\n",
              "      <td>0.0</td>\n",
              "      <td>0</td>\n",
              "      <td>Aged 18 to 24 years</td>\n",
              "    </tr>\n",
              "  </tbody>\n",
              "</table>\n",
              "<p>64615 rows × 13 columns</p>\n",
              "</div>\n",
              "      <button class=\"colab-df-convert\" onclick=\"convertToInteractive('df-2a70b2d3-a9e1-435a-9b78-6bbda45ae9e0')\"\n",
              "              title=\"Convert this dataframe to an interactive table.\"\n",
              "              style=\"display:none;\">\n",
              "        \n",
              "  <svg xmlns=\"http://www.w3.org/2000/svg\" height=\"24px\"viewBox=\"0 0 24 24\"\n",
              "       width=\"24px\">\n",
              "    <path d=\"M0 0h24v24H0V0z\" fill=\"none\"/>\n",
              "    <path d=\"M18.56 5.44l.94 2.06.94-2.06 2.06-.94-2.06-.94-.94-2.06-.94 2.06-2.06.94zm-11 1L8.5 8.5l.94-2.06 2.06-.94-2.06-.94L8.5 2.5l-.94 2.06-2.06.94zm10 10l.94 2.06.94-2.06 2.06-.94-2.06-.94-.94-2.06-.94 2.06-2.06.94z\"/><path d=\"M17.41 7.96l-1.37-1.37c-.4-.4-.92-.59-1.43-.59-.52 0-1.04.2-1.43.59L10.3 9.45l-7.72 7.72c-.78.78-.78 2.05 0 2.83L4 21.41c.39.39.9.59 1.41.59.51 0 1.02-.2 1.41-.59l7.78-7.78 2.81-2.81c.8-.78.8-2.07 0-2.86zM5.41 20L4 18.59l7.72-7.72 1.47 1.35L5.41 20z\"/>\n",
              "  </svg>\n",
              "      </button>\n",
              "      \n",
              "  <style>\n",
              "    .colab-df-container {\n",
              "      display:flex;\n",
              "      flex-wrap:wrap;\n",
              "      gap: 12px;\n",
              "    }\n",
              "\n",
              "    .colab-df-convert {\n",
              "      background-color: #E8F0FE;\n",
              "      border: none;\n",
              "      border-radius: 50%;\n",
              "      cursor: pointer;\n",
              "      display: none;\n",
              "      fill: #1967D2;\n",
              "      height: 32px;\n",
              "      padding: 0 0 0 0;\n",
              "      width: 32px;\n",
              "    }\n",
              "\n",
              "    .colab-df-convert:hover {\n",
              "      background-color: #E2EBFA;\n",
              "      box-shadow: 0px 1px 2px rgba(60, 64, 67, 0.3), 0px 1px 3px 1px rgba(60, 64, 67, 0.15);\n",
              "      fill: #174EA6;\n",
              "    }\n",
              "\n",
              "    [theme=dark] .colab-df-convert {\n",
              "      background-color: #3B4455;\n",
              "      fill: #D2E3FC;\n",
              "    }\n",
              "\n",
              "    [theme=dark] .colab-df-convert:hover {\n",
              "      background-color: #434B5C;\n",
              "      box-shadow: 0px 1px 3px 1px rgba(0, 0, 0, 0.15);\n",
              "      filter: drop-shadow(0px 1px 2px rgba(0, 0, 0, 0.3));\n",
              "      fill: #FFFFFF;\n",
              "    }\n",
              "  </style>\n",
              "\n",
              "      <script>\n",
              "        const buttonEl =\n",
              "          document.querySelector('#df-2a70b2d3-a9e1-435a-9b78-6bbda45ae9e0 button.colab-df-convert');\n",
              "        buttonEl.style.display =\n",
              "          google.colab.kernel.accessAllowed ? 'block' : 'none';\n",
              "\n",
              "        async function convertToInteractive(key) {\n",
              "          const element = document.querySelector('#df-2a70b2d3-a9e1-435a-9b78-6bbda45ae9e0');\n",
              "          const dataTable =\n",
              "            await google.colab.kernel.invokeFunction('convertToInteractive',\n",
              "                                                     [key], {});\n",
              "          if (!dataTable) return;\n",
              "\n",
              "          const docLinkHtml = 'Like what you see? Visit the ' +\n",
              "            '<a target=\"_blank\" href=https://colab.research.google.com/notebooks/data_table.ipynb>data table notebook</a>'\n",
              "            + ' to learn more about interactive tables.';\n",
              "          element.innerHTML = '';\n",
              "          dataTable['output_type'] = 'display_data';\n",
              "          await google.colab.output.renderOutput(dataTable, element);\n",
              "          const docLink = document.createElement('div');\n",
              "          docLink.innerHTML = docLinkHtml;\n",
              "          element.appendChild(docLink);\n",
              "        }\n",
              "      </script>\n",
              "    </div>\n",
              "  </div>\n",
              "  "
            ]
          },
          "metadata": {},
          "execution_count": 516
        }
      ]
    },
    {
      "cell_type": "code",
      "source": [
        "for item in data['Occurrence_Category']:\n",
        "  if type(item)==str:\n",
        "    print(item)"
      ],
      "metadata": {
        "id": "KVXwuf6f7Pn7"
      },
      "execution_count": 517,
      "outputs": []
    },
    {
      "cell_type": "code",
      "source": [
        "print(data.columns)"
      ],
      "metadata": {
        "colab": {
          "base_uri": "https://localhost:8080/"
        },
        "id": "QphL5SLl79KK",
        "outputId": "b6812cc6-6b7e-4efe-f7c0-4f0fca1f61aa"
      },
      "execution_count": 518,
      "outputs": [
        {
          "output_type": "stream",
          "name": "stdout",
          "text": [
            "Index(['Time_series', 'Arrest_Year', 'Arrest_Month', 'Perceived_Race', 'Sex',\n",
            "       'Youth_at_arrest__under_18_years', 'Race_White', 'StripSearch',\n",
            "       'Occurrence_Category', 'ItemsFound', 'SearchReasonCount',\n",
            "       'UncooperativeActionsCount', 'Age_group_clean'],\n",
            "      dtype='object')\n"
          ]
        }
      ]
    },
    {
      "cell_type": "code",
      "source": [
        "#import seaborn as sns\n",
        "\n",
        "#corr_matrix = data.corr()\n",
        "#fig, ax = plt.subplots()\n",
        "#sns.heatmap(corr_matrix, annot=True, cmap='coolwarm', ax=ax, fmt = \"0.2f\")\n",
        "#ax.set_title('Correlation Heatmap')\n",
        "\n",
        "#plt.show()"
      ],
      "metadata": {
        "id": "pg8-JhU8yxYW"
      },
      "execution_count": 519,
      "outputs": []
    },
    {
      "cell_type": "markdown",
      "source": [
        "## t-tests"
      ],
      "metadata": {
        "id": "8iTsZt7eqWjl"
      }
    },
    {
      "cell_type": "code",
      "source": [],
      "metadata": {
        "id": "kpoHoXdzvCDx"
      },
      "execution_count": 519,
      "outputs": []
    },
    {
      "cell_type": "markdown",
      "source": [
        "# Feature Engineering"
      ],
      "metadata": {
        "id": "YAkx10zYjv6h"
      }
    },
    {
      "cell_type": "markdown",
      "source": [
        "## Numerical representation"
      ],
      "metadata": {
        "id": "J5xm3d_aqmtM"
      }
    },
    {
      "cell_type": "code",
      "source": [
        "race_dict = {\"White\": 0,\n",
        "             \"Unknown or Legacy\": 1,\n",
        "             \"Black\":2,\n",
        "             \"South Asian\":3,\n",
        "             \"Indigenous\":4,\n",
        "             \"Middle-Eastern\":5, \n",
        "             \"Latino\": 6,\n",
        "             \"East/Southeast Asian\":7}\n",
        "\n",
        "data['Perceived_Race'] = data['Perceived_Race'].replace(race_dict)"
      ],
      "metadata": {
        "id": "w2LqcRLzqmWq"
      },
      "execution_count": 520,
      "outputs": []
    },
    {
      "cell_type": "code",
      "source": [
        "sex_dict= {'M':0,'F':1,'U':2}\n",
        "\n",
        "data['Sex'] = data['Sex'].replace(sex_dict)"
      ],
      "metadata": {
        "id": "2w4GhRqQud0a"
      },
      "execution_count": 521,
      "outputs": []
    },
    {
      "cell_type": "code",
      "source": [
        "age_dict={'Aged 17 years and under': 0,\n",
        "          'Aged 18 to 24 years': 1,\n",
        "          'Aged 25 to 34 years': 2,\n",
        "          'Aged 35 to 44 years': 3,\n",
        "          'Aged 45 to 54 years': 4,\n",
        "          'Aged 55 to 64 years': 5,\n",
        "          'Aged 65 years and older': 6,\n",
        "          }\n",
        "\n",
        "data['Age_group_clean'] = data['Age_group_clean'].replace(age_dict)"
      ],
      "metadata": {
        "id": "PEYKmk8iuhpG"
      },
      "execution_count": 522,
      "outputs": []
    },
    {
      "cell_type": "code",
      "source": [
        "youth_dict={'Youth (aged 17 and younger)': 0,\n",
        "            'Youth (aged 17 years and under)': 0, \n",
        "            'Not a youth': 1}\n",
        "\n",
        "data['Youth_at_arrest__under_18_years'] = data['Youth_at_arrest__under_18_years'].replace(youth_dict)"
      ],
      "metadata": {
        "id": "w2UHfejAuzFF"
      },
      "execution_count": 523,
      "outputs": []
    },
    {
      "cell_type": "code",
      "source": [
        "data = data.dropna()"
      ],
      "metadata": {
        "id": "cfDUCr-pu6JL"
      },
      "execution_count": 524,
      "outputs": []
    },
    {
      "cell_type": "markdown",
      "source": [
        "## One-hot encoding"
      ],
      "metadata": {
        "id": "GOeS1yZZqqRL"
      }
    },
    {
      "cell_type": "code",
      "source": [
        "#data=data1"
      ],
      "metadata": {
        "id": "qtihJkJCCmzV"
      },
      "execution_count": 525,
      "outputs": []
    },
    {
      "cell_type": "code",
      "source": [
        "#categorical = data.columns.tolist()\n",
        "#categorical.pop(categorical.index(\"Youth_at_arrest__under_18_years\"))\n",
        "#categorical.pop(categorical.index(\"StripSearch\"))\n",
        "#categorical.pop(categorical.index(\"Actions_at_arrest___Concealed_i\"))\n",
        "#categorical.pop(categorical.index(\"Actions_at_arrest___Combative__\"))\n",
        "#categorical.pop(categorical.index(\"Actions_at_arrest___Resisted__d\"))\n",
        "#categorical.pop(categorical.index(\"Actions_at_arrest___Mental_inst\"))\n",
        "#categorical.pop(categorical.index(\"Actions_at_arrest___Assaulted_o\"))\n",
        "#categorical.pop(categorical.index(\"Actions_at_arrest___Cooperative\"))\n",
        "#categorical.pop(categorical.index(\"SearchReason_CauseInjury\"))\n",
        "#categorical.pop(categorical.index(\"SearchReason_AssistEscape\"))\n",
        "#categorical.pop(categorical.index(\"SearchReason_PossessWeapons\"))\n",
        "#categorical.pop(categorical.index(\"SearchReason_PossessEvidence\"))\n",
        "#categorical.pop(categorical.index(\"ItemsFound\"))\n",
        "#categorical.pop(categorical.index(\"SearchReasonCount\"))\n",
        "#categorical.pop(categorical.index(\"UncooperativeActionsCount\"))\n",
        "#categorical.pop(categorical.index(\"Race_White\"))\n",
        "#categorical.pop(categorical.index(\"Occurrence_Category\"))b\n",
        "\n",
        "#onehot_data = pd.DataFrame()\n",
        "\n",
        "#for feature in categorical: \n",
        "#  onehot_feature = pd.get_dummies(data[feature])\n",
        "#  onehot_data = pd.concat([onehot_data, onehot_feature], axis = 1)"
      ],
      "metadata": {
        "id": "i9vjm62TqtDE"
      },
      "execution_count": 526,
      "outputs": []
    },
    {
      "cell_type": "code",
      "source": [
        "one_hot_data = pd.get_dummies(data, columns=['Occurrence_Category'])\n",
        "print(one_hot_data)"
      ],
      "metadata": {
        "colab": {
          "base_uri": "https://localhost:8080/"
        },
        "id": "XA9X3MtPFdR_",
        "outputId": "99fd26ec-c43a-4cac-aa3a-5be4f91cb4dd"
      },
      "execution_count": 527,
      "outputs": [
        {
          "output_type": "stream",
          "name": "stdout",
          "text": [
            "       Time_series  Arrest_Year Arrest_Month  Perceived_Race  Sex  \\\n",
            "0                3         2020    July-Sept               0    0   \n",
            "1                3         2020    July-Sept               0    0   \n",
            "2                4         2020      Oct-Dec               1    0   \n",
            "3                5         2021      Jan-Mar               2    0   \n",
            "4                5         2021      Jan-Mar               3    0   \n",
            "...            ...          ...          ...             ...  ...   \n",
            "65271            8         2021      Oct-Dec               4    1   \n",
            "65272            8         2021      Oct-Dec               3    0   \n",
            "65273            8         2021      Oct-Dec               0    1   \n",
            "65274            8         2021      Oct-Dec               1    0   \n",
            "65275            8         2021      Oct-Dec               6    0   \n",
            "\n",
            "       Youth_at_arrest__under_18_years  Race_White  StripSearch  ItemsFound  \\\n",
            "0                                    1           1            0         0.0   \n",
            "1                                    1           1            0         0.0   \n",
            "2                                    1           0            0         0.0   \n",
            "3                                    1           0            0         0.0   \n",
            "4                                    1           0            0         0.0   \n",
            "...                                ...         ...          ...         ...   \n",
            "65271                                1           0            0         0.0   \n",
            "65272                                1           0            0         0.0   \n",
            "65273                                1           1            0         0.0   \n",
            "65274                                0           0            0         0.0   \n",
            "65275                                1           0            0         0.0   \n",
            "\n",
            "       SearchReasonCount  UncooperativeActionsCount  Age_group_clean  \\\n",
            "0                    0.0                          0                3   \n",
            "1                    0.0                          0                3   \n",
            "2                    0.0                          0                3   \n",
            "3                    0.0                          0                2   \n",
            "4                    0.0                          0                2   \n",
            "...                  ...                        ...              ...   \n",
            "65271                0.0                          1                2   \n",
            "65272                0.0                          0                3   \n",
            "65273                0.0                          0                4   \n",
            "65274                0.0                          0                0   \n",
            "65275                0.0                          0                1   \n",
            "\n",
            "       Occurrence_Category_0  Occurrence_Category_1  Occurrence_Category_2  \\\n",
            "0                          1                      0                      0   \n",
            "1                          1                      0                      0   \n",
            "2                          1                      0                      0   \n",
            "3                          0                      0                      0   \n",
            "4                          0                      0                      0   \n",
            "...                      ...                    ...                    ...   \n",
            "65271                      0                      0                      0   \n",
            "65272                      1                      0                      0   \n",
            "65273                      1                      0                      0   \n",
            "65274                      0                      1                      0   \n",
            "65275                      0                      0                      0   \n",
            "\n",
            "       Occurrence_Category_3  Occurrence_Category_4  Occurrence_Category_5  \\\n",
            "0                          0                      0                      0   \n",
            "1                          0                      0                      0   \n",
            "2                          0                      0                      0   \n",
            "3                          0                      0                      0   \n",
            "4                          1                      0                      0   \n",
            "...                      ...                    ...                    ...   \n",
            "65271                      0                      0                      0   \n",
            "65272                      0                      0                      0   \n",
            "65273                      0                      0                      0   \n",
            "65274                      0                      0                      0   \n",
            "65275                      0                      0                      0   \n",
            "\n",
            "       Occurrence_Category_6  \n",
            "0                          0  \n",
            "1                          0  \n",
            "2                          0  \n",
            "3                          1  \n",
            "4                          0  \n",
            "...                      ...  \n",
            "65271                      1  \n",
            "65272                      0  \n",
            "65273                      0  \n",
            "65274                      0  \n",
            "65275                      1  \n",
            "\n",
            "[64615 rows x 19 columns]\n"
          ]
        },
        {
          "output_type": "stream",
          "name": "stderr",
          "text": [
            "/usr/local/lib/python3.9/dist-packages/pandas/core/algorithms.py:798: FutureWarning: In a future version, the Index constructor will not infer numeric dtypes when passed object-dtype sequences (matching Series behavior)\n",
            "  uniques = Index(uniques)\n"
          ]
        }
      ]
    },
    {
      "cell_type": "code",
      "source": [
        "#categorical"
      ],
      "metadata": {
        "id": "sKLnY0osywBO"
      },
      "execution_count": 528,
      "outputs": []
    },
    {
      "cell_type": "code",
      "source": [
        "one_hot_data.head(5) # onehot encoding was successful"
      ],
      "metadata": {
        "id": "D4GbRTHpxkAp",
        "outputId": "03430638-ef4d-4395-8c87-2d2921da787c",
        "colab": {
          "base_uri": "https://localhost:8080/",
          "height": 270
        }
      },
      "execution_count": 529,
      "outputs": [
        {
          "output_type": "execute_result",
          "data": {
            "text/plain": [
              "   Time_series  Arrest_Year Arrest_Month  Perceived_Race  Sex  \\\n",
              "0            3         2020    July-Sept               0    0   \n",
              "1            3         2020    July-Sept               0    0   \n",
              "2            4         2020      Oct-Dec               1    0   \n",
              "3            5         2021      Jan-Mar               2    0   \n",
              "4            5         2021      Jan-Mar               3    0   \n",
              "\n",
              "   Youth_at_arrest__under_18_years  Race_White  StripSearch  ItemsFound  \\\n",
              "0                                1           1            0         0.0   \n",
              "1                                1           1            0         0.0   \n",
              "2                                1           0            0         0.0   \n",
              "3                                1           0            0         0.0   \n",
              "4                                1           0            0         0.0   \n",
              "\n",
              "   SearchReasonCount  UncooperativeActionsCount  Age_group_clean  \\\n",
              "0                0.0                          0                3   \n",
              "1                0.0                          0                3   \n",
              "2                0.0                          0                3   \n",
              "3                0.0                          0                2   \n",
              "4                0.0                          0                2   \n",
              "\n",
              "   Occurrence_Category_0  Occurrence_Category_1  Occurrence_Category_2  \\\n",
              "0                      1                      0                      0   \n",
              "1                      1                      0                      0   \n",
              "2                      1                      0                      0   \n",
              "3                      0                      0                      0   \n",
              "4                      0                      0                      0   \n",
              "\n",
              "   Occurrence_Category_3  Occurrence_Category_4  Occurrence_Category_5  \\\n",
              "0                      0                      0                      0   \n",
              "1                      0                      0                      0   \n",
              "2                      0                      0                      0   \n",
              "3                      0                      0                      0   \n",
              "4                      1                      0                      0   \n",
              "\n",
              "   Occurrence_Category_6  \n",
              "0                      0  \n",
              "1                      0  \n",
              "2                      0  \n",
              "3                      1  \n",
              "4                      0  "
            ],
            "text/html": [
              "\n",
              "  <div id=\"df-c9510960-6d9a-4b61-9ddc-32fd974ff41a\">\n",
              "    <div class=\"colab-df-container\">\n",
              "      <div>\n",
              "<style scoped>\n",
              "    .dataframe tbody tr th:only-of-type {\n",
              "        vertical-align: middle;\n",
              "    }\n",
              "\n",
              "    .dataframe tbody tr th {\n",
              "        vertical-align: top;\n",
              "    }\n",
              "\n",
              "    .dataframe thead th {\n",
              "        text-align: right;\n",
              "    }\n",
              "</style>\n",
              "<table border=\"1\" class=\"dataframe\">\n",
              "  <thead>\n",
              "    <tr style=\"text-align: right;\">\n",
              "      <th></th>\n",
              "      <th>Time_series</th>\n",
              "      <th>Arrest_Year</th>\n",
              "      <th>Arrest_Month</th>\n",
              "      <th>Perceived_Race</th>\n",
              "      <th>Sex</th>\n",
              "      <th>Youth_at_arrest__under_18_years</th>\n",
              "      <th>Race_White</th>\n",
              "      <th>StripSearch</th>\n",
              "      <th>ItemsFound</th>\n",
              "      <th>SearchReasonCount</th>\n",
              "      <th>UncooperativeActionsCount</th>\n",
              "      <th>Age_group_clean</th>\n",
              "      <th>Occurrence_Category_0</th>\n",
              "      <th>Occurrence_Category_1</th>\n",
              "      <th>Occurrence_Category_2</th>\n",
              "      <th>Occurrence_Category_3</th>\n",
              "      <th>Occurrence_Category_4</th>\n",
              "      <th>Occurrence_Category_5</th>\n",
              "      <th>Occurrence_Category_6</th>\n",
              "    </tr>\n",
              "  </thead>\n",
              "  <tbody>\n",
              "    <tr>\n",
              "      <th>0</th>\n",
              "      <td>3</td>\n",
              "      <td>2020</td>\n",
              "      <td>July-Sept</td>\n",
              "      <td>0</td>\n",
              "      <td>0</td>\n",
              "      <td>1</td>\n",
              "      <td>1</td>\n",
              "      <td>0</td>\n",
              "      <td>0.0</td>\n",
              "      <td>0.0</td>\n",
              "      <td>0</td>\n",
              "      <td>3</td>\n",
              "      <td>1</td>\n",
              "      <td>0</td>\n",
              "      <td>0</td>\n",
              "      <td>0</td>\n",
              "      <td>0</td>\n",
              "      <td>0</td>\n",
              "      <td>0</td>\n",
              "    </tr>\n",
              "    <tr>\n",
              "      <th>1</th>\n",
              "      <td>3</td>\n",
              "      <td>2020</td>\n",
              "      <td>July-Sept</td>\n",
              "      <td>0</td>\n",
              "      <td>0</td>\n",
              "      <td>1</td>\n",
              "      <td>1</td>\n",
              "      <td>0</td>\n",
              "      <td>0.0</td>\n",
              "      <td>0.0</td>\n",
              "      <td>0</td>\n",
              "      <td>3</td>\n",
              "      <td>1</td>\n",
              "      <td>0</td>\n",
              "      <td>0</td>\n",
              "      <td>0</td>\n",
              "      <td>0</td>\n",
              "      <td>0</td>\n",
              "      <td>0</td>\n",
              "    </tr>\n",
              "    <tr>\n",
              "      <th>2</th>\n",
              "      <td>4</td>\n",
              "      <td>2020</td>\n",
              "      <td>Oct-Dec</td>\n",
              "      <td>1</td>\n",
              "      <td>0</td>\n",
              "      <td>1</td>\n",
              "      <td>0</td>\n",
              "      <td>0</td>\n",
              "      <td>0.0</td>\n",
              "      <td>0.0</td>\n",
              "      <td>0</td>\n",
              "      <td>3</td>\n",
              "      <td>1</td>\n",
              "      <td>0</td>\n",
              "      <td>0</td>\n",
              "      <td>0</td>\n",
              "      <td>0</td>\n",
              "      <td>0</td>\n",
              "      <td>0</td>\n",
              "    </tr>\n",
              "    <tr>\n",
              "      <th>3</th>\n",
              "      <td>5</td>\n",
              "      <td>2021</td>\n",
              "      <td>Jan-Mar</td>\n",
              "      <td>2</td>\n",
              "      <td>0</td>\n",
              "      <td>1</td>\n",
              "      <td>0</td>\n",
              "      <td>0</td>\n",
              "      <td>0.0</td>\n",
              "      <td>0.0</td>\n",
              "      <td>0</td>\n",
              "      <td>2</td>\n",
              "      <td>0</td>\n",
              "      <td>0</td>\n",
              "      <td>0</td>\n",
              "      <td>0</td>\n",
              "      <td>0</td>\n",
              "      <td>0</td>\n",
              "      <td>1</td>\n",
              "    </tr>\n",
              "    <tr>\n",
              "      <th>4</th>\n",
              "      <td>5</td>\n",
              "      <td>2021</td>\n",
              "      <td>Jan-Mar</td>\n",
              "      <td>3</td>\n",
              "      <td>0</td>\n",
              "      <td>1</td>\n",
              "      <td>0</td>\n",
              "      <td>0</td>\n",
              "      <td>0.0</td>\n",
              "      <td>0.0</td>\n",
              "      <td>0</td>\n",
              "      <td>2</td>\n",
              "      <td>0</td>\n",
              "      <td>0</td>\n",
              "      <td>0</td>\n",
              "      <td>1</td>\n",
              "      <td>0</td>\n",
              "      <td>0</td>\n",
              "      <td>0</td>\n",
              "    </tr>\n",
              "  </tbody>\n",
              "</table>\n",
              "</div>\n",
              "      <button class=\"colab-df-convert\" onclick=\"convertToInteractive('df-c9510960-6d9a-4b61-9ddc-32fd974ff41a')\"\n",
              "              title=\"Convert this dataframe to an interactive table.\"\n",
              "              style=\"display:none;\">\n",
              "        \n",
              "  <svg xmlns=\"http://www.w3.org/2000/svg\" height=\"24px\"viewBox=\"0 0 24 24\"\n",
              "       width=\"24px\">\n",
              "    <path d=\"M0 0h24v24H0V0z\" fill=\"none\"/>\n",
              "    <path d=\"M18.56 5.44l.94 2.06.94-2.06 2.06-.94-2.06-.94-.94-2.06-.94 2.06-2.06.94zm-11 1L8.5 8.5l.94-2.06 2.06-.94-2.06-.94L8.5 2.5l-.94 2.06-2.06.94zm10 10l.94 2.06.94-2.06 2.06-.94-2.06-.94-.94-2.06-.94 2.06-2.06.94z\"/><path d=\"M17.41 7.96l-1.37-1.37c-.4-.4-.92-.59-1.43-.59-.52 0-1.04.2-1.43.59L10.3 9.45l-7.72 7.72c-.78.78-.78 2.05 0 2.83L4 21.41c.39.39.9.59 1.41.59.51 0 1.02-.2 1.41-.59l7.78-7.78 2.81-2.81c.8-.78.8-2.07 0-2.86zM5.41 20L4 18.59l7.72-7.72 1.47 1.35L5.41 20z\"/>\n",
              "  </svg>\n",
              "      </button>\n",
              "      \n",
              "  <style>\n",
              "    .colab-df-container {\n",
              "      display:flex;\n",
              "      flex-wrap:wrap;\n",
              "      gap: 12px;\n",
              "    }\n",
              "\n",
              "    .colab-df-convert {\n",
              "      background-color: #E8F0FE;\n",
              "      border: none;\n",
              "      border-radius: 50%;\n",
              "      cursor: pointer;\n",
              "      display: none;\n",
              "      fill: #1967D2;\n",
              "      height: 32px;\n",
              "      padding: 0 0 0 0;\n",
              "      width: 32px;\n",
              "    }\n",
              "\n",
              "    .colab-df-convert:hover {\n",
              "      background-color: #E2EBFA;\n",
              "      box-shadow: 0px 1px 2px rgba(60, 64, 67, 0.3), 0px 1px 3px 1px rgba(60, 64, 67, 0.15);\n",
              "      fill: #174EA6;\n",
              "    }\n",
              "\n",
              "    [theme=dark] .colab-df-convert {\n",
              "      background-color: #3B4455;\n",
              "      fill: #D2E3FC;\n",
              "    }\n",
              "\n",
              "    [theme=dark] .colab-df-convert:hover {\n",
              "      background-color: #434B5C;\n",
              "      box-shadow: 0px 1px 3px 1px rgba(0, 0, 0, 0.15);\n",
              "      filter: drop-shadow(0px 1px 2px rgba(0, 0, 0, 0.3));\n",
              "      fill: #FFFFFF;\n",
              "    }\n",
              "  </style>\n",
              "\n",
              "      <script>\n",
              "        const buttonEl =\n",
              "          document.querySelector('#df-c9510960-6d9a-4b61-9ddc-32fd974ff41a button.colab-df-convert');\n",
              "        buttonEl.style.display =\n",
              "          google.colab.kernel.accessAllowed ? 'block' : 'none';\n",
              "\n",
              "        async function convertToInteractive(key) {\n",
              "          const element = document.querySelector('#df-c9510960-6d9a-4b61-9ddc-32fd974ff41a');\n",
              "          const dataTable =\n",
              "            await google.colab.kernel.invokeFunction('convertToInteractive',\n",
              "                                                     [key], {});\n",
              "          if (!dataTable) return;\n",
              "\n",
              "          const docLinkHtml = 'Like what you see? Visit the ' +\n",
              "            '<a target=\"_blank\" href=https://colab.research.google.com/notebooks/data_table.ipynb>data table notebook</a>'\n",
              "            + ' to learn more about interactive tables.';\n",
              "          element.innerHTML = '';\n",
              "          dataTable['output_type'] = 'display_data';\n",
              "          await google.colab.output.renderOutput(dataTable, element);\n",
              "          const docLink = document.createElement('div');\n",
              "          docLink.innerHTML = docLinkHtml;\n",
              "          element.appendChild(docLink);\n",
              "        }\n",
              "      </script>\n",
              "    </div>\n",
              "  </div>\n",
              "  "
            ]
          },
          "metadata": {},
          "execution_count": 529
        }
      ]
    },
    {
      "cell_type": "code",
      "source": [
        "import seaborn as sns\n",
        "\n",
        "corr_matrix = one_hot_data.corr()\n",
        "fig, ax = plt.subplots()\n",
        "sns.heatmap(corr_matrix, annot=False, cmap='coolwarm', ax=ax, fmt = \"0.2f\")\n",
        "ax.set_title('Correlation Heatmap')\n",
        "\n",
        "plt.show()"
      ],
      "metadata": {
        "colab": {
          "base_uri": "https://localhost:8080/",
          "height": 670
        },
        "id": "4ytGw73s-adc",
        "outputId": "a6657995-c375-47be-9344-a731b41289ce"
      },
      "execution_count": 530,
      "outputs": [
        {
          "output_type": "display_data",
          "data": {
            "text/plain": [
              "<Figure size 640x480 with 2 Axes>"
            ],
            "image/png": "[encoded data removed]"
          },
          "metadata": {}
        }
      ]
    },
    {
      "cell_type": "markdown",
      "source": [
        "# Power Analysis"
      ],
      "metadata": {
        "id": "c6_jKruqqkUG"
      }
    },
    {
      "cell_type": "markdown",
      "source": [
        "Calculating sample sizes needed to observe a statistically significant effect at Cohen's d = {0.2, 0.5, 0.8}. "
      ],
      "metadata": {
        "id": "h3iFItzm36DZ"
      }
    },
    {
      "cell_type": "code",
      "source": [
        "import scipy.stats\n",
        "import statsmodels.stats.power as smp\n",
        "import matplotlib.pyplot as plt\n",
        "\n",
        "power_analysis = smp.TTestIndPower()\n",
        "sample_size_small_es = power_analysis.solve_power(effect_size=0.2, power=0.8, alpha=0.05)\n",
        "sample_size_med_es = power_analysis.solve_power(effect_size=0.5, power=0.8, alpha=0.05)\n",
        "sample_size_large_es = power_analysis.solve_power(effect_size=0.8, power=0.8, alpha=0.05)\n",
        "\n",
        "sample_sizes = [[\"For small effect size (d = 0.2)\", \"For medium effect size (d = 0.5)\", \"For large effect size (d = 0.8)\"], \n",
        "                [sample_size_small_es, sample_size_med_es, sample_size_large_es]]\n",
        "\n",
        "sample_sizes_df = pd.DataFrame(sample_sizes[1:], columns = sample_sizes[0])\n",
        "sample_sizes_df"
      ],
      "metadata": {
        "id": "MOSSo_14rN5s",
        "outputId": "78fa9e41-f018-448a-8f3f-4f42ea44a759",
        "colab": {
          "base_uri": "https://localhost:8080/",
          "height": 152
        }
      },
      "execution_count": 531,
      "outputs": [
        {
          "output_type": "stream",
          "name": "stderr",
          "text": [
            "/usr/local/lib/python3.9/dist-packages/scipy/stats/_continuous_distns.py:6832: RuntimeWarning: invalid value encountered in _nct_sf\n",
            "  return np.clip(_boost._nct_sf(x, df, nc), 0, 1)\n",
            "/usr/local/lib/python3.9/dist-packages/scipy/stats/_continuous_distns.py:6826: RuntimeWarning: invalid value encountered in _nct_cdf\n",
            "  return np.clip(_boost._nct_cdf(x, df, nc), 0, 1)\n"
          ]
        },
        {
          "output_type": "execute_result",
          "data": {
            "text/plain": [
              "   For small effect size (d = 0.2)  For medium effect size (d = 0.5)  \\\n",
              "0                       393.405693                         63.765611   \n",
              "\n",
              "   For large effect size (d = 0.8)  \n",
              "0                        25.524572  "
            ],
            "text/html": [
              "\n",
              "  <div id=\"df-527e05ac-fa22-4bc1-a937-cb49c37871d3\">\n",
              "    <div class=\"colab-df-container\">\n",
              "      <div>\n",
              "<style scoped>\n",
              "    .dataframe tbody tr th:only-of-type {\n",
              "        vertical-align: middle;\n",
              "    }\n",
              "\n",
              "    .dataframe tbody tr th {\n",
              "        vertical-align: top;\n",
              "    }\n",
              "\n",
              "    .dataframe thead th {\n",
              "        text-align: right;\n",
              "    }\n",
              "</style>\n",
              "<table border=\"1\" class=\"dataframe\">\n",
              "  <thead>\n",
              "    <tr style=\"text-align: right;\">\n",
              "      <th></th>\n",
              "      <th>For small effect size (d = 0.2)</th>\n",
              "      <th>For medium effect size (d = 0.5)</th>\n",
              "      <th>For large effect size (d = 0.8)</th>\n",
              "    </tr>\n",
              "  </thead>\n",
              "  <tbody>\n",
              "    <tr>\n",
              "      <th>0</th>\n",
              "      <td>393.405693</td>\n",
              "      <td>63.765611</td>\n",
              "      <td>25.524572</td>\n",
              "    </tr>\n",
              "  </tbody>\n",
              "</table>\n",
              "</div>\n",
              "      <button class=\"colab-df-convert\" onclick=\"convertToInteractive('df-527e05ac-fa22-4bc1-a937-cb49c37871d3')\"\n",
              "              title=\"Convert this dataframe to an interactive table.\"\n",
              "              style=\"display:none;\">\n",
              "        \n",
              "  <svg xmlns=\"http://www.w3.org/2000/svg\" height=\"24px\"viewBox=\"0 0 24 24\"\n",
              "       width=\"24px\">\n",
              "    <path d=\"M0 0h24v24H0V0z\" fill=\"none\"/>\n",
              "    <path d=\"M18.56 5.44l.94 2.06.94-2.06 2.06-.94-2.06-.94-.94-2.06-.94 2.06-2.06.94zm-11 1L8.5 8.5l.94-2.06 2.06-.94-2.06-.94L8.5 2.5l-.94 2.06-2.06.94zm10 10l.94 2.06.94-2.06 2.06-.94-2.06-.94-.94-2.06-.94 2.06-2.06.94z\"/><path d=\"M17.41 7.96l-1.37-1.37c-.4-.4-.92-.59-1.43-.59-.52 0-1.04.2-1.43.59L10.3 9.45l-7.72 7.72c-.78.78-.78 2.05 0 2.83L4 21.41c.39.39.9.59 1.41.59.51 0 1.02-.2 1.41-.59l7.78-7.78 2.81-2.81c.8-.78.8-2.07 0-2.86zM5.41 20L4 18.59l7.72-7.72 1.47 1.35L5.41 20z\"/>\n",
              "  </svg>\n",
              "      </button>\n",
              "      \n",
              "  <style>\n",
              "    .colab-df-container {\n",
              "      display:flex;\n",
              "      flex-wrap:wrap;\n",
              "      gap: 12px;\n",
              "    }\n",
              "\n",
              "    .colab-df-convert {\n",
              "      background-color: #E8F0FE;\n",
              "      border: none;\n",
              "      border-radius: 50%;\n",
              "      cursor: pointer;\n",
              "      display: none;\n",
              "      fill: #1967D2;\n",
              "      height: 32px;\n",
              "      padding: 0 0 0 0;\n",
              "      width: 32px;\n",
              "    }\n",
              "\n",
              "    .colab-df-convert:hover {\n",
              "      background-color: #E2EBFA;\n",
              "      box-shadow: 0px 1px 2px rgba(60, 64, 67, 0.3), 0px 1px 3px 1px rgba(60, 64, 67, 0.15);\n",
              "      fill: #174EA6;\n",
              "    }\n",
              "\n",
              "    [theme=dark] .colab-df-convert {\n",
              "      background-color: #3B4455;\n",
              "      fill: #D2E3FC;\n",
              "    }\n",
              "\n",
              "    [theme=dark] .colab-df-convert:hover {\n",
              "      background-color: #434B5C;\n",
              "      box-shadow: 0px 1px 3px 1px rgba(0, 0, 0, 0.15);\n",
              "      filter: drop-shadow(0px 1px 2px rgba(0, 0, 0, 0.3));\n",
              "      fill: #FFFFFF;\n",
              "    }\n",
              "  </style>\n",
              "\n",
              "      <script>\n",
              "        const buttonEl =\n",
              "          document.querySelector('#df-527e05ac-fa22-4bc1-a937-cb49c37871d3 button.colab-df-convert');\n",
              "        buttonEl.style.display =\n",
              "          google.colab.kernel.accessAllowed ? 'block' : 'none';\n",
              "\n",
              "        async function convertToInteractive(key) {\n",
              "          const element = document.querySelector('#df-527e05ac-fa22-4bc1-a937-cb49c37871d3');\n",
              "          const dataTable =\n",
              "            await google.colab.kernel.invokeFunction('convertToInteractive',\n",
              "                                                     [key], {});\n",
              "          if (!dataTable) return;\n",
              "\n",
              "          const docLinkHtml = 'Like what you see? Visit the ' +\n",
              "            '<a target=\"_blank\" href=https://colab.research.google.com/notebooks/data_table.ipynb>data table notebook</a>'\n",
              "            + ' to learn more about interactive tables.';\n",
              "          element.innerHTML = '';\n",
              "          dataTable['output_type'] = 'display_data';\n",
              "          await google.colab.output.renderOutput(dataTable, element);\n",
              "          const docLink = document.createElement('div');\n",
              "          docLink.innerHTML = docLinkHtml;\n",
              "          element.appendChild(docLink);\n",
              "        }\n",
              "      </script>\n",
              "    </div>\n",
              "  </div>\n",
              "  "
            ]
          },
          "metadata": {},
          "execution_count": 531
        }
      ]
    },
    {
      "cell_type": "markdown",
      "source": [
        "# ANCOVA"
      ],
      "metadata": {
        "id": "n2bJYZ2Q4JuA"
      }
    },
    {
      "cell_type": "code",
      "source": [],
      "metadata": {
        "id": "6ZDVY01e4Lw4"
      },
      "execution_count": 531,
      "outputs": []
    },
    {
      "cell_type": "markdown",
      "source": [
        "# Logistic Regression Model"
      ],
      "metadata": {
        "id": "uQoxnk3h4LW8"
      }
    },
    {
      "cell_type": "code",
      "source": [],
      "metadata": {
        "id": "T3XniT8T4Ob0"
      },
      "execution_count": 531,
      "outputs": []
    }
  ]
}