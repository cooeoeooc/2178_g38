{
  "nbformat": 4,
  "nbformat_minor": 0,
  "metadata": {
    "colab": {
      "provenance": [],
      "authorship_tag": "ABX9TyNjXzmbgJXYKbRc6z12nGKb",
      "include_colab_link": true
    },
    "kernelspec": {
      "name": "python3",
      "display_name": "Python 3"
    },
    "language_info": {
      "name": "python"
    }
  },
  "cells": [
    {
      "cell_type": "markdown",
      "metadata": {
        "id": "view-in-github",
        "colab_type": "text"
      },
      "source": [
        "<a href=\"https://colab.research.google.com/github/cooeoeooc/2178_g38/blob/main/group38_code_final.ipynb\" target=\"_parent\"><img src=\"https://colab.research.google.com/assets/colab-badge.svg\" alt=\"Open In Colab\"/></a>"
      ]
    },
    {
      "cell_type": "code",
      "execution_count": 37,
      "metadata": {
        "id": "C6LmdeIEhNjd"
      },
      "outputs": [],
      "source": [
        "import pandas as pd\n",
        "import numpy as np"
      ]
    },
    {
      "cell_type": "markdown",
      "source": [
        "# Data Preprocessing and Cleaning"
      ],
      "metadata": {
        "id": "i2nAALQMhfBt"
      }
    },
    {
      "cell_type": "code",
      "source": [
        "data = pd.read_csv(\"https://raw.githubusercontent.com/cooeoeooc/2178_g38/main/Arrests_and_Strip_Searches_(RBDC-ARR-TBL-001).csv\")\n",
        "data.head(5)"
      ],
      "metadata": {
        "id": "YALxVeJghelz",
        "outputId": "383b25b8-a6cf-46ce-8a04-12699e6e893d",
        "colab": {
          "base_uri": "https://localhost:8080/",
          "height": 317
        }
      },
      "execution_count": 38,
      "outputs": [
        {
          "output_type": "execute_result",
          "data": {
            "text/plain": [
              "   Arrest_Year Arrest_Month  EventID   ArrestID  PersonID     Perceived_Race  \\\n",
              "0         2020    July-Sept  1005907  6017884.0    326622              White   \n",
              "1         2020    July-Sept  1014562  6056669.0    326622              White   \n",
              "2         2020      Oct-Dec  1029922  6057065.0    326622  Unknown or Legacy   \n",
              "3         2021      Jan-Mar  1052190  6029059.0    327535              Black   \n",
              "4         2021      Jan-Mar  1015512  6040372.0    327535        South Asian   \n",
              "\n",
              "  Sex Age_group__at_arrest_ Youth_at_arrest__under_18_years ArrestLocDiv  ...  \\\n",
              "0   M   Aged 35 to 44 years                     Not a youth           54  ...   \n",
              "1   M   Aged 35 to 44 years                     Not a youth           54  ...   \n",
              "2   M   Aged 35 to 44 years                     Not a youth           54  ...   \n",
              "3   M   Aged 25 to 34 years                     Not a youth           XX  ...   \n",
              "4   M   Aged 25 to 34 years                     Not a youth           XX  ...   \n",
              "\n",
              "   Actions_at_arrest___Resisted__d  Actions_at_arrest___Mental_inst  \\\n",
              "0                                0                                0   \n",
              "1                                0                                0   \n",
              "2                                0                                0   \n",
              "3                                0                                0   \n",
              "4                                0                                0   \n",
              "\n",
              "  Actions_at_arrest___Assaulted_o  Actions_at_arrest___Cooperative  \\\n",
              "0                               0                                1   \n",
              "1                               0                                0   \n",
              "2                               0                                0   \n",
              "3                               0                                0   \n",
              "4                               0                                0   \n",
              "\n",
              "   SearchReason_CauseInjury  SearchReason_AssistEscape  \\\n",
              "0                       NaN                        NaN   \n",
              "1                       NaN                        NaN   \n",
              "2                       NaN                        NaN   \n",
              "3                       NaN                        NaN   \n",
              "4                       NaN                        NaN   \n",
              "\n",
              "   SearchReason_PossessWeapons  SearchReason_PossessEvidence  ItemsFound  \\\n",
              "0                          NaN                           NaN         NaN   \n",
              "1                          NaN                           NaN         NaN   \n",
              "2                          NaN                           NaN         NaN   \n",
              "3                          NaN                           NaN         NaN   \n",
              "4                          NaN                           NaN         NaN   \n",
              "\n",
              "   ObjectId  \n",
              "0         1  \n",
              "1         2  \n",
              "2         3  \n",
              "3         4  \n",
              "4         5  \n",
              "\n",
              "[5 rows x 25 columns]"
            ],
            "text/html": [
              "\n",
              "  <div id=\"df-401ac914-1811-4652-8c1b-7ee1924081ec\">\n",
              "    <div class=\"colab-df-container\">\n",
              "      <div>\n",
              "<style scoped>\n",
              "    .dataframe tbody tr th:only-of-type {\n",
              "        vertical-align: middle;\n",
              "    }\n",
              "\n",
              "    .dataframe tbody tr th {\n",
              "        vertical-align: top;\n",
              "    }\n",
              "\n",
              "    .dataframe thead th {\n",
              "        text-align: right;\n",
              "    }\n",
              "</style>\n",
              "<table border=\"1\" class=\"dataframe\">\n",
              "  <thead>\n",
              "    <tr style=\"text-align: right;\">\n",
              "      <th></th>\n",
              "      <th>Arrest_Year</th>\n",
              "      <th>Arrest_Month</th>\n",
              "      <th>EventID</th>\n",
              "      <th>ArrestID</th>\n",
              "      <th>PersonID</th>\n",
              "      <th>Perceived_Race</th>\n",
              "      <th>Sex</th>\n",
              "      <th>Age_group__at_arrest_</th>\n",
              "      <th>Youth_at_arrest__under_18_years</th>\n",
              "      <th>ArrestLocDiv</th>\n",
              "      <th>...</th>\n",
              "      <th>Actions_at_arrest___Resisted__d</th>\n",
              "      <th>Actions_at_arrest___Mental_inst</th>\n",
              "      <th>Actions_at_arrest___Assaulted_o</th>\n",
              "      <th>Actions_at_arrest___Cooperative</th>\n",
              "      <th>SearchReason_CauseInjury</th>\n",
              "      <th>SearchReason_AssistEscape</th>\n",
              "      <th>SearchReason_PossessWeapons</th>\n",
              "      <th>SearchReason_PossessEvidence</th>\n",
              "      <th>ItemsFound</th>\n",
              "      <th>ObjectId</th>\n",
              "    </tr>\n",
              "  </thead>\n",
              "  <tbody>\n",
              "    <tr>\n",
              "      <th>0</th>\n",
              "      <td>2020</td>\n",
              "      <td>July-Sept</td>\n",
              "      <td>1005907</td>\n",
              "      <td>6017884.0</td>\n",
              "      <td>326622</td>\n",
              "      <td>White</td>\n",
              "      <td>M</td>\n",
              "      <td>Aged 35 to 44 years</td>\n",
              "      <td>Not a youth</td>\n",
              "      <td>54</td>\n",
              "      <td>...</td>\n",
              "      <td>0</td>\n",
              "      <td>0</td>\n",
              "      <td>0</td>\n",
              "      <td>1</td>\n",
              "      <td>NaN</td>\n",
              "      <td>NaN</td>\n",
              "      <td>NaN</td>\n",
              "      <td>NaN</td>\n",
              "      <td>NaN</td>\n",
              "      <td>1</td>\n",
              "    </tr>\n",
              "    <tr>\n",
              "      <th>1</th>\n",
              "      <td>2020</td>\n",
              "      <td>July-Sept</td>\n",
              "      <td>1014562</td>\n",
              "      <td>6056669.0</td>\n",
              "      <td>326622</td>\n",
              "      <td>White</td>\n",
              "      <td>M</td>\n",
              "      <td>Aged 35 to 44 years</td>\n",
              "      <td>Not a youth</td>\n",
              "      <td>54</td>\n",
              "      <td>...</td>\n",
              "      <td>0</td>\n",
              "      <td>0</td>\n",
              "      <td>0</td>\n",
              "      <td>0</td>\n",
              "      <td>NaN</td>\n",
              "      <td>NaN</td>\n",
              "      <td>NaN</td>\n",
              "      <td>NaN</td>\n",
              "      <td>NaN</td>\n",
              "      <td>2</td>\n",
              "    </tr>\n",
              "    <tr>\n",
              "      <th>2</th>\n",
              "      <td>2020</td>\n",
              "      <td>Oct-Dec</td>\n",
              "      <td>1029922</td>\n",
              "      <td>6057065.0</td>\n",
              "      <td>326622</td>\n",
              "      <td>Unknown or Legacy</td>\n",
              "      <td>M</td>\n",
              "      <td>Aged 35 to 44 years</td>\n",
              "      <td>Not a youth</td>\n",
              "      <td>54</td>\n",
              "      <td>...</td>\n",
              "      <td>0</td>\n",
              "      <td>0</td>\n",
              "      <td>0</td>\n",
              "      <td>0</td>\n",
              "      <td>NaN</td>\n",
              "      <td>NaN</td>\n",
              "      <td>NaN</td>\n",
              "      <td>NaN</td>\n",
              "      <td>NaN</td>\n",
              "      <td>3</td>\n",
              "    </tr>\n",
              "    <tr>\n",
              "      <th>3</th>\n",
              "      <td>2021</td>\n",
              "      <td>Jan-Mar</td>\n",
              "      <td>1052190</td>\n",
              "      <td>6029059.0</td>\n",
              "      <td>327535</td>\n",
              "      <td>Black</td>\n",
              "      <td>M</td>\n",
              "      <td>Aged 25 to 34 years</td>\n",
              "      <td>Not a youth</td>\n",
              "      <td>XX</td>\n",
              "      <td>...</td>\n",
              "      <td>0</td>\n",
              "      <td>0</td>\n",
              "      <td>0</td>\n",
              "      <td>0</td>\n",
              "      <td>NaN</td>\n",
              "      <td>NaN</td>\n",
              "      <td>NaN</td>\n",
              "      <td>NaN</td>\n",
              "      <td>NaN</td>\n",
              "      <td>4</td>\n",
              "    </tr>\n",
              "    <tr>\n",
              "      <th>4</th>\n",
              "      <td>2021</td>\n",
              "      <td>Jan-Mar</td>\n",
              "      <td>1015512</td>\n",
              "      <td>6040372.0</td>\n",
              "      <td>327535</td>\n",
              "      <td>South Asian</td>\n",
              "      <td>M</td>\n",
              "      <td>Aged 25 to 34 years</td>\n",
              "      <td>Not a youth</td>\n",
              "      <td>XX</td>\n",
              "      <td>...</td>\n",
              "      <td>0</td>\n",
              "      <td>0</td>\n",
              "      <td>0</td>\n",
              "      <td>0</td>\n",
              "      <td>NaN</td>\n",
              "      <td>NaN</td>\n",
              "      <td>NaN</td>\n",
              "      <td>NaN</td>\n",
              "      <td>NaN</td>\n",
              "      <td>5</td>\n",
              "    </tr>\n",
              "  </tbody>\n",
              "</table>\n",
              "<p>5 rows × 25 columns</p>\n",
              "</div>\n",
              "      <button class=\"colab-df-convert\" onclick=\"convertToInteractive('df-401ac914-1811-4652-8c1b-7ee1924081ec')\"\n",
              "              title=\"Convert this dataframe to an interactive table.\"\n",
              "              style=\"display:none;\">\n",
              "        \n",
              "  <svg xmlns=\"http://www.w3.org/2000/svg\" height=\"24px\"viewBox=\"0 0 24 24\"\n",
              "       width=\"24px\">\n",
              "    <path d=\"M0 0h24v24H0V0z\" fill=\"none\"/>\n",
              "    <path d=\"M18.56 5.44l.94 2.06.94-2.06 2.06-.94-2.06-.94-.94-2.06-.94 2.06-2.06.94zm-11 1L8.5 8.5l.94-2.06 2.06-.94-2.06-.94L8.5 2.5l-.94 2.06-2.06.94zm10 10l.94 2.06.94-2.06 2.06-.94-2.06-.94-.94-2.06-.94 2.06-2.06.94z\"/><path d=\"M17.41 7.96l-1.37-1.37c-.4-.4-.92-.59-1.43-.59-.52 0-1.04.2-1.43.59L10.3 9.45l-7.72 7.72c-.78.78-.78 2.05 0 2.83L4 21.41c.39.39.9.59 1.41.59.51 0 1.02-.2 1.41-.59l7.78-7.78 2.81-2.81c.8-.78.8-2.07 0-2.86zM5.41 20L4 18.59l7.72-7.72 1.47 1.35L5.41 20z\"/>\n",
              "  </svg>\n",
              "      </button>\n",
              "      \n",
              "  <style>\n",
              "    .colab-df-container {\n",
              "      display:flex;\n",
              "      flex-wrap:wrap;\n",
              "      gap: 12px;\n",
              "    }\n",
              "\n",
              "    .colab-df-convert {\n",
              "      background-color: #E8F0FE;\n",
              "      border: none;\n",
              "      border-radius: 50%;\n",
              "      cursor: pointer;\n",
              "      display: none;\n",
              "      fill: #1967D2;\n",
              "      height: 32px;\n",
              "      padding: 0 0 0 0;\n",
              "      width: 32px;\n",
              "    }\n",
              "\n",
              "    .colab-df-convert:hover {\n",
              "      background-color: #E2EBFA;\n",
              "      box-shadow: 0px 1px 2px rgba(60, 64, 67, 0.3), 0px 1px 3px 1px rgba(60, 64, 67, 0.15);\n",
              "      fill: #174EA6;\n",
              "    }\n",
              "\n",
              "    [theme=dark] .colab-df-convert {\n",
              "      background-color: #3B4455;\n",
              "      fill: #D2E3FC;\n",
              "    }\n",
              "\n",
              "    [theme=dark] .colab-df-convert:hover {\n",
              "      background-color: #434B5C;\n",
              "      box-shadow: 0px 1px 3px 1px rgba(0, 0, 0, 0.15);\n",
              "      filter: drop-shadow(0px 1px 2px rgba(0, 0, 0, 0.3));\n",
              "      fill: #FFFFFF;\n",
              "    }\n",
              "  </style>\n",
              "\n",
              "      <script>\n",
              "        const buttonEl =\n",
              "          document.querySelector('#df-401ac914-1811-4652-8c1b-7ee1924081ec button.colab-df-convert');\n",
              "        buttonEl.style.display =\n",
              "          google.colab.kernel.accessAllowed ? 'block' : 'none';\n",
              "\n",
              "        async function convertToInteractive(key) {\n",
              "          const element = document.querySelector('#df-401ac914-1811-4652-8c1b-7ee1924081ec');\n",
              "          const dataTable =\n",
              "            await google.colab.kernel.invokeFunction('convertToInteractive',\n",
              "                                                     [key], {});\n",
              "          if (!dataTable) return;\n",
              "\n",
              "          const docLinkHtml = 'Like what you see? Visit the ' +\n",
              "            '<a target=\"_blank\" href=https://colab.research.google.com/notebooks/data_table.ipynb>data table notebook</a>'\n",
              "            + ' to learn more about interactive tables.';\n",
              "          element.innerHTML = '';\n",
              "          dataTable['output_type'] = 'display_data';\n",
              "          await google.colab.output.renderOutput(dataTable, element);\n",
              "          const docLink = document.createElement('div');\n",
              "          docLink.innerHTML = docLinkHtml;\n",
              "          element.appendChild(docLink);\n",
              "        }\n",
              "      </script>\n",
              "    </div>\n",
              "  </div>\n",
              "  "
            ]
          },
          "metadata": {},
          "execution_count": 38
        }
      ]
    },
    {
      "cell_type": "code",
      "source": [
        "def test_na_num(df):\n",
        "    for column in df:\n",
        "        print(sum(df[column].isna()), column)"
      ],
      "metadata": {
        "id": "8zwiSmGuiLSK"
      },
      "execution_count": 39,
      "outputs": []
    },
    {
      "cell_type": "code",
      "source": [
        "test_na_num(data)"
      ],
      "metadata": {
        "id": "icebRZhziTVX",
        "outputId": "a0c73e4b-8a24-429e-a06e-ab9d1ff3c2eb",
        "colab": {
          "base_uri": "https://localhost:8080/"
        }
      },
      "execution_count": 40,
      "outputs": [
        {
          "output_type": "stream",
          "name": "stdout",
          "text": [
            "0 Arrest_Year\n",
            "0 Arrest_Month\n",
            "0 EventID\n",
            "469 ArrestID\n",
            "0 PersonID\n",
            "4 Perceived_Race\n",
            "0 Sex\n",
            "24 Age_group__at_arrest_\n",
            "0 Youth_at_arrest__under_18_years\n",
            "0 ArrestLocDiv\n",
            "0 StripSearch\n",
            "0 Booked\n",
            "165 Occurrence_Category\n",
            "0 Actions_at_arrest___Concealed_i\n",
            "0 Actions_at_arrest___Combative__\n",
            "0 Actions_at_arrest___Resisted__d\n",
            "0 Actions_at_arrest___Mental_inst\n",
            "0 Actions_at_arrest___Assaulted_o\n",
            "0 Actions_at_arrest___Cooperative\n",
            "57475 SearchReason_CauseInjury\n",
            "57475 SearchReason_AssistEscape\n",
            "57475 SearchReason_PossessWeapons\n",
            "57475 SearchReason_PossessEvidence\n",
            "57475 ItemsFound\n",
            "0 ObjectId\n"
          ]
        }
      ]
    },
    {
      "cell_type": "code",
      "source": [
        "data = data.dropna(subset = [\"ArrestID\", \"Perceived_Race\", \"Age_group__at_arrest_\", \"Occurrence_Category\"])"
      ],
      "metadata": {
        "id": "W_rVBUuXicA0"
      },
      "execution_count": 41,
      "outputs": []
    },
    {
      "cell_type": "markdown",
      "source": [
        "Cleaning existing variables. "
      ],
      "metadata": {
        "id": "uaTC3BzPq441"
      }
    },
    {
      "cell_type": "code",
      "source": [
        "data[\"Age_group_clean\"] = data[\"Age_group__at_arrest_\"].replace({\"Aged 17 years and younger\": \"Aged 17 years and under\", \"Aged 65 and older\": \"Aged 65 years and older\"})"
      ],
      "metadata": {
        "id": "HhFmMgiNq6j4"
      },
      "execution_count": 46,
      "outputs": []
    },
    {
      "cell_type": "markdown",
      "source": [
        "Establishing exclusion criteria – based on popular Occurrence Categories. "
      ],
      "metadata": {
        "id": "hM-PUL1jkpGZ"
      }
    },
    {
      "cell_type": "code",
      "source": [
        "data[\"Occurrence_Category\"].value_counts() # seeing most popular categories\n",
        "\n",
        "occurrence_replacement_dict = {\"Assault\": 0, \n",
        "                              \"Assault & Other crimes against persons\": 1, \n",
        "                              \"Robbery & Theft\": 2, \n",
        "                              \"Robbery/Theft\": 2, \n",
        "                              \"Warrant\": 3, \n",
        "                              \"FTA/FTC/Compliance Check/Parollee\": 4, \n",
        "                              \"FTA/FTC, Compliance Check & Parollee\": 4, \n",
        "                              \"Police Category - Administrative\": 5, \n",
        "                              \"Drug Related\": 6} # should we add more categories?\n",
        "\n",
        "data[\"Occurrence_Category\"] = data[\"Occurrence_Category\"].replace(occurrence_replacement_dict)\n",
        "data[\"Occurrence_Category\"] = data[\"Occurrence_Category\"].where(data[\"Occurrence_Category\"].isin(list(occurrence_replacement_dict.values())) == True, 7)"
      ],
      "metadata": {
        "id": "Wkg5I_wLknn8"
      },
      "execution_count": 47,
      "outputs": []
    },
    {
      "cell_type": "markdown",
      "source": [
        "Creating new variables. "
      ],
      "metadata": {
        "id": "-RkZXZEOjyo5"
      }
    },
    {
      "cell_type": "code",
      "source": [
        "data[\"SearchReasonCount\"] = data[\"SearchReason_CauseInjury\"] + data[\"SearchReason_AssistEscape\"] + data[\"SearchReason_PossessWeapons\"] + data[\"SearchReason_PossessEvidence\"]"
      ],
      "metadata": {
        "id": "41_LGxF0jxuA"
      },
      "execution_count": 48,
      "outputs": []
    },
    {
      "cell_type": "code",
      "source": [
        "data[\"UncooperativeActionsCount\"] = data[\"Actions_at_arrest___Concealed_i\"] + data[\"Actions_at_arrest___Combative__\"] + data[\"Actions_at_arrest___Resisted__d\"] + data[\"Actions_at_arrest___Mental_inst\"] + data[\"Actions_at_arrest___Assaulted_o\"]"
      ],
      "metadata": {
        "id": "cFoAtbyTkFB4"
      },
      "execution_count": 49,
      "outputs": []
    },
    {
      "cell_type": "code",
      "source": [
        "data[\"Time_series\"] = np.where((data[\"Arrest_Year\"] == 2020) & (data[\"Arrest_Month\"] == \"Jan-Mar\"), 1, \n",
        "                               (np.where((data[\"Arrest_Year\"] == 2020) & (data[\"Arrest_Month\"] == \"Apr-June\"), 2, \n",
        "                                         (np.where((data[\"Arrest_Year\"] == 2020) & (data[\"Arrest_Month\"] == \"July-Sept\"), 3, \n",
        "                                                   (np.where((data[\"Arrest_Year\"] == 2020) & (data[\"Arrest_Month\"] == \"Oct-Dec\"), 4, \n",
        "                                                             (np.where((data[\"Arrest_Year\"] == 2021) & (data[\"Arrest_Month\"] == \"Jan-Mar\"), 5, \n",
        "                                                                       (np.where((data[\"Arrest_Year\"] == 2021) & (data[\"Arrest_Month\"] == \"Apr-June\"), 6, \n",
        "                                                                                 (np.where((data[\"Arrest_Year\"] == 2021) & (data[\"Arrest_Month\"] == \"July-Sept\"), 7, \n",
        "                                                                                           (np.where((data[\"Arrest_Year\"] == 2021) & (data[\"Arrest_Month\"] == \"Oct-Dec\"), 8, 0)))))))))))))))"
      ],
      "metadata": {
        "id": "9m2yhI4lrTBK"
      },
      "execution_count": 50,
      "outputs": []
    },
    {
      "cell_type": "markdown",
      "source": [
        "# EDA"
      ],
      "metadata": {
        "id": "_XHRqdE6qSNk"
      }
    },
    {
      "cell_type": "markdown",
      "source": [
        "## Visualizations"
      ],
      "metadata": {
        "id": "oNI5tVu7qVR7"
      }
    },
    {
      "cell_type": "code",
      "source": [],
      "metadata": {
        "id": "BUpqQ3K_vBYL"
      },
      "execution_count": null,
      "outputs": []
    },
    {
      "cell_type": "markdown",
      "source": [
        "## t-tests"
      ],
      "metadata": {
        "id": "8iTsZt7eqWjl"
      }
    },
    {
      "cell_type": "code",
      "source": [],
      "metadata": {
        "id": "kpoHoXdzvCDx"
      },
      "execution_count": null,
      "outputs": []
    },
    {
      "cell_type": "markdown",
      "source": [
        "# Feature Engineering"
      ],
      "metadata": {
        "id": "YAkx10zYjv6h"
      }
    },
    {
      "cell_type": "markdown",
      "source": [
        "## Numerical representation"
      ],
      "metadata": {
        "id": "J5xm3d_aqmtM"
      }
    },
    {
      "cell_type": "code",
      "source": [
        "race_dict = {\"White\": 0,\n",
        "             \"Unknown or Legacy\": 1,\n",
        "             \"Black\":2,\n",
        "             \"South Asian\":3,\n",
        "             \"Indigenous\":4,\n",
        "             \"Middle-Eastern\":5, \n",
        "             \"Latino\": 6,\n",
        "             \"East/Southeast Asian\":7}\n",
        "\n",
        "data['Perceived_Race'] = data['Perceived_Race'].replace(race_dict)"
      ],
      "metadata": {
        "id": "w2LqcRLzqmWq"
      },
      "execution_count": 52,
      "outputs": []
    },
    {
      "cell_type": "code",
      "source": [
        "sex_dict= {'M':0,'F':1,'U':2}\n",
        "\n",
        "data['Sex'] = data['Sex'].replace(sex_dict)"
      ],
      "metadata": {
        "id": "2w4GhRqQud0a"
      },
      "execution_count": 53,
      "outputs": []
    },
    {
      "cell_type": "code",
      "source": [
        "age_dict={'Aged 17 years and under': 0,\n",
        "          'Aged 18 to 24 years': 1,\n",
        "          'Aged 25 to 34 years': 2,\n",
        "          'Aged 35 to 44 years': 3,\n",
        "          'Aged 45 to 54 years': 4,\n",
        "          'Aged 55 to 64 years': 5,\n",
        "          'Aged 65 years and older': 6,\n",
        "          }\n",
        "\n",
        "data['Age_group_clean'] = data['Age_group_clean'].replace(age_dict)"
      ],
      "metadata": {
        "id": "PEYKmk8iuhpG"
      },
      "execution_count": 54,
      "outputs": []
    },
    {
      "cell_type": "code",
      "source": [
        "youth_dict={'Youth (aged 17 and younger)': 0,\n",
        "            'Youth (aged 17 years and under)': 0, \n",
        "            'Not a youth': 1}\n",
        "\n",
        "data['Youth_at_arrest__under_18_years'] = data['Youth_at_arrest__under_18_years'].replace(youth_dict)"
      ],
      "metadata": {
        "id": "w2UHfejAuzFF"
      },
      "execution_count": 55,
      "outputs": []
    },
    {
      "cell_type": "code",
      "source": [
        "data = data.dropna()"
      ],
      "metadata": {
        "id": "cfDUCr-pu6JL"
      },
      "execution_count": 56,
      "outputs": []
    },
    {
      "cell_type": "markdown",
      "source": [
        "## One-hot encoding"
      ],
      "metadata": {
        "id": "GOeS1yZZqqRL"
      }
    },
    {
      "cell_type": "code",
      "source": [],
      "metadata": {
        "id": "i9vjm62TqtDE"
      },
      "execution_count": 45,
      "outputs": []
    },
    {
      "cell_type": "markdown",
      "source": [
        "# Power Analysis"
      ],
      "metadata": {
        "id": "c6_jKruqqkUG"
      }
    },
    {
      "cell_type": "code",
      "source": [],
      "metadata": {
        "id": "MOSSo_14rN5s"
      },
      "execution_count": null,
      "outputs": []
    }
  ]
}