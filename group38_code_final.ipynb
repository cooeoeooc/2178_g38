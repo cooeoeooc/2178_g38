{
  "nbformat": 4,
  "nbformat_minor": 0,
  "metadata": {
    "colab": {
      "provenance": [],
      "authorship_tag": "ABX9TyOCbiRDZmm5o7bUhVNE1/y6",
      "include_colab_link": true
    },
    "kernelspec": {
      "name": "python3",
      "display_name": "Python 3"
    },
    "language_info": {
      "name": "python"
    }
  },
  "cells": [
    {
      "cell_type": "markdown",
      "metadata": {
        "id": "view-in-github",
        "colab_type": "text"
      },
      "source": [
        "<a href=\"https://colab.research.google.com/github/cooeoeooc/2178_g38/blob/main/group38_code_final.ipynb\" target=\"_parent\"><img src=\"https://colab.research.google.com/assets/colab-badge.svg\" alt=\"Open In Colab\"/></a>"
      ]
    },
    {
      "cell_type": "code",
      "execution_count": 290,
      "metadata": {
        "id": "C6LmdeIEhNjd"
      },
      "outputs": [],
      "source": [
        "import pandas as pd\n",
        "import numpy as np"
      ]
    },
    {
      "cell_type": "code",
      "source": [
        "np.random.seed(123)"
      ],
      "metadata": {
        "id": "LoM0j9uy0IXK"
      },
      "execution_count": 291,
      "outputs": []
    },
    {
      "cell_type": "markdown",
      "source": [
        "# Data Preprocessing and Cleaning"
      ],
      "metadata": {
        "id": "i2nAALQMhfBt"
      }
    },
    {
      "cell_type": "code",
      "source": [
        "data = pd.read_csv(\"https://raw.githubusercontent.com/cooeoeooc/2178_g38/main/Arrests_and_Strip_Searches_(RBDC-ARR-TBL-001).csv\")\n",
        "data.head(5)"
      ],
      "metadata": {
        "id": "YALxVeJghelz",
        "outputId": "1d24d50e-d559-4fe6-8bac-82a346dc8057",
        "colab": {
          "base_uri": "https://localhost:8080/",
          "height": 317
        }
      },
      "execution_count": 292,
      "outputs": [
        {
          "output_type": "execute_result",
          "data": {
            "text/plain": [
              "   Arrest_Year Arrest_Month  EventID   ArrestID  PersonID     Perceived_Race  \\\n",
              "0         2020    July-Sept  1005907  6017884.0    326622              White   \n",
              "1         2020    July-Sept  1014562  6056669.0    326622              White   \n",
              "2         2020      Oct-Dec  1029922  6057065.0    326622  Unknown or Legacy   \n",
              "3         2021      Jan-Mar  1052190  6029059.0    327535              Black   \n",
              "4         2021      Jan-Mar  1015512  6040372.0    327535        South Asian   \n",
              "\n",
              "  Sex Age_group__at_arrest_ Youth_at_arrest__under_18_years ArrestLocDiv  ...  \\\n",
              "0   M   Aged 35 to 44 years                     Not a youth           54  ...   \n",
              "1   M   Aged 35 to 44 years                     Not a youth           54  ...   \n",
              "2   M   Aged 35 to 44 years                     Not a youth           54  ...   \n",
              "3   M   Aged 25 to 34 years                     Not a youth           XX  ...   \n",
              "4   M   Aged 25 to 34 years                     Not a youth           XX  ...   \n",
              "\n",
              "   Actions_at_arrest___Resisted__d  Actions_at_arrest___Mental_inst  \\\n",
              "0                                0                                0   \n",
              "1                                0                                0   \n",
              "2                                0                                0   \n",
              "3                                0                                0   \n",
              "4                                0                                0   \n",
              "\n",
              "  Actions_at_arrest___Assaulted_o  Actions_at_arrest___Cooperative  \\\n",
              "0                               0                                1   \n",
              "1                               0                                0   \n",
              "2                               0                                0   \n",
              "3                               0                                0   \n",
              "4                               0                                0   \n",
              "\n",
              "   SearchReason_CauseInjury  SearchReason_AssistEscape  \\\n",
              "0                       NaN                        NaN   \n",
              "1                       NaN                        NaN   \n",
              "2                       NaN                        NaN   \n",
              "3                       NaN                        NaN   \n",
              "4                       NaN                        NaN   \n",
              "\n",
              "   SearchReason_PossessWeapons  SearchReason_PossessEvidence  ItemsFound  \\\n",
              "0                          NaN                           NaN         NaN   \n",
              "1                          NaN                           NaN         NaN   \n",
              "2                          NaN                           NaN         NaN   \n",
              "3                          NaN                           NaN         NaN   \n",
              "4                          NaN                           NaN         NaN   \n",
              "\n",
              "   ObjectId  \n",
              "0         1  \n",
              "1         2  \n",
              "2         3  \n",
              "3         4  \n",
              "4         5  \n",
              "\n",
              "[5 rows x 25 columns]"
            ],
            "text/html": [
              "\n",
              "  <div id=\"df-b525bd3f-57bb-4452-aed6-cabd48cdd31c\">\n",
              "    <div class=\"colab-df-container\">\n",
              "      <div>\n",
              "<style scoped>\n",
              "    .dataframe tbody tr th:only-of-type {\n",
              "        vertical-align: middle;\n",
              "    }\n",
              "\n",
              "    .dataframe tbody tr th {\n",
              "        vertical-align: top;\n",
              "    }\n",
              "\n",
              "    .dataframe thead th {\n",
              "        text-align: right;\n",
              "    }\n",
              "</style>\n",
              "<table border=\"1\" class=\"dataframe\">\n",
              "  <thead>\n",
              "    <tr style=\"text-align: right;\">\n",
              "      <th></th>\n",
              "      <th>Arrest_Year</th>\n",
              "      <th>Arrest_Month</th>\n",
              "      <th>EventID</th>\n",
              "      <th>ArrestID</th>\n",
              "      <th>PersonID</th>\n",
              "      <th>Perceived_Race</th>\n",
              "      <th>Sex</th>\n",
              "      <th>Age_group__at_arrest_</th>\n",
              "      <th>Youth_at_arrest__under_18_years</th>\n",
              "      <th>ArrestLocDiv</th>\n",
              "      <th>...</th>\n",
              "      <th>Actions_at_arrest___Resisted__d</th>\n",
              "      <th>Actions_at_arrest___Mental_inst</th>\n",
              "      <th>Actions_at_arrest___Assaulted_o</th>\n",
              "      <th>Actions_at_arrest___Cooperative</th>\n",
              "      <th>SearchReason_CauseInjury</th>\n",
              "      <th>SearchReason_AssistEscape</th>\n",
              "      <th>SearchReason_PossessWeapons</th>\n",
              "      <th>SearchReason_PossessEvidence</th>\n",
              "      <th>ItemsFound</th>\n",
              "      <th>ObjectId</th>\n",
              "    </tr>\n",
              "  </thead>\n",
              "  <tbody>\n",
              "    <tr>\n",
              "      <th>0</th>\n",
              "      <td>2020</td>\n",
              "      <td>July-Sept</td>\n",
              "      <td>1005907</td>\n",
              "      <td>6017884.0</td>\n",
              "      <td>326622</td>\n",
              "      <td>White</td>\n",
              "      <td>M</td>\n",
              "      <td>Aged 35 to 44 years</td>\n",
              "      <td>Not a youth</td>\n",
              "      <td>54</td>\n",
              "      <td>...</td>\n",
              "      <td>0</td>\n",
              "      <td>0</td>\n",
              "      <td>0</td>\n",
              "      <td>1</td>\n",
              "      <td>NaN</td>\n",
              "      <td>NaN</td>\n",
              "      <td>NaN</td>\n",
              "      <td>NaN</td>\n",
              "      <td>NaN</td>\n",
              "      <td>1</td>\n",
              "    </tr>\n",
              "    <tr>\n",
              "      <th>1</th>\n",
              "      <td>2020</td>\n",
              "      <td>July-Sept</td>\n",
              "      <td>1014562</td>\n",
              "      <td>6056669.0</td>\n",
              "      <td>326622</td>\n",
              "      <td>White</td>\n",
              "      <td>M</td>\n",
              "      <td>Aged 35 to 44 years</td>\n",
              "      <td>Not a youth</td>\n",
              "      <td>54</td>\n",
              "      <td>...</td>\n",
              "      <td>0</td>\n",
              "      <td>0</td>\n",
              "      <td>0</td>\n",
              "      <td>0</td>\n",
              "      <td>NaN</td>\n",
              "      <td>NaN</td>\n",
              "      <td>NaN</td>\n",
              "      <td>NaN</td>\n",
              "      <td>NaN</td>\n",
              "      <td>2</td>\n",
              "    </tr>\n",
              "    <tr>\n",
              "      <th>2</th>\n",
              "      <td>2020</td>\n",
              "      <td>Oct-Dec</td>\n",
              "      <td>1029922</td>\n",
              "      <td>6057065.0</td>\n",
              "      <td>326622</td>\n",
              "      <td>Unknown or Legacy</td>\n",
              "      <td>M</td>\n",
              "      <td>Aged 35 to 44 years</td>\n",
              "      <td>Not a youth</td>\n",
              "      <td>54</td>\n",
              "      <td>...</td>\n",
              "      <td>0</td>\n",
              "      <td>0</td>\n",
              "      <td>0</td>\n",
              "      <td>0</td>\n",
              "      <td>NaN</td>\n",
              "      <td>NaN</td>\n",
              "      <td>NaN</td>\n",
              "      <td>NaN</td>\n",
              "      <td>NaN</td>\n",
              "      <td>3</td>\n",
              "    </tr>\n",
              "    <tr>\n",
              "      <th>3</th>\n",
              "      <td>2021</td>\n",
              "      <td>Jan-Mar</td>\n",
              "      <td>1052190</td>\n",
              "      <td>6029059.0</td>\n",
              "      <td>327535</td>\n",
              "      <td>Black</td>\n",
              "      <td>M</td>\n",
              "      <td>Aged 25 to 34 years</td>\n",
              "      <td>Not a youth</td>\n",
              "      <td>XX</td>\n",
              "      <td>...</td>\n",
              "      <td>0</td>\n",
              "      <td>0</td>\n",
              "      <td>0</td>\n",
              "      <td>0</td>\n",
              "      <td>NaN</td>\n",
              "      <td>NaN</td>\n",
              "      <td>NaN</td>\n",
              "      <td>NaN</td>\n",
              "      <td>NaN</td>\n",
              "      <td>4</td>\n",
              "    </tr>\n",
              "    <tr>\n",
              "      <th>4</th>\n",
              "      <td>2021</td>\n",
              "      <td>Jan-Mar</td>\n",
              "      <td>1015512</td>\n",
              "      <td>6040372.0</td>\n",
              "      <td>327535</td>\n",
              "      <td>South Asian</td>\n",
              "      <td>M</td>\n",
              "      <td>Aged 25 to 34 years</td>\n",
              "      <td>Not a youth</td>\n",
              "      <td>XX</td>\n",
              "      <td>...</td>\n",
              "      <td>0</td>\n",
              "      <td>0</td>\n",
              "      <td>0</td>\n",
              "      <td>0</td>\n",
              "      <td>NaN</td>\n",
              "      <td>NaN</td>\n",
              "      <td>NaN</td>\n",
              "      <td>NaN</td>\n",
              "      <td>NaN</td>\n",
              "      <td>5</td>\n",
              "    </tr>\n",
              "  </tbody>\n",
              "</table>\n",
              "<p>5 rows × 25 columns</p>\n",
              "</div>\n",
              "      <button class=\"colab-df-convert\" onclick=\"convertToInteractive('df-b525bd3f-57bb-4452-aed6-cabd48cdd31c')\"\n",
              "              title=\"Convert this dataframe to an interactive table.\"\n",
              "              style=\"display:none;\">\n",
              "        \n",
              "  <svg xmlns=\"http://www.w3.org/2000/svg\" height=\"24px\"viewBox=\"0 0 24 24\"\n",
              "       width=\"24px\">\n",
              "    <path d=\"M0 0h24v24H0V0z\" fill=\"none\"/>\n",
              "    <path d=\"M18.56 5.44l.94 2.06.94-2.06 2.06-.94-2.06-.94-.94-2.06-.94 2.06-2.06.94zm-11 1L8.5 8.5l.94-2.06 2.06-.94-2.06-.94L8.5 2.5l-.94 2.06-2.06.94zm10 10l.94 2.06.94-2.06 2.06-.94-2.06-.94-.94-2.06-.94 2.06-2.06.94z\"/><path d=\"M17.41 7.96l-1.37-1.37c-.4-.4-.92-.59-1.43-.59-.52 0-1.04.2-1.43.59L10.3 9.45l-7.72 7.72c-.78.78-.78 2.05 0 2.83L4 21.41c.39.39.9.59 1.41.59.51 0 1.02-.2 1.41-.59l7.78-7.78 2.81-2.81c.8-.78.8-2.07 0-2.86zM5.41 20L4 18.59l7.72-7.72 1.47 1.35L5.41 20z\"/>\n",
              "  </svg>\n",
              "      </button>\n",
              "      \n",
              "  <style>\n",
              "    .colab-df-container {\n",
              "      display:flex;\n",
              "      flex-wrap:wrap;\n",
              "      gap: 12px;\n",
              "    }\n",
              "\n",
              "    .colab-df-convert {\n",
              "      background-color: #E8F0FE;\n",
              "      border: none;\n",
              "      border-radius: 50%;\n",
              "      cursor: pointer;\n",
              "      display: none;\n",
              "      fill: #1967D2;\n",
              "      height: 32px;\n",
              "      padding: 0 0 0 0;\n",
              "      width: 32px;\n",
              "    }\n",
              "\n",
              "    .colab-df-convert:hover {\n",
              "      background-color: #E2EBFA;\n",
              "      box-shadow: 0px 1px 2px rgba(60, 64, 67, 0.3), 0px 1px 3px 1px rgba(60, 64, 67, 0.15);\n",
              "      fill: #174EA6;\n",
              "    }\n",
              "\n",
              "    [theme=dark] .colab-df-convert {\n",
              "      background-color: #3B4455;\n",
              "      fill: #D2E3FC;\n",
              "    }\n",
              "\n",
              "    [theme=dark] .colab-df-convert:hover {\n",
              "      background-color: #434B5C;\n",
              "      box-shadow: 0px 1px 3px 1px rgba(0, 0, 0, 0.15);\n",
              "      filter: drop-shadow(0px 1px 2px rgba(0, 0, 0, 0.3));\n",
              "      fill: #FFFFFF;\n",
              "    }\n",
              "  </style>\n",
              "\n",
              "      <script>\n",
              "        const buttonEl =\n",
              "          document.querySelector('#df-b525bd3f-57bb-4452-aed6-cabd48cdd31c button.colab-df-convert');\n",
              "        buttonEl.style.display =\n",
              "          google.colab.kernel.accessAllowed ? 'block' : 'none';\n",
              "\n",
              "        async function convertToInteractive(key) {\n",
              "          const element = document.querySelector('#df-b525bd3f-57bb-4452-aed6-cabd48cdd31c');\n",
              "          const dataTable =\n",
              "            await google.colab.kernel.invokeFunction('convertToInteractive',\n",
              "                                                     [key], {});\n",
              "          if (!dataTable) return;\n",
              "\n",
              "          const docLinkHtml = 'Like what you see? Visit the ' +\n",
              "            '<a target=\"_blank\" href=https://colab.research.google.com/notebooks/data_table.ipynb>data table notebook</a>'\n",
              "            + ' to learn more about interactive tables.';\n",
              "          element.innerHTML = '';\n",
              "          dataTable['output_type'] = 'display_data';\n",
              "          await google.colab.output.renderOutput(dataTable, element);\n",
              "          const docLink = document.createElement('div');\n",
              "          docLink.innerHTML = docLinkHtml;\n",
              "          element.appendChild(docLink);\n",
              "        }\n",
              "      </script>\n",
              "    </div>\n",
              "  </div>\n",
              "  "
            ]
          },
          "metadata": {},
          "execution_count": 292
        }
      ]
    },
    {
      "cell_type": "code",
      "source": [
        "def test_na_num(df):\n",
        "    for column in df:\n",
        "        print(sum(df[column].isna()), column)"
      ],
      "metadata": {
        "id": "8zwiSmGuiLSK"
      },
      "execution_count": 293,
      "outputs": []
    },
    {
      "cell_type": "code",
      "source": [
        "test_na_num(data)"
      ],
      "metadata": {
        "id": "icebRZhziTVX",
        "outputId": "7d603a99-6020-4de2-e488-cebf654d9d1c",
        "colab": {
          "base_uri": "https://localhost:8080/"
        }
      },
      "execution_count": 294,
      "outputs": [
        {
          "output_type": "stream",
          "name": "stdout",
          "text": [
            "0 Arrest_Year\n",
            "0 Arrest_Month\n",
            "0 EventID\n",
            "469 ArrestID\n",
            "0 PersonID\n",
            "4 Perceived_Race\n",
            "0 Sex\n",
            "24 Age_group__at_arrest_\n",
            "0 Youth_at_arrest__under_18_years\n",
            "0 ArrestLocDiv\n",
            "0 StripSearch\n",
            "0 Booked\n",
            "165 Occurrence_Category\n",
            "0 Actions_at_arrest___Concealed_i\n",
            "0 Actions_at_arrest___Combative__\n",
            "0 Actions_at_arrest___Resisted__d\n",
            "0 Actions_at_arrest___Mental_inst\n",
            "0 Actions_at_arrest___Assaulted_o\n",
            "0 Actions_at_arrest___Cooperative\n",
            "57475 SearchReason_CauseInjury\n",
            "57475 SearchReason_AssistEscape\n",
            "57475 SearchReason_PossessWeapons\n",
            "57475 SearchReason_PossessEvidence\n",
            "57475 ItemsFound\n",
            "0 ObjectId\n"
          ]
        }
      ]
    },
    {
      "cell_type": "code",
      "source": [
        "data = data.dropna(subset = [\"ArrestID\", \"Perceived_Race\", \"Age_group__at_arrest_\", \"Occurrence_Category\"])"
      ],
      "metadata": {
        "id": "W_rVBUuXicA0"
      },
      "execution_count": 295,
      "outputs": []
    },
    {
      "cell_type": "code",
      "source": [
        "data = data.drop([\"EventID\", \"ArrestID\", \"ArrestLocDiv\"], axis = 1)"
      ],
      "metadata": {
        "id": "3bXaDX9MWr8W"
      },
      "execution_count": 296,
      "outputs": []
    },
    {
      "cell_type": "markdown",
      "source": [
        "Cleaning existing variables. "
      ],
      "metadata": {
        "id": "uaTC3BzPq441"
      }
    },
    {
      "cell_type": "code",
      "source": [
        "data[\"Age_group_clean\"] = data[\"Age_group__at_arrest_\"].replace({\"Aged 17 years and younger\": \"Aged 17 years and under\", \"Aged 65 and older\": \"Aged 65 years and older\"})"
      ],
      "metadata": {
        "id": "HhFmMgiNq6j4"
      },
      "execution_count": 297,
      "outputs": []
    },
    {
      "cell_type": "markdown",
      "source": [
        "Establishing exclusion criteria – based on popular Occurrence Categories. "
      ],
      "metadata": {
        "id": "hM-PUL1jkpGZ"
      }
    },
    {
      "cell_type": "code",
      "source": [
        "data[\"Occurrence_Category\"].value_counts() # seeing most popular categories\n",
        "\n",
        "occurrence_replacement_dict = {\"Assault\": 0, \n",
        "                              \"Assault & Other crimes against persons\": 1, \n",
        "                              \"Robbery & Theft\": 2, \n",
        "                              \"Robbery/Theft\": 2, \n",
        "                              \"Warrant\": 3, \n",
        "                              \"FTA/FTC/Compliance Check/Parollee\": 4, \n",
        "                              \"FTA/FTC, Compliance Check & Parollee\": 4, \n",
        "                              \"Police Category - Administrative\": 5, \n",
        "                              \"Drug Related\": 6} # should we add more categories?\n",
        "\n",
        "data[\"Occurrence_Category\"] = data[\"Occurrence_Category\"].replace(occurrence_replacement_dict)\n",
        "data[\"Occurrence_Category\"] = data[\"Occurrence_Category\"].where(data[\"Occurrence_Category\"].isin(list(occurrence_replacement_dict.values())) == True, 7)"
      ],
      "metadata": {
        "id": "Wkg5I_wLknn8"
      },
      "execution_count": 298,
      "outputs": []
    },
    {
      "cell_type": "markdown",
      "source": [
        "Creating new variables. "
      ],
      "metadata": {
        "id": "-RkZXZEOjyo5"
      }
    },
    {
      "cell_type": "code",
      "source": [
        "data[\"SearchReasonCount\"] = data[\"SearchReason_CauseInjury\"] + data[\"SearchReason_AssistEscape\"] + data[\"SearchReason_PossessWeapons\"] + data[\"SearchReason_PossessEvidence\"]\n",
        "data[\"SearchReasonCount\"] = np.where(data[\"SearchReasonCount\"].isna() == True, 0, data[\"SearchReasonCount\"])"
      ],
      "metadata": {
        "id": "41_LGxF0jxuA"
      },
      "execution_count": 299,
      "outputs": []
    },
    {
      "cell_type": "code",
      "source": [
        "data[\"UncooperativeActionsCount\"] = data[\"Actions_at_arrest___Concealed_i\"] + data[\"Actions_at_arrest___Combative__\"] + data[\"Actions_at_arrest___Resisted__d\"] + data[\"Actions_at_arrest___Mental_inst\"] + data[\"Actions_at_arrest___Assaulted_o\"]"
      ],
      "metadata": {
        "id": "cFoAtbyTkFB4"
      },
      "execution_count": 300,
      "outputs": []
    },
    {
      "cell_type": "code",
      "source": [
        "data[\"Time_series\"] = np.where((data[\"Arrest_Year\"] == 2020) & (data[\"Arrest_Month\"] == \"Jan-Mar\"), 1, \n",
        "                               (np.where((data[\"Arrest_Year\"] == 2020) & (data[\"Arrest_Month\"] == \"Apr-June\"), 2, \n",
        "                                         (np.where((data[\"Arrest_Year\"] == 2020) & (data[\"Arrest_Month\"] == \"July-Sept\"), 3, \n",
        "                                                   (np.where((data[\"Arrest_Year\"] == 2020) & (data[\"Arrest_Month\"] == \"Oct-Dec\"), 4, \n",
        "                                                             (np.where((data[\"Arrest_Year\"] == 2021) & (data[\"Arrest_Month\"] == \"Jan-Mar\"), 5, \n",
        "                                                                       (np.where((data[\"Arrest_Year\"] == 2021) & (data[\"Arrest_Month\"] == \"Apr-June\"), 6, \n",
        "                                                                                 (np.where((data[\"Arrest_Year\"] == 2021) & (data[\"Arrest_Month\"] == \"July-Sept\"), 7, \n",
        "                                                                                           (np.where((data[\"Arrest_Year\"] == 2021) & (data[\"Arrest_Month\"] == \"Oct-Dec\"), 8, 0)))))))))))))))"
      ],
      "metadata": {
        "id": "9m2yhI4lrTBK"
      },
      "execution_count": 301,
      "outputs": []
    },
    {
      "cell_type": "code",
      "source": [
        "data[\"Race_White\"] = np.where(data[\"Perceived_Race\"] == \"White\", 1, 0)"
      ],
      "metadata": {
        "id": "zfUrPotyurLb"
      },
      "execution_count": 302,
      "outputs": []
    },
    {
      "cell_type": "code",
      "source": [
        "test_na_num(data)"
      ],
      "metadata": {
        "id": "ZC2Wh1mbXH7C",
        "outputId": "1d6fe639-a1f0-4fa3-c569-6f6506ed5844",
        "colab": {
          "base_uri": "https://localhost:8080/"
        }
      },
      "execution_count": 303,
      "outputs": [
        {
          "output_type": "stream",
          "name": "stdout",
          "text": [
            "0 Arrest_Year\n",
            "0 Arrest_Month\n",
            "0 PersonID\n",
            "0 Perceived_Race\n",
            "0 Sex\n",
            "0 Age_group__at_arrest_\n",
            "0 Youth_at_arrest__under_18_years\n",
            "0 StripSearch\n",
            "0 Booked\n",
            "0 Occurrence_Category\n",
            "0 Actions_at_arrest___Concealed_i\n",
            "0 Actions_at_arrest___Combative__\n",
            "0 Actions_at_arrest___Resisted__d\n",
            "0 Actions_at_arrest___Mental_inst\n",
            "0 Actions_at_arrest___Assaulted_o\n",
            "0 Actions_at_arrest___Cooperative\n",
            "57284 SearchReason_CauseInjury\n",
            "57284 SearchReason_AssistEscape\n",
            "57284 SearchReason_PossessWeapons\n",
            "57284 SearchReason_PossessEvidence\n",
            "57284 ItemsFound\n",
            "0 ObjectId\n",
            "0 Age_group_clean\n",
            "0 SearchReasonCount\n",
            "0 UncooperativeActionsCount\n",
            "0 Time_series\n",
            "0 Race_White\n"
          ]
        }
      ]
    },
    {
      "cell_type": "code",
      "source": [
        "data.head(5)"
      ],
      "metadata": {
        "id": "MNirJbOoXWGa",
        "outputId": "19ea436e-532b-47a5-f6cb-19a3c6ee35b9",
        "colab": {
          "base_uri": "https://localhost:8080/",
          "height": 317
        }
      },
      "execution_count": 304,
      "outputs": [
        {
          "output_type": "execute_result",
          "data": {
            "text/plain": [
              "   Arrest_Year Arrest_Month  PersonID     Perceived_Race Sex  \\\n",
              "0         2020    July-Sept    326622              White   M   \n",
              "1         2020    July-Sept    326622              White   M   \n",
              "2         2020      Oct-Dec    326622  Unknown or Legacy   M   \n",
              "3         2021      Jan-Mar    327535              Black   M   \n",
              "4         2021      Jan-Mar    327535        South Asian   M   \n",
              "\n",
              "  Age_group__at_arrest_ Youth_at_arrest__under_18_years  StripSearch  Booked  \\\n",
              "0   Aged 35 to 44 years                     Not a youth            0       1   \n",
              "1   Aged 35 to 44 years                     Not a youth            0       1   \n",
              "2   Aged 35 to 44 years                     Not a youth            0       1   \n",
              "3   Aged 25 to 34 years                     Not a youth            0       0   \n",
              "4   Aged 25 to 34 years                     Not a youth            0       1   \n",
              "\n",
              "  Occurrence_Category  ...  SearchReason_AssistEscape  \\\n",
              "0                   1  ...                        NaN   \n",
              "1                   1  ...                        NaN   \n",
              "2                   1  ...                        NaN   \n",
              "3                   7  ...                        NaN   \n",
              "4                   4  ...                        NaN   \n",
              "\n",
              "   SearchReason_PossessWeapons  SearchReason_PossessEvidence  ItemsFound  \\\n",
              "0                          NaN                           NaN         NaN   \n",
              "1                          NaN                           NaN         NaN   \n",
              "2                          NaN                           NaN         NaN   \n",
              "3                          NaN                           NaN         NaN   \n",
              "4                          NaN                           NaN         NaN   \n",
              "\n",
              "   ObjectId      Age_group_clean  SearchReasonCount  \\\n",
              "0         1  Aged 35 to 44 years                0.0   \n",
              "1         2  Aged 35 to 44 years                0.0   \n",
              "2         3  Aged 35 to 44 years                0.0   \n",
              "3         4  Aged 25 to 34 years                0.0   \n",
              "4         5  Aged 25 to 34 years                0.0   \n",
              "\n",
              "   UncooperativeActionsCount  Time_series  Race_White  \n",
              "0                          0            3           1  \n",
              "1                          0            3           1  \n",
              "2                          0            4           0  \n",
              "3                          0            5           0  \n",
              "4                          0            5           0  \n",
              "\n",
              "[5 rows x 27 columns]"
            ],
            "text/html": [
              "\n",
              "  <div id=\"df-f2a8ddfe-172f-4ef1-9680-17c201b08170\">\n",
              "    <div class=\"colab-df-container\">\n",
              "      <div>\n",
              "<style scoped>\n",
              "    .dataframe tbody tr th:only-of-type {\n",
              "        vertical-align: middle;\n",
              "    }\n",
              "\n",
              "    .dataframe tbody tr th {\n",
              "        vertical-align: top;\n",
              "    }\n",
              "\n",
              "    .dataframe thead th {\n",
              "        text-align: right;\n",
              "    }\n",
              "</style>\n",
              "<table border=\"1\" class=\"dataframe\">\n",
              "  <thead>\n",
              "    <tr style=\"text-align: right;\">\n",
              "      <th></th>\n",
              "      <th>Arrest_Year</th>\n",
              "      <th>Arrest_Month</th>\n",
              "      <th>PersonID</th>\n",
              "      <th>Perceived_Race</th>\n",
              "      <th>Sex</th>\n",
              "      <th>Age_group__at_arrest_</th>\n",
              "      <th>Youth_at_arrest__under_18_years</th>\n",
              "      <th>StripSearch</th>\n",
              "      <th>Booked</th>\n",
              "      <th>Occurrence_Category</th>\n",
              "      <th>...</th>\n",
              "      <th>SearchReason_AssistEscape</th>\n",
              "      <th>SearchReason_PossessWeapons</th>\n",
              "      <th>SearchReason_PossessEvidence</th>\n",
              "      <th>ItemsFound</th>\n",
              "      <th>ObjectId</th>\n",
              "      <th>Age_group_clean</th>\n",
              "      <th>SearchReasonCount</th>\n",
              "      <th>UncooperativeActionsCount</th>\n",
              "      <th>Time_series</th>\n",
              "      <th>Race_White</th>\n",
              "    </tr>\n",
              "  </thead>\n",
              "  <tbody>\n",
              "    <tr>\n",
              "      <th>0</th>\n",
              "      <td>2020</td>\n",
              "      <td>July-Sept</td>\n",
              "      <td>326622</td>\n",
              "      <td>White</td>\n",
              "      <td>M</td>\n",
              "      <td>Aged 35 to 44 years</td>\n",
              "      <td>Not a youth</td>\n",
              "      <td>0</td>\n",
              "      <td>1</td>\n",
              "      <td>1</td>\n",
              "      <td>...</td>\n",
              "      <td>NaN</td>\n",
              "      <td>NaN</td>\n",
              "      <td>NaN</td>\n",
              "      <td>NaN</td>\n",
              "      <td>1</td>\n",
              "      <td>Aged 35 to 44 years</td>\n",
              "      <td>0.0</td>\n",
              "      <td>0</td>\n",
              "      <td>3</td>\n",
              "      <td>1</td>\n",
              "    </tr>\n",
              "    <tr>\n",
              "      <th>1</th>\n",
              "      <td>2020</td>\n",
              "      <td>July-Sept</td>\n",
              "      <td>326622</td>\n",
              "      <td>White</td>\n",
              "      <td>M</td>\n",
              "      <td>Aged 35 to 44 years</td>\n",
              "      <td>Not a youth</td>\n",
              "      <td>0</td>\n",
              "      <td>1</td>\n",
              "      <td>1</td>\n",
              "      <td>...</td>\n",
              "      <td>NaN</td>\n",
              "      <td>NaN</td>\n",
              "      <td>NaN</td>\n",
              "      <td>NaN</td>\n",
              "      <td>2</td>\n",
              "      <td>Aged 35 to 44 years</td>\n",
              "      <td>0.0</td>\n",
              "      <td>0</td>\n",
              "      <td>3</td>\n",
              "      <td>1</td>\n",
              "    </tr>\n",
              "    <tr>\n",
              "      <th>2</th>\n",
              "      <td>2020</td>\n",
              "      <td>Oct-Dec</td>\n",
              "      <td>326622</td>\n",
              "      <td>Unknown or Legacy</td>\n",
              "      <td>M</td>\n",
              "      <td>Aged 35 to 44 years</td>\n",
              "      <td>Not a youth</td>\n",
              "      <td>0</td>\n",
              "      <td>1</td>\n",
              "      <td>1</td>\n",
              "      <td>...</td>\n",
              "      <td>NaN</td>\n",
              "      <td>NaN</td>\n",
              "      <td>NaN</td>\n",
              "      <td>NaN</td>\n",
              "      <td>3</td>\n",
              "      <td>Aged 35 to 44 years</td>\n",
              "      <td>0.0</td>\n",
              "      <td>0</td>\n",
              "      <td>4</td>\n",
              "      <td>0</td>\n",
              "    </tr>\n",
              "    <tr>\n",
              "      <th>3</th>\n",
              "      <td>2021</td>\n",
              "      <td>Jan-Mar</td>\n",
              "      <td>327535</td>\n",
              "      <td>Black</td>\n",
              "      <td>M</td>\n",
              "      <td>Aged 25 to 34 years</td>\n",
              "      <td>Not a youth</td>\n",
              "      <td>0</td>\n",
              "      <td>0</td>\n",
              "      <td>7</td>\n",
              "      <td>...</td>\n",
              "      <td>NaN</td>\n",
              "      <td>NaN</td>\n",
              "      <td>NaN</td>\n",
              "      <td>NaN</td>\n",
              "      <td>4</td>\n",
              "      <td>Aged 25 to 34 years</td>\n",
              "      <td>0.0</td>\n",
              "      <td>0</td>\n",
              "      <td>5</td>\n",
              "      <td>0</td>\n",
              "    </tr>\n",
              "    <tr>\n",
              "      <th>4</th>\n",
              "      <td>2021</td>\n",
              "      <td>Jan-Mar</td>\n",
              "      <td>327535</td>\n",
              "      <td>South Asian</td>\n",
              "      <td>M</td>\n",
              "      <td>Aged 25 to 34 years</td>\n",
              "      <td>Not a youth</td>\n",
              "      <td>0</td>\n",
              "      <td>1</td>\n",
              "      <td>4</td>\n",
              "      <td>...</td>\n",
              "      <td>NaN</td>\n",
              "      <td>NaN</td>\n",
              "      <td>NaN</td>\n",
              "      <td>NaN</td>\n",
              "      <td>5</td>\n",
              "      <td>Aged 25 to 34 years</td>\n",
              "      <td>0.0</td>\n",
              "      <td>0</td>\n",
              "      <td>5</td>\n",
              "      <td>0</td>\n",
              "    </tr>\n",
              "  </tbody>\n",
              "</table>\n",
              "<p>5 rows × 27 columns</p>\n",
              "</div>\n",
              "      <button class=\"colab-df-convert\" onclick=\"convertToInteractive('df-f2a8ddfe-172f-4ef1-9680-17c201b08170')\"\n",
              "              title=\"Convert this dataframe to an interactive table.\"\n",
              "              style=\"display:none;\">\n",
              "        \n",
              "  <svg xmlns=\"http://www.w3.org/2000/svg\" height=\"24px\"viewBox=\"0 0 24 24\"\n",
              "       width=\"24px\">\n",
              "    <path d=\"M0 0h24v24H0V0z\" fill=\"none\"/>\n",
              "    <path d=\"M18.56 5.44l.94 2.06.94-2.06 2.06-.94-2.06-.94-.94-2.06-.94 2.06-2.06.94zm-11 1L8.5 8.5l.94-2.06 2.06-.94-2.06-.94L8.5 2.5l-.94 2.06-2.06.94zm10 10l.94 2.06.94-2.06 2.06-.94-2.06-.94-.94-2.06-.94 2.06-2.06.94z\"/><path d=\"M17.41 7.96l-1.37-1.37c-.4-.4-.92-.59-1.43-.59-.52 0-1.04.2-1.43.59L10.3 9.45l-7.72 7.72c-.78.78-.78 2.05 0 2.83L4 21.41c.39.39.9.59 1.41.59.51 0 1.02-.2 1.41-.59l7.78-7.78 2.81-2.81c.8-.78.8-2.07 0-2.86zM5.41 20L4 18.59l7.72-7.72 1.47 1.35L5.41 20z\"/>\n",
              "  </svg>\n",
              "      </button>\n",
              "      \n",
              "  <style>\n",
              "    .colab-df-container {\n",
              "      display:flex;\n",
              "      flex-wrap:wrap;\n",
              "      gap: 12px;\n",
              "    }\n",
              "\n",
              "    .colab-df-convert {\n",
              "      background-color: #E8F0FE;\n",
              "      border: none;\n",
              "      border-radius: 50%;\n",
              "      cursor: pointer;\n",
              "      display: none;\n",
              "      fill: #1967D2;\n",
              "      height: 32px;\n",
              "      padding: 0 0 0 0;\n",
              "      width: 32px;\n",
              "    }\n",
              "\n",
              "    .colab-df-convert:hover {\n",
              "      background-color: #E2EBFA;\n",
              "      box-shadow: 0px 1px 2px rgba(60, 64, 67, 0.3), 0px 1px 3px 1px rgba(60, 64, 67, 0.15);\n",
              "      fill: #174EA6;\n",
              "    }\n",
              "\n",
              "    [theme=dark] .colab-df-convert {\n",
              "      background-color: #3B4455;\n",
              "      fill: #D2E3FC;\n",
              "    }\n",
              "\n",
              "    [theme=dark] .colab-df-convert:hover {\n",
              "      background-color: #434B5C;\n",
              "      box-shadow: 0px 1px 3px 1px rgba(0, 0, 0, 0.15);\n",
              "      filter: drop-shadow(0px 1px 2px rgba(0, 0, 0, 0.3));\n",
              "      fill: #FFFFFF;\n",
              "    }\n",
              "  </style>\n",
              "\n",
              "      <script>\n",
              "        const buttonEl =\n",
              "          document.querySelector('#df-f2a8ddfe-172f-4ef1-9680-17c201b08170 button.colab-df-convert');\n",
              "        buttonEl.style.display =\n",
              "          google.colab.kernel.accessAllowed ? 'block' : 'none';\n",
              "\n",
              "        async function convertToInteractive(key) {\n",
              "          const element = document.querySelector('#df-f2a8ddfe-172f-4ef1-9680-17c201b08170');\n",
              "          const dataTable =\n",
              "            await google.colab.kernel.invokeFunction('convertToInteractive',\n",
              "                                                     [key], {});\n",
              "          if (!dataTable) return;\n",
              "\n",
              "          const docLinkHtml = 'Like what you see? Visit the ' +\n",
              "            '<a target=\"_blank\" href=https://colab.research.google.com/notebooks/data_table.ipynb>data table notebook</a>'\n",
              "            + ' to learn more about interactive tables.';\n",
              "          element.innerHTML = '';\n",
              "          dataTable['output_type'] = 'display_data';\n",
              "          await google.colab.output.renderOutput(dataTable, element);\n",
              "          const docLink = document.createElement('div');\n",
              "          docLink.innerHTML = docLinkHtml;\n",
              "          element.appendChild(docLink);\n",
              "        }\n",
              "      </script>\n",
              "    </div>\n",
              "  </div>\n",
              "  "
            ]
          },
          "metadata": {},
          "execution_count": 304
        }
      ]
    },
    {
      "cell_type": "code",
      "source": [
        "data = data.drop([\"PersonID\", \"Age_group__at_arrest_\", \"Booked\", \"ObjectId\"], axis = 1)"
      ],
      "metadata": {
        "id": "rc-Ae9g7s05x"
      },
      "execution_count": 305,
      "outputs": []
    },
    {
      "cell_type": "markdown",
      "source": [
        "# EDA"
      ],
      "metadata": {
        "id": "_XHRqdE6qSNk"
      }
    },
    {
      "cell_type": "markdown",
      "source": [
        "## Visualizations"
      ],
      "metadata": {
        "id": "oNI5tVu7qVR7"
      }
    },
    {
      "cell_type": "code",
      "source": [
        "import matplotlib.pyplot as plt"
      ],
      "metadata": {
        "id": "9dcxffY54Adp"
      },
      "execution_count": 306,
      "outputs": []
    },
    {
      "cell_type": "code",
      "source": [
        "StripSearch_1_data = data[data[\"StripSearch\"] == 1]"
      ],
      "metadata": {
        "id": "hafqrlC29RuK"
      },
      "execution_count": 307,
      "outputs": []
    },
    {
      "cell_type": "code",
      "source": [
        "data[\"Age_group_clean\"].value_counts().sort_index(ascending = True)"
      ],
      "metadata": {
        "id": "G5tG5Qa0WQcN",
        "outputId": "24f9ea84-0bd2-4d83-9ca0-2cdb3e71f983",
        "colab": {
          "base_uri": "https://localhost:8080/"
        }
      },
      "execution_count": 308,
      "outputs": [
        {
          "output_type": "execute_result",
          "data": {
            "text/plain": [
              "Aged 17 years and under     3012\n",
              "Aged 18 to 24 years         9934\n",
              "Aged 25 to 34 years        20725\n",
              "Aged 35 to 44 years        16072\n",
              "Aged 45 to 54 years         9003\n",
              "Aged 55 to 64 years         4553\n",
              "Aged 65 years and older     1316\n",
              "Name: Age_group_clean, dtype: int64"
            ]
          },
          "metadata": {},
          "execution_count": 308
        }
      ]
    },
    {
      "cell_type": "code",
      "source": [
        "plt.figure(figsize=(12,9))\n",
        "\n",
        "colours = {\"Everyone\": \"pink\", \"Strip Searched\": \"lightgreen\"}\n",
        "labels = list(colours.keys())\n",
        "handles = [plt.Rectangle((0, 0), 1, 1, color = colours[label]) for label in labels]\n",
        "\n",
        "plt.subplot(1, 3, 1) # strip searches by perceived race\n",
        "races = data[\"Perceived_Race\"].value_counts().index.tolist()\n",
        "legacy = races.pop(2)\n",
        "races.append(legacy)\n",
        "\n",
        "race_counts = data[\"Perceived_Race\"].value_counts().values.tolist()\n",
        "legacy = race_counts.pop(2)\n",
        "race_counts.append(legacy)\n",
        "\n",
        "stripsearch_race_counts = StripSearch_1_data[\"Perceived_Race\"].value_counts().values.tolist()\n",
        "legacy = stripsearch_race_counts.pop(2)\n",
        "stripsearch_race_counts.append(legacy)\n",
        "\n",
        "plt.bar(races, race_counts, bottom = stripsearch_race_counts, color = \"pink\")\n",
        "plt.bar(races, stripsearch_race_counts, color = \"lightgreen\")\n",
        "plt.xticks(rotation = 90)\n",
        "plt.yticks(np.arange(0, 50000, 5000))\n",
        "plt.legend(handles, labels)\n",
        "\n",
        "plt.subplot(1, 3, 2) # strip searches by sex\n",
        "sexes = data[\"Sex\"].value_counts().index.tolist()\n",
        "sex_counts = data[\"Sex\"].value_counts().values.tolist()\n",
        "\n",
        "stripsearch_sex_counts = StripSearch_1_data[\"Sex\"].value_counts().values.tolist()\n",
        "stripsearch_sex_counts.append(0)\n",
        "\n",
        "plt.bar(sexes, sex_counts, bottom = stripsearch_sex_counts, color = \"pink\")\n",
        "plt.bar(sexes, stripsearch_sex_counts, color = \"lightgreen\")\n",
        "plt.yticks(np.arange(0, 50000, 5000))\n",
        "plt.legend(handles, labels)\n",
        "\n",
        "plt.subplot(1, 3, 3) # strip searches by age\n",
        "ages = data[\"Age_group_clean\"].value_counts().index.tolist()\n",
        "reordered_1 = ages.pop(ages.index(\"Aged 17 years and under\"))\n",
        "reordered_2 = ages.pop(ages.index(\"Aged 18 to 24 years\"))\n",
        "ages.insert(0, reordered_1)\n",
        "ages.insert(1, reordered_2)\n",
        "\n",
        "age_counts = data[\"Age_group_clean\"].value_counts().sort_index(ascending = True).values.tolist()\n",
        "\n",
        "stripsearch_age_counts = StripSearch_1_data[\"Age_group_clean\"].value_counts().sort_index(ascending = True).values.tolist()\n",
        "\n",
        "plt.bar(ages, age_counts, bottom = stripsearch_age_counts, color = \"pink\")\n",
        "plt.bar(ages, stripsearch_age_counts, color = \"lightgreen\")\n",
        "plt.xticks(rotation = 90)\n",
        "plt.yticks(np.arange(0, 50000, 5000))\n",
        "plt.legend(handles, labels)"
      ],
      "metadata": {
        "id": "BUpqQ3K_vBYL",
        "outputId": "4dc9e0f3-ac57-493d-96f0-414bcde627a0",
        "colab": {
          "base_uri": "https://localhost:8080/",
          "height": 939
        }
      },
      "execution_count": 309,
      "outputs": [
        {
          "output_type": "execute_result",
          "data": {
            "text/plain": [
              "<matplotlib.legend.Legend at 0x7f13734ece50>"
            ]
          },
          "metadata": {},
          "execution_count": 309
        },
        {
          "output_type": "display_data",
          "data": {
            "text/plain": [
              "<Figure size 1200x900 with 3 Axes>"
            ],
            "image/png": "[encoded data removed]"
          },
          "metadata": {}
        }
      ]
    },
    {
      "cell_type": "code",
      "source": [
        "StripSearch_1_data.groupby([\"Time_series\"])[\"StripSearch\"].value_counts()\n",
        "StripSearch_1_data.groupby([\"Time_series\"])[\"StripSearch\"].value_counts().sort_index(ascending = True).plot(color = \"pink\")\n",
        "plt.title(\"Strip Searches Booked by Toronto Police Service From January 2020 - December 2021\")\n",
        "axes = plt.gca()\n",
        "axes.set_xticks(ticks = [0, 1, 2, 3, 4, 5, 6, 7])\n",
        "axes.set_xticklabels([\"Q1 2020\", \"Q2 2020\", \"Q3 2020\", \"Q4 2020\", \"Q1 2021\", \"Q2 2021\", \"Q3 2021\", \"Q4 2021\"])\n",
        "plt.xticks(rotation = 60)\n",
        "plt.xlabel(\"Quarter, Year\")\n",
        "plt.ylabel(\"Number of Strip Searches Booked\")"
      ],
      "metadata": {
        "id": "mSUssSHvXdWb",
        "outputId": "29eff266-ada9-473f-b6cc-b6de8ecec391",
        "colab": {
          "base_uri": "https://localhost:8080/",
          "height": 534
        }
      },
      "execution_count": 310,
      "outputs": [
        {
          "output_type": "execute_result",
          "data": {
            "text/plain": [
              "Text(0, 0.5, 'Number of Strip Searches Booked')"
            ]
          },
          "metadata": {},
          "execution_count": 310
        },
        {
          "output_type": "display_data",
          "data": {
            "text/plain": [
              "<Figure size 640x480 with 1 Axes>"
            ],
            "image/png": "[encoded data removed]"
          },
          "metadata": {}
        }
      ]
    },
    {
      "cell_type": "code",
      "source": [
        "StripSearch_1_2020_data = data[(data[\"Arrest_Year\"] == 2020) & (data[\"StripSearch\"] == 1)]\n",
        "StripSearch_1_2021_data = data[(data[\"Arrest_Year\"] == 2021) & (data[\"StripSearch\"] == 1)]\n",
        "\n",
        "plt1 = StripSearch_1_2020_data.groupby([\"Time_series\"])[\"StripSearch\"].value_counts().sort_index(ascending = True).plot(color = \"pink\")\n",
        "plt2 = StripSearch_1_2021_data.groupby([\"Time_series\"])[\"StripSearch\"].value_counts().sort_index(ascending = True).plot(color = \"lightgreen\")\n",
        "plt_axes = plt.gca()\n",
        "plt_axes.set_xticks([0, 1, 2, 3])\n",
        "plt_axes.set_xticklabels([\"Q1\", \"Q2\", \"Q3\", \"Q4\"])\n",
        "\n",
        "colours = {\"2020\": \"pink\", \"2021\": \"lightgreen\"}\n",
        "labels = list(colours.keys())\n",
        "handles = [plt.Rectangle((0, 0), 1, 1, color = colours[label]) for label in labels]\n",
        "plt.legend(handles, labels)\n",
        "\n",
        "plt.title(\"Comparison of Strip Searches Booked in 2020 vs. 2021 by Toronto Police\")\n",
        "plt.xlabel(\"Quarter\")\n",
        "plt.ylabel(\"Number of Strip Searches Booked\")"
      ],
      "metadata": {
        "id": "kCMZWeNsXuYy",
        "outputId": "bf5e248e-49a4-4a22-8baa-f6104cb3808c",
        "colab": {
          "base_uri": "https://localhost:8080/",
          "height": 490
        }
      },
      "execution_count": 311,
      "outputs": [
        {
          "output_type": "execute_result",
          "data": {
            "text/plain": [
              "Text(0, 0.5, 'Number of Strip Searches Booked')"
            ]
          },
          "metadata": {},
          "execution_count": 311
        },
        {
          "output_type": "display_data",
          "data": {
            "text/plain": [
              "<Figure size 640x480 with 1 Axes>"
            ],
            "image/png": "[encoded data removed]"
          },
          "metadata": {}
        }
      ]
    },
    {
      "cell_type": "markdown",
      "source": [
        "## t-tests"
      ],
      "metadata": {
        "id": "8iTsZt7eqWjl"
      }
    },
    {
      "cell_type": "code",
      "source": [],
      "metadata": {
        "id": "kpoHoXdzvCDx"
      },
      "execution_count": 311,
      "outputs": []
    },
    {
      "cell_type": "markdown",
      "source": [
        "# Feature Engineering"
      ],
      "metadata": {
        "id": "YAkx10zYjv6h"
      }
    },
    {
      "cell_type": "markdown",
      "source": [
        "## Numerical representation"
      ],
      "metadata": {
        "id": "J5xm3d_aqmtM"
      }
    },
    {
      "cell_type": "code",
      "source": [
        "race_dict = {\"White\": 0,\n",
        "             \"Unknown or Legacy\": 1,\n",
        "             \"Black\":2,\n",
        "             \"South Asian\":3,\n",
        "             \"Indigenous\":4,\n",
        "             \"Middle-Eastern\":5, \n",
        "             \"Latino\": 6,\n",
        "             \"East/Southeast Asian\":7}\n",
        "\n",
        "data['Perceived_Race'] = data['Perceived_Race'].replace(race_dict)"
      ],
      "metadata": {
        "id": "w2LqcRLzqmWq"
      },
      "execution_count": 312,
      "outputs": []
    },
    {
      "cell_type": "code",
      "source": [
        "sex_dict= {'M':0,'F':1,'U':2}\n",
        "\n",
        "data['Sex'] = data['Sex'].replace(sex_dict)"
      ],
      "metadata": {
        "id": "2w4GhRqQud0a"
      },
      "execution_count": 313,
      "outputs": []
    },
    {
      "cell_type": "code",
      "source": [
        "age_dict={'Aged 17 years and under': 0,\n",
        "          'Aged 18 to 24 years': 1,\n",
        "          'Aged 25 to 34 years': 2,\n",
        "          'Aged 35 to 44 years': 3,\n",
        "          'Aged 45 to 54 years': 4,\n",
        "          'Aged 55 to 64 years': 5,\n",
        "          'Aged 65 years and older': 6,\n",
        "          }\n",
        "\n",
        "data['Age_group_clean'] = data['Age_group_clean'].replace(age_dict)"
      ],
      "metadata": {
        "id": "PEYKmk8iuhpG"
      },
      "execution_count": 314,
      "outputs": []
    },
    {
      "cell_type": "code",
      "source": [
        "youth_dict={'Youth (aged 17 and younger)': 0,\n",
        "            'Youth (aged 17 years and under)': 0, \n",
        "            'Not a youth': 1}\n",
        "\n",
        "data['Youth_at_arrest__under_18_years'] = data['Youth_at_arrest__under_18_years'].replace(youth_dict)"
      ],
      "metadata": {
        "id": "w2UHfejAuzFF"
      },
      "execution_count": 315,
      "outputs": []
    },
    {
      "cell_type": "code",
      "source": [
        "data = data.dropna()"
      ],
      "metadata": {
        "id": "cfDUCr-pu6JL"
      },
      "execution_count": 316,
      "outputs": []
    },
    {
      "cell_type": "markdown",
      "source": [
        "## One-hot encoding"
      ],
      "metadata": {
        "id": "GOeS1yZZqqRL"
      }
    },
    {
      "cell_type": "code",
      "source": [
        "categorical = data.columns.tolist()\n",
        "categorical.pop(categorical.index(\"Youth_at_arrest__under_18_years\"))\n",
        "categorical.pop(categorical.index(\"StripSearch\"))\n",
        "categorical.pop(categorical.index(\"Actions_at_arrest___Concealed_i\"))\n",
        "categorical.pop(categorical.index(\"Actions_at_arrest___Combative__\"))\n",
        "categorical.pop(categorical.index(\"Actions_at_arrest___Resisted__d\"))\n",
        "categorical.pop(categorical.index(\"Actions_at_arrest___Mental_inst\"))\n",
        "categorical.pop(categorical.index(\"Actions_at_arrest___Assaulted_o\"))\n",
        "categorical.pop(categorical.index(\"Actions_at_arrest___Cooperative\"))\n",
        "categorical.pop(categorical.index(\"SearchReason_CauseInjury\"))\n",
        "categorical.pop(categorical.index(\"SearchReason_AssistEscape\"))\n",
        "categorical.pop(categorical.index(\"SearchReason_PossessWeapons\"))\n",
        "categorical.pop(categorical.index(\"SearchReason_PossessEvidence\"))\n",
        "categorical.pop(categorical.index(\"ItemsFound\"))\n",
        "categorical.pop(categorical.index(\"SearchReasonCount\"))\n",
        "categorical.pop(categorical.index(\"UncooperativeActionsCount\"))\n",
        "categorical.pop(categorical.index(\"Race_White\"))\n",
        "\n",
        "onehot_data = pd.DataFrame()\n",
        "\n",
        "for feature in categorical: \n",
        "  onehot_feature = pd.get_dummies(data[feature])\n",
        "  onehot_data = pd.concat([onehot_data, onehot_feature], axis = 1)"
      ],
      "metadata": {
        "id": "i9vjm62TqtDE",
        "outputId": "27c4a7b9-4224-4437-f2bc-92b44f4de902",
        "colab": {
          "base_uri": "https://localhost:8080/"
        }
      },
      "execution_count": 317,
      "outputs": [
        {
          "output_type": "stream",
          "name": "stderr",
          "text": [
            "/usr/local/lib/python3.9/dist-packages/pandas/core/algorithms.py:798: FutureWarning: In a future version, the Index constructor will not infer numeric dtypes when passed object-dtype sequences (matching Series behavior)\n",
            "  uniques = Index(uniques)\n"
          ]
        }
      ]
    },
    {
      "cell_type": "code",
      "source": [
        "categorical"
      ],
      "metadata": {
        "id": "sKLnY0osywBO",
        "outputId": "5d47128c-bc0c-49c4-ac27-f016be9d1569",
        "colab": {
          "base_uri": "https://localhost:8080/"
        }
      },
      "execution_count": 318,
      "outputs": [
        {
          "output_type": "execute_result",
          "data": {
            "text/plain": [
              "['Arrest_Year',\n",
              " 'Arrest_Month',\n",
              " 'Perceived_Race',\n",
              " 'Sex',\n",
              " 'Occurrence_Category',\n",
              " 'Age_group_clean',\n",
              " 'Time_series']"
            ]
          },
          "metadata": {},
          "execution_count": 318
        }
      ]
    },
    {
      "cell_type": "code",
      "source": [
        "onehot_data.head(5) # onehot encoding was successful"
      ],
      "metadata": {
        "id": "D4GbRTHpxkAp",
        "outputId": "0a8f9e10-c06c-419c-fd7c-6853de57c446",
        "colab": {
          "base_uri": "https://localhost:8080/",
          "height": 236
        }
      },
      "execution_count": 319,
      "outputs": [
        {
          "output_type": "execute_result",
          "data": {
            "text/plain": [
              "    2020  2021  Apr-June  Jan-Mar  July-Sept  Oct-Dec  0  1  2  3  ...  5  6  \\\n",
              "12     0     1         1        0          0        0  0  0  1  0  ...  0  0   \n",
              "14     1     0         1        0          0        0  0  0  1  0  ...  0  0   \n",
              "33     0     1         0        1          0        0  1  0  0  0  ...  0  0   \n",
              "38     1     0         1        0          0        0  0  0  0  0  ...  0  0   \n",
              "42     1     0         0        0          1        0  0  0  0  1  ...  0  0   \n",
              "\n",
              "    1  2  3  4  5  6  7  8  \n",
              "12  0  0  0  0  0  1  0  0  \n",
              "14  0  1  0  0  0  0  0  0  \n",
              "33  0  0  0  0  1  0  0  0  \n",
              "38  0  1  0  0  0  0  0  0  \n",
              "42  0  0  1  0  0  0  0  0  \n",
              "\n",
              "[5 rows x 39 columns]"
            ],
            "text/html": [
              "\n",
              "  <div id=\"df-0047b2bd-1fdb-4ff1-8746-d1396003b687\">\n",
              "    <div class=\"colab-df-container\">\n",
              "      <div>\n",
              "<style scoped>\n",
              "    .dataframe tbody tr th:only-of-type {\n",
              "        vertical-align: middle;\n",
              "    }\n",
              "\n",
              "    .dataframe tbody tr th {\n",
              "        vertical-align: top;\n",
              "    }\n",
              "\n",
              "    .dataframe thead th {\n",
              "        text-align: right;\n",
              "    }\n",
              "</style>\n",
              "<table border=\"1\" class=\"dataframe\">\n",
              "  <thead>\n",
              "    <tr style=\"text-align: right;\">\n",
              "      <th></th>\n",
              "      <th>2020</th>\n",
              "      <th>2021</th>\n",
              "      <th>Apr-June</th>\n",
              "      <th>Jan-Mar</th>\n",
              "      <th>July-Sept</th>\n",
              "      <th>Oct-Dec</th>\n",
              "      <th>0</th>\n",
              "      <th>1</th>\n",
              "      <th>2</th>\n",
              "      <th>3</th>\n",
              "      <th>...</th>\n",
              "      <th>5</th>\n",
              "      <th>6</th>\n",
              "      <th>1</th>\n",
              "      <th>2</th>\n",
              "      <th>3</th>\n",
              "      <th>4</th>\n",
              "      <th>5</th>\n",
              "      <th>6</th>\n",
              "      <th>7</th>\n",
              "      <th>8</th>\n",
              "    </tr>\n",
              "  </thead>\n",
              "  <tbody>\n",
              "    <tr>\n",
              "      <th>12</th>\n",
              "      <td>0</td>\n",
              "      <td>1</td>\n",
              "      <td>1</td>\n",
              "      <td>0</td>\n",
              "      <td>0</td>\n",
              "      <td>0</td>\n",
              "      <td>0</td>\n",
              "      <td>0</td>\n",
              "      <td>1</td>\n",
              "      <td>0</td>\n",
              "      <td>...</td>\n",
              "      <td>0</td>\n",
              "      <td>0</td>\n",
              "      <td>0</td>\n",
              "      <td>0</td>\n",
              "      <td>0</td>\n",
              "      <td>0</td>\n",
              "      <td>0</td>\n",
              "      <td>1</td>\n",
              "      <td>0</td>\n",
              "      <td>0</td>\n",
              "    </tr>\n",
              "    <tr>\n",
              "      <th>14</th>\n",
              "      <td>1</td>\n",
              "      <td>0</td>\n",
              "      <td>1</td>\n",
              "      <td>0</td>\n",
              "      <td>0</td>\n",
              "      <td>0</td>\n",
              "      <td>0</td>\n",
              "      <td>0</td>\n",
              "      <td>1</td>\n",
              "      <td>0</td>\n",
              "      <td>...</td>\n",
              "      <td>0</td>\n",
              "      <td>0</td>\n",
              "      <td>0</td>\n",
              "      <td>1</td>\n",
              "      <td>0</td>\n",
              "      <td>0</td>\n",
              "      <td>0</td>\n",
              "      <td>0</td>\n",
              "      <td>0</td>\n",
              "      <td>0</td>\n",
              "    </tr>\n",
              "    <tr>\n",
              "      <th>33</th>\n",
              "      <td>0</td>\n",
              "      <td>1</td>\n",
              "      <td>0</td>\n",
              "      <td>1</td>\n",
              "      <td>0</td>\n",
              "      <td>0</td>\n",
              "      <td>1</td>\n",
              "      <td>0</td>\n",
              "      <td>0</td>\n",
              "      <td>0</td>\n",
              "      <td>...</td>\n",
              "      <td>0</td>\n",
              "      <td>0</td>\n",
              "      <td>0</td>\n",
              "      <td>0</td>\n",
              "      <td>0</td>\n",
              "      <td>0</td>\n",
              "      <td>1</td>\n",
              "      <td>0</td>\n",
              "      <td>0</td>\n",
              "      <td>0</td>\n",
              "    </tr>\n",
              "    <tr>\n",
              "      <th>38</th>\n",
              "      <td>1</td>\n",
              "      <td>0</td>\n",
              "      <td>1</td>\n",
              "      <td>0</td>\n",
              "      <td>0</td>\n",
              "      <td>0</td>\n",
              "      <td>0</td>\n",
              "      <td>0</td>\n",
              "      <td>0</td>\n",
              "      <td>0</td>\n",
              "      <td>...</td>\n",
              "      <td>0</td>\n",
              "      <td>0</td>\n",
              "      <td>0</td>\n",
              "      <td>1</td>\n",
              "      <td>0</td>\n",
              "      <td>0</td>\n",
              "      <td>0</td>\n",
              "      <td>0</td>\n",
              "      <td>0</td>\n",
              "      <td>0</td>\n",
              "    </tr>\n",
              "    <tr>\n",
              "      <th>42</th>\n",
              "      <td>1</td>\n",
              "      <td>0</td>\n",
              "      <td>0</td>\n",
              "      <td>0</td>\n",
              "      <td>1</td>\n",
              "      <td>0</td>\n",
              "      <td>0</td>\n",
              "      <td>0</td>\n",
              "      <td>0</td>\n",
              "      <td>1</td>\n",
              "      <td>...</td>\n",
              "      <td>0</td>\n",
              "      <td>0</td>\n",
              "      <td>0</td>\n",
              "      <td>0</td>\n",
              "      <td>1</td>\n",
              "      <td>0</td>\n",
              "      <td>0</td>\n",
              "      <td>0</td>\n",
              "      <td>0</td>\n",
              "      <td>0</td>\n",
              "    </tr>\n",
              "  </tbody>\n",
              "</table>\n",
              "<p>5 rows × 39 columns</p>\n",
              "</div>\n",
              "      <button class=\"colab-df-convert\" onclick=\"convertToInteractive('df-0047b2bd-1fdb-4ff1-8746-d1396003b687')\"\n",
              "              title=\"Convert this dataframe to an interactive table.\"\n",
              "              style=\"display:none;\">\n",
              "        \n",
              "  <svg xmlns=\"http://www.w3.org/2000/svg\" height=\"24px\"viewBox=\"0 0 24 24\"\n",
              "       width=\"24px\">\n",
              "    <path d=\"M0 0h24v24H0V0z\" fill=\"none\"/>\n",
              "    <path d=\"M18.56 5.44l.94 2.06.94-2.06 2.06-.94-2.06-.94-.94-2.06-.94 2.06-2.06.94zm-11 1L8.5 8.5l.94-2.06 2.06-.94-2.06-.94L8.5 2.5l-.94 2.06-2.06.94zm10 10l.94 2.06.94-2.06 2.06-.94-2.06-.94-.94-2.06-.94 2.06-2.06.94z\"/><path d=\"M17.41 7.96l-1.37-1.37c-.4-.4-.92-.59-1.43-.59-.52 0-1.04.2-1.43.59L10.3 9.45l-7.72 7.72c-.78.78-.78 2.05 0 2.83L4 21.41c.39.39.9.59 1.41.59.51 0 1.02-.2 1.41-.59l7.78-7.78 2.81-2.81c.8-.78.8-2.07 0-2.86zM5.41 20L4 18.59l7.72-7.72 1.47 1.35L5.41 20z\"/>\n",
              "  </svg>\n",
              "      </button>\n",
              "      \n",
              "  <style>\n",
              "    .colab-df-container {\n",
              "      display:flex;\n",
              "      flex-wrap:wrap;\n",
              "      gap: 12px;\n",
              "    }\n",
              "\n",
              "    .colab-df-convert {\n",
              "      background-color: #E8F0FE;\n",
              "      border: none;\n",
              "      border-radius: 50%;\n",
              "      cursor: pointer;\n",
              "      display: none;\n",
              "      fill: #1967D2;\n",
              "      height: 32px;\n",
              "      padding: 0 0 0 0;\n",
              "      width: 32px;\n",
              "    }\n",
              "\n",
              "    .colab-df-convert:hover {\n",
              "      background-color: #E2EBFA;\n",
              "      box-shadow: 0px 1px 2px rgba(60, 64, 67, 0.3), 0px 1px 3px 1px rgba(60, 64, 67, 0.15);\n",
              "      fill: #174EA6;\n",
              "    }\n",
              "\n",
              "    [theme=dark] .colab-df-convert {\n",
              "      background-color: #3B4455;\n",
              "      fill: #D2E3FC;\n",
              "    }\n",
              "\n",
              "    [theme=dark] .colab-df-convert:hover {\n",
              "      background-color: #434B5C;\n",
              "      box-shadow: 0px 1px 3px 1px rgba(0, 0, 0, 0.15);\n",
              "      filter: drop-shadow(0px 1px 2px rgba(0, 0, 0, 0.3));\n",
              "      fill: #FFFFFF;\n",
              "    }\n",
              "  </style>\n",
              "\n",
              "      <script>\n",
              "        const buttonEl =\n",
              "          document.querySelector('#df-0047b2bd-1fdb-4ff1-8746-d1396003b687 button.colab-df-convert');\n",
              "        buttonEl.style.display =\n",
              "          google.colab.kernel.accessAllowed ? 'block' : 'none';\n",
              "\n",
              "        async function convertToInteractive(key) {\n",
              "          const element = document.querySelector('#df-0047b2bd-1fdb-4ff1-8746-d1396003b687');\n",
              "          const dataTable =\n",
              "            await google.colab.kernel.invokeFunction('convertToInteractive',\n",
              "                                                     [key], {});\n",
              "          if (!dataTable) return;\n",
              "\n",
              "          const docLinkHtml = 'Like what you see? Visit the ' +\n",
              "            '<a target=\"_blank\" href=https://colab.research.google.com/notebooks/data_table.ipynb>data table notebook</a>'\n",
              "            + ' to learn more about interactive tables.';\n",
              "          element.innerHTML = '';\n",
              "          dataTable['output_type'] = 'display_data';\n",
              "          await google.colab.output.renderOutput(dataTable, element);\n",
              "          const docLink = document.createElement('div');\n",
              "          docLink.innerHTML = docLinkHtml;\n",
              "          element.appendChild(docLink);\n",
              "        }\n",
              "      </script>\n",
              "    </div>\n",
              "  </div>\n",
              "  "
            ]
          },
          "metadata": {},
          "execution_count": 319
        }
      ]
    },
    {
      "cell_type": "markdown",
      "source": [
        "# Power Analysis"
      ],
      "metadata": {
        "id": "c6_jKruqqkUG"
      }
    },
    {
      "cell_type": "markdown",
      "source": [
        "Calculating sample sizes needed to observe a statistically significant effect at Cohen's d = {0.2, 0.5, 0.8}. "
      ],
      "metadata": {
        "id": "h3iFItzm36DZ"
      }
    },
    {
      "cell_type": "code",
      "source": [
        "import scipy.stats\n",
        "import statsmodels.stats.power as smp\n",
        "import matplotlib.pyplot as plt\n",
        "\n",
        "power_analysis = smp.TTestIndPower()\n",
        "sample_size_small_es = power_analysis.solve_power(effect_size=0.2, power=0.8, alpha=0.05)\n",
        "sample_size_med_es = power_analysis.solve_power(effect_size=0.5, power=0.8, alpha=0.05)\n",
        "sample_size_large_es = power_analysis.solve_power(effect_size=0.8, power=0.8, alpha=0.05)\n",
        "\n",
        "sample_sizes = [[\"For small effect size (d = 0.2)\", \"For medium effect size (d = 0.5)\", \"For large effect size (d = 0.8)\"], \n",
        "                [sample_size_small_es, sample_size_med_es, sample_size_large_es]]\n",
        "\n",
        "sample_sizes_df = pd.DataFrame(sample_sizes[1:], columns = sample_sizes[0])\n",
        "sample_sizes_df"
      ],
      "metadata": {
        "id": "MOSSo_14rN5s",
        "outputId": "985b1059-5774-4548-fce6-eedd4090a24e",
        "colab": {
          "base_uri": "https://localhost:8080/",
          "height": 152
        }
      },
      "execution_count": 326,
      "outputs": [
        {
          "output_type": "stream",
          "name": "stderr",
          "text": [
            "/usr/local/lib/python3.9/dist-packages/scipy/stats/_continuous_distns.py:6832: RuntimeWarning: invalid value encountered in _nct_sf\n",
            "  return np.clip(_boost._nct_sf(x, df, nc), 0, 1)\n",
            "/usr/local/lib/python3.9/dist-packages/scipy/stats/_continuous_distns.py:6826: RuntimeWarning: invalid value encountered in _nct_cdf\n",
            "  return np.clip(_boost._nct_cdf(x, df, nc), 0, 1)\n"
          ]
        },
        {
          "output_type": "execute_result",
          "data": {
            "text/plain": [
              "   For small effect size (d = 0.2)  For medium effect size (d = 0.5)  \\\n",
              "0                       393.405693                         63.765611   \n",
              "\n",
              "   For large effect size (d = 0.8)  \n",
              "0                        25.524572  "
            ],
            "text/html": [
              "\n",
              "  <div id=\"df-7e76998f-2dc7-4f3d-b619-921603b146b3\">\n",
              "    <div class=\"colab-df-container\">\n",
              "      <div>\n",
              "<style scoped>\n",
              "    .dataframe tbody tr th:only-of-type {\n",
              "        vertical-align: middle;\n",
              "    }\n",
              "\n",
              "    .dataframe tbody tr th {\n",
              "        vertical-align: top;\n",
              "    }\n",
              "\n",
              "    .dataframe thead th {\n",
              "        text-align: right;\n",
              "    }\n",
              "</style>\n",
              "<table border=\"1\" class=\"dataframe\">\n",
              "  <thead>\n",
              "    <tr style=\"text-align: right;\">\n",
              "      <th></th>\n",
              "      <th>For small effect size (d = 0.2)</th>\n",
              "      <th>For medium effect size (d = 0.5)</th>\n",
              "      <th>For large effect size (d = 0.8)</th>\n",
              "    </tr>\n",
              "  </thead>\n",
              "  <tbody>\n",
              "    <tr>\n",
              "      <th>0</th>\n",
              "      <td>393.405693</td>\n",
              "      <td>63.765611</td>\n",
              "      <td>25.524572</td>\n",
              "    </tr>\n",
              "  </tbody>\n",
              "</table>\n",
              "</div>\n",
              "      <button class=\"colab-df-convert\" onclick=\"convertToInteractive('df-7e76998f-2dc7-4f3d-b619-921603b146b3')\"\n",
              "              title=\"Convert this dataframe to an interactive table.\"\n",
              "              style=\"display:none;\">\n",
              "        \n",
              "  <svg xmlns=\"http://www.w3.org/2000/svg\" height=\"24px\"viewBox=\"0 0 24 24\"\n",
              "       width=\"24px\">\n",
              "    <path d=\"M0 0h24v24H0V0z\" fill=\"none\"/>\n",
              "    <path d=\"M18.56 5.44l.94 2.06.94-2.06 2.06-.94-2.06-.94-.94-2.06-.94 2.06-2.06.94zm-11 1L8.5 8.5l.94-2.06 2.06-.94-2.06-.94L8.5 2.5l-.94 2.06-2.06.94zm10 10l.94 2.06.94-2.06 2.06-.94-2.06-.94-.94-2.06-.94 2.06-2.06.94z\"/><path d=\"M17.41 7.96l-1.37-1.37c-.4-.4-.92-.59-1.43-.59-.52 0-1.04.2-1.43.59L10.3 9.45l-7.72 7.72c-.78.78-.78 2.05 0 2.83L4 21.41c.39.39.9.59 1.41.59.51 0 1.02-.2 1.41-.59l7.78-7.78 2.81-2.81c.8-.78.8-2.07 0-2.86zM5.41 20L4 18.59l7.72-7.72 1.47 1.35L5.41 20z\"/>\n",
              "  </svg>\n",
              "      </button>\n",
              "      \n",
              "  <style>\n",
              "    .colab-df-container {\n",
              "      display:flex;\n",
              "      flex-wrap:wrap;\n",
              "      gap: 12px;\n",
              "    }\n",
              "\n",
              "    .colab-df-convert {\n",
              "      background-color: #E8F0FE;\n",
              "      border: none;\n",
              "      border-radius: 50%;\n",
              "      cursor: pointer;\n",
              "      display: none;\n",
              "      fill: #1967D2;\n",
              "      height: 32px;\n",
              "      padding: 0 0 0 0;\n",
              "      width: 32px;\n",
              "    }\n",
              "\n",
              "    .colab-df-convert:hover {\n",
              "      background-color: #E2EBFA;\n",
              "      box-shadow: 0px 1px 2px rgba(60, 64, 67, 0.3), 0px 1px 3px 1px rgba(60, 64, 67, 0.15);\n",
              "      fill: #174EA6;\n",
              "    }\n",
              "\n",
              "    [theme=dark] .colab-df-convert {\n",
              "      background-color: #3B4455;\n",
              "      fill: #D2E3FC;\n",
              "    }\n",
              "\n",
              "    [theme=dark] .colab-df-convert:hover {\n",
              "      background-color: #434B5C;\n",
              "      box-shadow: 0px 1px 3px 1px rgba(0, 0, 0, 0.15);\n",
              "      filter: drop-shadow(0px 1px 2px rgba(0, 0, 0, 0.3));\n",
              "      fill: #FFFFFF;\n",
              "    }\n",
              "  </style>\n",
              "\n",
              "      <script>\n",
              "        const buttonEl =\n",
              "          document.querySelector('#df-7e76998f-2dc7-4f3d-b619-921603b146b3 button.colab-df-convert');\n",
              "        buttonEl.style.display =\n",
              "          google.colab.kernel.accessAllowed ? 'block' : 'none';\n",
              "\n",
              "        async function convertToInteractive(key) {\n",
              "          const element = document.querySelector('#df-7e76998f-2dc7-4f3d-b619-921603b146b3');\n",
              "          const dataTable =\n",
              "            await google.colab.kernel.invokeFunction('convertToInteractive',\n",
              "                                                     [key], {});\n",
              "          if (!dataTable) return;\n",
              "\n",
              "          const docLinkHtml = 'Like what you see? Visit the ' +\n",
              "            '<a target=\"_blank\" href=https://colab.research.google.com/notebooks/data_table.ipynb>data table notebook</a>'\n",
              "            + ' to learn more about interactive tables.';\n",
              "          element.innerHTML = '';\n",
              "          dataTable['output_type'] = 'display_data';\n",
              "          await google.colab.output.renderOutput(dataTable, element);\n",
              "          const docLink = document.createElement('div');\n",
              "          docLink.innerHTML = docLinkHtml;\n",
              "          element.appendChild(docLink);\n",
              "        }\n",
              "      </script>\n",
              "    </div>\n",
              "  </div>\n",
              "  "
            ]
          },
          "metadata": {},
          "execution_count": 326
        }
      ]
    }
  ]
}