{
  "nbformat": 4,
  "nbformat_minor": 0,
  "metadata": {
    "colab": {
      "provenance": [],
      "authorship_tag": "ABX9TyP5Y1Q9Kus+bN2fQ/X4ru/R",
      "include_colab_link": true
    },
    "kernelspec": {
      "name": "python3",
      "display_name": "Python 3"
    },
    "language_info": {
      "name": "python"
    }
  },
  "cells": [
    {
      "cell_type": "markdown",
      "metadata": {
        "id": "view-in-github",
        "colab_type": "text"
      },
      "source": [
        "<a href=\"https://colab.research.google.com/github/cooeoeooc/2178_g38/blob/main/group38_code_final.ipynb\" target=\"_parent\"><img src=\"https://colab.research.google.com/assets/colab-badge.svg\" alt=\"Open In Colab\"/></a>"
      ]
    },
    {
      "cell_type": "code",
      "execution_count": 2,
      "metadata": {
        "id": "C6LmdeIEhNjd"
      },
      "outputs": [],
      "source": [
        "import pandas as pd\n",
        "import numpy as np"
      ]
    },
    {
      "cell_type": "markdown",
      "source": [
        "# Data Preprocessing and Cleaning"
      ],
      "metadata": {
        "id": "i2nAALQMhfBt"
      }
    },
    {
      "cell_type": "code",
      "source": [
        "data = pd.read_csv(\"https://raw.githubusercontent.com/cooeoeooc/2178_g38/main/Arrests_and_Strip_Searches_(RBDC-ARR-TBL-001).csv\")\n",
        "data.head(5)"
      ],
      "metadata": {
        "id": "YALxVeJghelz"
      },
      "execution_count": 5,
      "outputs": []
    },
    {
      "cell_type": "code",
      "source": [
        "def test_na_num(df):\n",
        "    for column in df:\n",
        "        print(sum(df[column].isna()), column)"
      ],
      "metadata": {
        "id": "8zwiSmGuiLSK"
      },
      "execution_count": 7,
      "outputs": []
    },
    {
      "cell_type": "code",
      "source": [
        "test_na_num(data)"
      ],
      "metadata": {
        "id": "icebRZhziTVX",
        "outputId": "19e4eb42-6122-4a06-b038-3214f348f732",
        "colab": {
          "base_uri": "https://localhost:8080/"
        }
      },
      "execution_count": 8,
      "outputs": [
        {
          "output_type": "stream",
          "name": "stdout",
          "text": [
            "0 Arrest_Year\n",
            "0 Arrest_Month\n",
            "0 EventID\n",
            "469 ArrestID\n",
            "0 PersonID\n",
            "4 Perceived_Race\n",
            "0 Sex\n",
            "24 Age_group__at_arrest_\n",
            "0 Youth_at_arrest__under_18_years\n",
            "0 ArrestLocDiv\n",
            "0 StripSearch\n",
            "0 Booked\n",
            "165 Occurrence_Category\n",
            "0 Actions_at_arrest___Concealed_i\n",
            "0 Actions_at_arrest___Combative__\n",
            "0 Actions_at_arrest___Resisted__d\n",
            "0 Actions_at_arrest___Mental_inst\n",
            "0 Actions_at_arrest___Assaulted_o\n",
            "0 Actions_at_arrest___Cooperative\n",
            "57475 SearchReason_CauseInjury\n",
            "57475 SearchReason_AssistEscape\n",
            "57475 SearchReason_PossessWeapons\n",
            "57475 SearchReason_PossessEvidence\n",
            "57475 ItemsFound\n",
            "0 ObjectId\n"
          ]
        }
      ]
    },
    {
      "cell_type": "code",
      "source": [
        "data = data.dropna(subset = [\"ArrestID\", \"Perceived_Race\", \"Age_group__at_arrest_\", \"Occurrence_Category\"])"
      ],
      "metadata": {
        "id": "W_rVBUuXicA0"
      },
      "execution_count": 11,
      "outputs": []
    },
    {
      "cell_type": "markdown",
      "source": [
        "Establishing exclusion criteria – based on popular Occurrence Categories. "
      ],
      "metadata": {
        "id": "hM-PUL1jkpGZ"
      }
    },
    {
      "cell_type": "code",
      "source": [
        "data[\"Occurrence_Category\"].value_counts() # seeing most popular categories\n",
        "\n",
        "occurrence_replacement_dict = {\"Assault\": 0, \n",
        "                              \"Assault & Other crimes against persons\": 1, \n",
        "                              \"Robbery & Theft\": 2, \n",
        "                              \"Robbery/Theft\": 2, \n",
        "                              \"Warrant\": 3, \n",
        "                              \"FTA/FTC/Compliance Check/Parollee\": 4, \n",
        "                              \"FTA/FTC, Compliance Check & Parollee\": 4, \n",
        "                              \"Police Category - Administrative\": 5, \n",
        "                              \"Drug Related\": 6} # should we add more categories?\n",
        "\n",
        "data[\"Occurrence_Category\"] = data[\"Occurrence_Category\"].replace(occurrence_replacement_dict)\n",
        "data[\"Occurrence_Category\"] = data[\"Occurrence_Category\"].where(data[\"Occurrence_Category\"].isin(list(occurrence_replacement_dict.values())) == True, 7)"
      ],
      "metadata": {
        "id": "Wkg5I_wLknn8"
      },
      "execution_count": 23,
      "outputs": []
    },
    {
      "cell_type": "markdown",
      "source": [
        "# Feature Engineering"
      ],
      "metadata": {
        "id": "YAkx10zYjv6h"
      }
    },
    {
      "cell_type": "markdown",
      "source": [
        "Creating new variables. "
      ],
      "metadata": {
        "id": "-RkZXZEOjyo5"
      }
    },
    {
      "cell_type": "code",
      "source": [
        "data[\"SearchReasonCount\"] = data[\"SearchReason_CauseInjury\"] + data[\"SearchReason_AssistEscape\"] + data[\"SearchReason_PossessWeapons\"] + data[\"SearchReason_PossessEvidence\"]"
      ],
      "metadata": {
        "id": "41_LGxF0jxuA"
      },
      "execution_count": 14,
      "outputs": []
    },
    {
      "cell_type": "code",
      "source": [
        "data[\"UncooperativeActionsCount\"] = data[\"Actions_at_arrest___Concealed_i\"] + data[\"Actions_at_arrest___Combative__\"] + data[\"Actions_at_arrest___Resisted__d\"] + data[\"Actions_at_arrest___Mental_inst\"] + data[\"Actions_at_arrest___Assaulted_o\"]"
      ],
      "metadata": {
        "id": "cFoAtbyTkFB4"
      },
      "execution_count": 15,
      "outputs": []
    }
  ]
}